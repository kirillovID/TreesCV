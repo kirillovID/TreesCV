{
 "cells": [
  {
   "cell_type": "code",
   "execution_count": 1,
   "id": "f6b91d3d-f9d4-43af-9ff9-2e86e2223f2a",
   "metadata": {},
   "outputs": [],
   "source": [
    "import gc\n",
    "import matplotlib.pyplot as plt\n",
    "import numpy as np\n",
    "import os\n",
    "import pandas as pd\n",
    "import seaborn as sns\n",
    "import skimage\n",
    "import torch\n",
    "import torch.nn as nn\n",
    "\n",
    "from torch.utils.data import Dataset, DataLoader, random_split, WeightedRandomSampler\n",
    "from torchvision import datasets\n",
    "from torchvision import transforms as tr\n",
    "from torchvision.io import read_image\n",
    "from torchvision import models\n",
    "from tqdm.notebook import tqdm\n",
    "\n",
    "%matplotlib inline"
   ]
  },
  {
   "cell_type": "code",
   "execution_count": 2,
   "id": "9c23037c-ec65-47aa-a21f-76e992e92946",
   "metadata": {},
   "outputs": [],
   "source": [
    "device = torch.device('cuda' if torch.cuda.is_available() else 'cpu')"
   ]
  },
  {
   "cell_type": "code",
   "execution_count": 3,
   "id": "66dac31b-2375-45e6-ac1b-9d48f9ac5277",
   "metadata": {},
   "outputs": [],
   "source": [
    "data_folder = \"./RGBaHa(26-03-23)\"\n",
    "images_folder = \"RGBaHa\"\n",
    "table_file = \"data.csv\"\n",
    "types_file = \"types.csv\""
   ]
  },
  {
   "cell_type": "code",
   "execution_count": 4,
   "id": "09eeb6ff-11b6-47fd-86ab-6d9367aa30a3",
   "metadata": {},
   "outputs": [],
   "source": [
    "target_column = \"latin\""
   ]
  },
  {
   "cell_type": "code",
   "execution_count": 5,
   "id": "0a346649-aa90-4c73-8ff1-6b94a5270de5",
   "metadata": {},
   "outputs": [],
   "source": [
    "class TreeDataset(Dataset):\n",
    "    def __init__(self, imgs_path, table_path, types_path):\n",
    "        super().__init__()\n",
    "        \n",
    "        self.types = pd.read_csv(types_path, index_col=0)\n",
    "        self.table = pd.read_csv(table_path, index_col=0, converters={\"latin\": lambda x: self.types.loc[x].type if x != \"NA\" else np.nan}).dropna()\n",
    "        self.label_map = {label: i for i, label in enumerate(self.table.latin.unique())}\n",
    "        self.table = self.table.replace({\"latin\": self.label_map})\n",
    "        \n",
    "        self.max_h, self.max_w = 0, 0\n",
    "        self.channel_mean, self.channel_std = 0, 0\n",
    "        self.depth_max = 0\n",
    "        images = []\n",
    "        \n",
    "        for tree_id in self.table.treeID:\n",
    "            file_path = os.path.join(imgs_path, f\"treeID_{tree_id}.tiff\")\n",
    "            img_rgbd = skimage.io.imread(file_path)[:, :, [0, 1, 2, 4]].transpose(2, 0, 1)[None, :, :, :]\n",
    "            self.max_h = max(self.max_h, img_rgbd.shape[2])\n",
    "            self.max_w = max(self.max_w, img_rgbd.shape[3])\n",
    "            images.append(torch.from_numpy(img_rgbd))\n",
    "            self.depth_max = max(self.depth_max, img_rgbd[:, 3, :, :].max())\n",
    "        \n",
    "        padded_images = []\n",
    "        for image in images:\n",
    "            image[:, :3, :, :] /= 255.\n",
    "            image[:, 3, :, :] /= self.depth_max\n",
    "            img_h, img_w = image.shape[2:]\n",
    "            h_pos = (self.max_h - img_h) // 2\n",
    "            w_pos = (self.max_w - img_w) // 2\n",
    "            padded = torch.zeros(1, 4, self.max_h, self.max_w)\n",
    "            padded[:, :, h_pos: h_pos+img_h, w_pos: w_pos+img_w] = image\n",
    "            padded_images.append(padded)            \n",
    "            \n",
    "            self.channel_mean += image.mean(dim=(0, 2, 3))\n",
    "            self.channel_std += image.std(dim=(0, 2, 3))\n",
    "\n",
    "        self.images = torch.cat(padded_images)\n",
    "        self.channel_mean /= len(self.images)\n",
    "        self.channel_std /= len(self.images)\n",
    "        \n",
    "    def __getitem__(self, index):\n",
    "        x = self.images[index].type(torch.FloatTensor)\n",
    "        y = torch.tensor(self.table.iloc[index].loc[target_column], dtype=torch.long)\n",
    "        return x, y\n",
    "    \n",
    "    def __len__(self):\n",
    "        return len(self.table)"
   ]
  },
  {
   "cell_type": "code",
   "execution_count": 6,
   "id": "91072d67-1e5e-49f6-b298-5bd8003472b6",
   "metadata": {},
   "outputs": [],
   "source": [
    "class TreeDatasetFromSubset(Dataset):\n",
    "    def __init__(self, subset, all_transform=None, rgb_transform=None):\n",
    "        self.subset = subset\n",
    "        self.all_transform = all_transform\n",
    "        self.rgb_transform = rgb_transform\n",
    "\n",
    "    def __getitem__(self, index):\n",
    "        x, y = self.subset[index]\n",
    "        if self.all_transform:\n",
    "            x = self.all_transform(x)\n",
    "        if self.rgb_transform:\n",
    "            x[:3, :, :] = self.rgb_transform(x[:3, :, :])\n",
    "        return x[:3, :, :], y\n",
    "\n",
    "    def __len__(self):\n",
    "        return len(self.subset)"
   ]
  },
  {
   "cell_type": "code",
   "execution_count": 7,
   "id": "fb1f33b1-a984-42f7-9460-19352a0c4067",
   "metadata": {},
   "outputs": [],
   "source": [
    "data = TreeDataset(os.path.join(data_folder, images_folder), \n",
    "                   os.path.join(data_folder, table_file), \n",
    "                   os.path.join(data_folder, types_file))"
   ]
  },
  {
   "cell_type": "code",
   "execution_count": 8,
   "id": "746a3a5f-9982-4ccc-bbbc-7b8e1e0ac0d4",
   "metadata": {},
   "outputs": [],
   "source": [
    "train, val, test = random_split(data, [0.70, 0.20, 0.10])"
   ]
  },
  {
   "cell_type": "code",
   "execution_count": 9,
   "id": "cbdf6da4-2c9b-45fa-a444-f4be15ac2d2f",
   "metadata": {},
   "outputs": [],
   "source": [
    "class AddGaussianNoise(object):\n",
    "    def __init__(self, mean=0., std=0.1):\n",
    "        self.std = std\n",
    "        self.mean = mean\n",
    "\n",
    "    def __call__(self, tensor):\n",
    "        return tensor + torch.randn(tensor.size()) * self.std + self.mean\n",
    "\n",
    "    def __repr__(self):\n",
    "        return self.__class__.__name__ + '(mean={0}, std={1})'.format(self.mean, self.std)"
   ]
  },
  {
   "cell_type": "code",
   "execution_count": 10,
   "id": "3147fc50-4409-42e0-913b-e4183b98d722",
   "metadata": {},
   "outputs": [],
   "source": [
    "all_transform = tr.Compose([\n",
    "    tr.Normalize(data.channel_mean, data.channel_std),\n",
    "    tr.RandomHorizontalFlip(),\n",
    "    tr.RandomVerticalFlip(),\n",
    "    tr.RandomAffine(degrees=180),\n",
    "    # tr.RandomApply([AddGaussianNoise(),]),\n",
    "])\n",
    "rgb_transform = tr.Compose([\n",
    "    # tr.RandomAutocontrast(),\n",
    "    # tr.RandomAdjustSharpness(0.5),\n",
    "])\n",
    "\n",
    "prepare_transform = tr.Compose([\n",
    "    tr.Normalize(data.channel_mean, data.channel_std),\n",
    "])"
   ]
  },
  {
   "cell_type": "code",
   "execution_count": 11,
   "id": "8329e489-648f-44a2-9064-33647b61d95a",
   "metadata": {},
   "outputs": [],
   "source": [
    "train_dataset = TreeDatasetFromSubset(train, all_transform=all_transform, rgb_transform=rgb_transform)\n",
    "val_dataset = TreeDatasetFromSubset(val, all_transform=prepare_transform)"
   ]
  },
  {
   "cell_type": "code",
   "execution_count": 12,
   "id": "434111be-074b-4694-a927-30e4ec6cb5a1",
   "metadata": {},
   "outputs": [
    {
     "name": "stderr",
     "output_type": "stream",
     "text": [
      "Clipping input data to the valid range for imshow with RGB data ([0..1] for floats or [0..255] for integers).\n"
     ]
    },
    {
     "name": "stdout",
     "output_type": "stream",
     "text": [
      "Targets:\n",
      "tensor(4)\n"
     ]
    },
    {
     "data": {
      "image/png": "[encoded data removed]",
      "text/plain": [
       "<Figure size 640x480 with 1 Axes>"
      ]
     },
     "metadata": {},
     "output_type": "display_data"
    }
   ],
   "source": [
    "print(\"Targets:\")\n",
    "idx = np.random.randint(0, 100)\n",
    "print(train_dataset[idx][1])\n",
    "plt.imshow(train_dataset[idx][0].movedim(0, -1))\n",
    "plt.show()"
   ]
  },
  {
   "cell_type": "code",
   "execution_count": 13,
   "id": "f628d22c-9274-4354-81b6-24fd69e760df",
   "metadata": {},
   "outputs": [],
   "source": [
    "def make_weights_for_balanced_classes(data, indices=None):\n",
    "    n_images = len(data.table)\n",
    "    count_per_class = np.bincount(data.table.latin, minlength=len(data.table.latin.unique()))\n",
    "    weight_per_class = (float(n_images) / count_per_class)\n",
    "    weights = weight_per_class[data.table.latin]\n",
    "    if indices:\n",
    "        weights = weights[indices]\n",
    "    return torch.tensor(weights)"
   ]
  },
  {
   "cell_type": "code",
   "execution_count": 14,
   "id": "8820daa8-89f4-4703-a7fa-2cafc8702ffe",
   "metadata": {},
   "outputs": [],
   "source": [
    "BATCH_SIZE = 2\n",
    "\n",
    "train_weights = make_weights_for_balanced_classes(train.dataset, train.indices)\n",
    "train_sampler = WeightedRandomSampler(train_weights, len(train_weights))\n",
    "train_dataloader = DataLoader(\n",
    "    dataset=train_dataset,\n",
    "    batch_size=BATCH_SIZE,\n",
    "    sampler=train_sampler,\n",
    "    drop_last=True,\n",
    ")\n",
    "\n",
    "val_dataloader = DataLoader(\n",
    "    dataset=val_dataset,\n",
    "    batch_size=BATCH_SIZE,\n",
    "    shuffle=False,\n",
    "    drop_last=False,\n",
    ")\n",
    "\n",
    "all_loader = DataLoader(\n",
    "    dataset=TreeDatasetFromSubset(data, prepare_transform),\n",
    "    batch_size=BATCH_SIZE,\n",
    "    shuffle=False,\n",
    "    drop_last=False,\n",
    ")"
   ]
  },
  {
   "cell_type": "code",
   "execution_count": 15,
   "id": "c57a7452-7158-4d13-b754-53a8d41bce28",
   "metadata": {},
   "outputs": [],
   "source": [
    "class ResidualBlock(nn.Module):\n",
    "    def __init__(self, in_channels, out_channels):\n",
    "        super().__init__()\n",
    "        stride = (2, 2) if in_channels != out_channels else (1, 1)\n",
    "\n",
    "        self.shortcut = nn.Identity()\n",
    "        if in_channels != out_channels:\n",
    "            self.shortcut = nn.Sequential(\n",
    "                nn.Conv2d(in_channels, out_channels, (1, 1), stride, bias=False),\n",
    "                nn.BatchNorm2d(out_channels)\n",
    "            )\n",
    "        self.activation = nn.ReLU()\n",
    "        self.conv1 = nn.Conv2d(in_channels, out_channels, (3, 3), stride, padding=(1, 1), bias=False)\n",
    "        self.conv2 = nn.Conv2d(out_channels, out_channels, (3, 3), padding=(1, 1), bias=False)\n",
    "        self.bn1 = nn.BatchNorm2d(out_channels)\n",
    "        self.bn2 = nn.BatchNorm2d(out_channels)\n",
    "        \n",
    "    def forward(self, x):\n",
    "        residual = self.shortcut(x)\n",
    "        \n",
    "        x = self.conv1(x)\n",
    "        x = self.bn1(x)\n",
    "        x = self.activation(x)\n",
    "        x = self.conv2(x)\n",
    "        x = self.bn2(x)\n",
    "        x = self.activation(x)\n",
    "\n",
    "        return x + residual\n",
    "\n",
    "\n",
    "class ResNetLayer(nn.Module):\n",
    "    def __init__(self, in_channels, out_channels):\n",
    "        super().__init__()\n",
    "        \n",
    "        self.blocks = nn.Sequential(\n",
    "            ResidualBlock(in_channels, out_channels),\n",
    "            ResidualBlock(out_channels, out_channels)\n",
    "        )\n",
    "        \n",
    "    def forward(self, x):\n",
    "        x = self.blocks(x)\n",
    "        return x"
   ]
  },
  {
   "cell_type": "code",
   "execution_count": 16,
   "id": "9774cdca-3241-40e1-8b5f-f0e3a8d9a371",
   "metadata": {},
   "outputs": [],
   "source": [
    "class ResNet18(nn.Module):\n",
    "    def __init__(self, out_channels=32, layer_num=3, fc_hidden=128, in_channels=3, classes_num=len(data.label_map)):\n",
    "        super().__init__()\n",
    "        \n",
    "        self.conv1 = nn.Conv2d(in_channels, out_channels, (3, 3), padding=(1, 1), bias=True)\n",
    "        self.bn1 = nn.BatchNorm2d(out_channels)\n",
    "        self.activation = nn.ReLU()\n",
    "        self.maxpool = nn.MaxPool2d((2, 2))\n",
    "        self.layers = nn.Sequential(\n",
    "            ResNetLayer(out_channels, out_channels),\n",
    "            *[ResNetLayer(2**i * out_channels, 2**(i+1) * out_channels) for i in range(layer_num - 1)],\n",
    "        )\n",
    "        self.avgpool = nn.AdaptiveAvgPool2d((1, 1))\n",
    "        self.flatten = nn.Flatten()\n",
    "        \n",
    "        # predicting tree species\n",
    "        self.fc_clf = nn.Sequential(\n",
    "            nn.Linear(2**(layer_num - 1) * out_channels, fc_hidden),\n",
    "            nn.BatchNorm1d(fc_hidden),\n",
    "            nn.ReLU(),\n",
    "            nn.Dropout(0.4),\n",
    "            nn.Linear(fc_hidden, classes_num),\n",
    "            nn.LogSoftmax(dim=1),\n",
    "        )\n",
    "\n",
    "    def forward(self, x):\n",
    "        x = self.conv1(x)\n",
    "        x = self.bn1(x)\n",
    "        x = self.activation(x)\n",
    "        x = self.maxpool(x)\n",
    "        \n",
    "        x = self.layers(x)\n",
    "        \n",
    "        x = self.avgpool(x)\n",
    "        x = self.flatten(x)\n",
    "        \n",
    "        x_clf = self.fc_clf(x)\n",
    "        return x_clf"
   ]
  },
  {
   "cell_type": "code",
   "execution_count": 17,
   "id": "bb6cef09-26d7-44bf-be55-db8aa602b912",
   "metadata": {},
   "outputs": [],
   "source": [
    "import IPython\n",
    "\n",
    "\n",
    "def train_loop(model, dataloader, loss_clf_fn, optimizer, step=0.05, history_loss=None, history_acc=None):\n",
    "    out = display(IPython.display.Pretty('Learning...'), display_id=True)\n",
    "\n",
    "    size = len(dataloader.dataset)\n",
    "    num_batches = len(dataloader)\n",
    "    \n",
    "    train_acc = []\n",
    "    train_loss = []\n",
    "    percentage = 0\n",
    "    \n",
    "    for batch, (X, y_clf) in enumerate(tqdm(dataloader, leave=False, desc=\"Batch #\")):\n",
    "        torch.cuda.empty_cache()\n",
    "        gc.collect()\n",
    "        \n",
    "        X = X.to(device)\n",
    "        y_clf = y_clf.to(device)\n",
    "        pred_clf = model(X)\n",
    "        loss = loss_clf_fn(pred_clf, y_clf)\n",
    "        train_acc.append((pred_clf.argmax(1) == y_clf).type(torch.float).mean().item())\n",
    "        train_loss.append(loss.item())\n",
    "        \n",
    "        optimizer.zero_grad()\n",
    "        loss.backward()\n",
    "        optimizer.step()\n",
    "        \n",
    "        if batch / (num_batches - 1) >= percentage:\n",
    "            percentage = int(batch / (num_batches - 1) / step) * step\n",
    "            out.update(f'[{int(percentage * size)}/{size}] Batch NLL Loss: {loss.item():>8f}')\n",
    "        \n",
    "    if history_loss is not None:\n",
    "        history_loss.append(np.mean(train_loss))\n",
    "    if history_acc is not None:\n",
    "        history_acc.append(np.mean(train_acc))\n",
    "\n",
    "    return {'train_loss': np.mean(train_loss), 'train_acc': np.mean(train_acc)}\n",
    "\n",
    "\n",
    "def test_loop(model, dataloader,  loss_clf_fn, history_loss=None, history_acc=None):\n",
    "    size = len(dataloader.dataset)\n",
    "    num_batches = len(dataloader)\n",
    "    \n",
    "    val_acc = []\n",
    "    val_loss = []\n",
    "    correct = 0\n",
    "\n",
    "    with torch.no_grad():\n",
    "        for batch, (X, y_clf) in enumerate(tqdm(dataloader, leave=False, desc=\"Batch #\")):\n",
    "            torch.cuda.empty_cache()\n",
    "            gc.collect()\n",
    "        \n",
    "            X = X.to(device)\n",
    "            y_clf = y_clf.to(device)\n",
    "            pred_clf = model(X)\n",
    "            loss = loss_clf_fn(pred_clf, y_clf)\n",
    "            val_acc.append((pred_clf.argmax(1) == y_clf).type(torch.float).mean().item())\n",
    "            val_loss.append(loss.item())\n",
    "            correct += (pred_clf.argmax(1) == y_clf).type(torch.float).sum().item()\n",
    "\n",
    "        correct /= size\n",
    "        total_loss = np.mean(val_loss)\n",
    "        print(f\"Validation accuracy: {(100*correct):>0.1f}%, Validation NLL Loss: {total_loss:>8f} \\n\")\n",
    "\n",
    "    if history_loss is not None:\n",
    "        history_loss.append(total_loss)\n",
    "    if history_acc is not None:\n",
    "        history_acc.append(correct)\n",
    "    \n",
    "    return {'val_loss': total_loss, 'val_acc': correct}"
   ]
  },
  {
   "cell_type": "code",
   "execution_count": 18,
   "id": "203adf5a-86ad-490b-8ad0-55e61bd1386c",
   "metadata": {},
   "outputs": [],
   "source": [
    "def plot_learning_process(train_loss, val_loss, title):\n",
    "    \n",
    "    fig = plt.figure(figsize=(12, 4))\n",
    "    \n",
    "    ax1 = plt.subplot(121)\n",
    "    ax1.plot(np.arange(0, len(train_loss)) + 1, train_loss, label='train')\n",
    "    ax1.plot(np.arange(0, len(val_loss)) + 1, val_loss, label='val')\n",
    "    ax1.legend()\n",
    "    ax1.grid()\n",
    "    ax1.set_xlabel('epoch')\n",
    "    ax1.set_ylabel(title.split()[0])\n",
    "    ax1.set_title(title)\n",
    "    \n",
    "    fig.tight_layout()\n",
    "    plt.show()"
   ]
  },
  {
   "cell_type": "code",
   "execution_count": 19,
   "id": "9c2e5600-f328-45a5-af72-5fa2927d622d",
   "metadata": {},
   "outputs": [
    {
     "data": {
      "application/vnd.jupyter.widget-view+json": {
       "model_id": "269a21773f964d96a03878c9d05b87a8",
       "version_major": 2,
       "version_minor": 0
      },
      "text/plain": [
       "  0%|          | 0/1 [00:00<?, ?it/s]"
      ]
     },
     "metadata": {},
     "output_type": "display_data"
    },
    {
     "data": {
      "application/vnd.jupyter.widget-view+json": {
       "model_id": "958dcb9f4ee84e7f9cca4cb0e7a6d488",
       "version_major": 2,
       "version_minor": 0
      },
      "text/plain": [
       "  0%|          | 0/1 [00:00<?, ?it/s]"
      ]
     },
     "metadata": {},
     "output_type": "display_data"
    },
    {
     "data": {
      "application/vnd.jupyter.widget-view+json": {
       "model_id": "09725d6fece5440d8db7d6a2fcbedf56",
       "version_major": 2,
       "version_minor": 0
      },
      "text/plain": [
       "  0%|          | 0/1 [00:00<?, ?it/s]"
      ]
     },
     "metadata": {},
     "output_type": "display_data"
    },
    {
     "name": "stdout",
     "output_type": "stream",
     "text": [
      "Epoch 1\n",
      "-------------------------------\n"
     ]
    },
    {
     "data": {
      "text/plain": [
       "'[318/318] Batch NLL Loss: 2.060385'"
      ]
     },
     "metadata": {},
     "output_type": "display_data"
    },
    {
     "data": {
      "application/vnd.jupyter.widget-view+json": {
       "model_id": "",
       "version_major": 2,
       "version_minor": 0
      },
      "text/plain": [
       "Batch #:   0%|          | 0/159 [00:00<?, ?it/s]"
      ]
     },
     "metadata": {},
     "output_type": "display_data"
    },
    {
     "data": {
      "application/vnd.jupyter.widget-view+json": {
       "model_id": "",
       "version_major": 2,
       "version_minor": 0
      },
      "text/plain": [
       "Batch #:   0%|          | 0/45 [00:00<?, ?it/s]"
      ]
     },
     "metadata": {},
     "output_type": "display_data"
    },
    {
     "name": "stdout",
     "output_type": "stream",
     "text": [
      "Validation accuracy: 13.3%, Validation NLL Loss: 2.096744 \n",
      "\n",
      "Epoch 2\n",
      "-------------------------------\n"
     ]
    },
    {
     "data": {
      "text/plain": [
       "'[318/318] Batch NLL Loss: 1.883809'"
      ]
     },
     "metadata": {},
     "output_type": "display_data"
    },
    {
     "data": {
      "application/vnd.jupyter.widget-view+json": {
       "model_id": "",
       "version_major": 2,
       "version_minor": 0
      },
      "text/plain": [
       "Batch #:   0%|          | 0/159 [00:00<?, ?it/s]"
      ]
     },
     "metadata": {},
     "output_type": "display_data"
    },
    {
     "data": {
      "application/vnd.jupyter.widget-view+json": {
       "model_id": "",
       "version_major": 2,
       "version_minor": 0
      },
      "text/plain": [
       "Batch #:   0%|          | 0/45 [00:00<?, ?it/s]"
      ]
     },
     "metadata": {},
     "output_type": "display_data"
    },
    {
     "name": "stdout",
     "output_type": "stream",
     "text": [
      "Validation accuracy: 24.4%, Validation NLL Loss: 1.959503 \n",
      "\n",
      "Epoch 3\n",
      "-------------------------------\n"
     ]
    },
    {
     "data": {
      "text/plain": [
       "'[318/318] Batch NLL Loss: 1.474814'"
      ]
     },
     "metadata": {},
     "output_type": "display_data"
    },
    {
     "data": {
      "application/vnd.jupyter.widget-view+json": {
       "model_id": "",
       "version_major": 2,
       "version_minor": 0
      },
      "text/plain": [
       "Batch #:   0%|          | 0/159 [00:00<?, ?it/s]"
      ]
     },
     "metadata": {},
     "output_type": "display_data"
    },
    {
     "data": {
      "application/vnd.jupyter.widget-view+json": {
       "model_id": "",
       "version_major": 2,
       "version_minor": 0
      },
      "text/plain": [
       "Batch #:   0%|          | 0/45 [00:00<?, ?it/s]"
      ]
     },
     "metadata": {},
     "output_type": "display_data"
    },
    {
     "name": "stdout",
     "output_type": "stream",
     "text": [
      "Validation accuracy: 18.9%, Validation NLL Loss: 2.139428 \n",
      "\n",
      "Epoch 4\n",
      "-------------------------------\n"
     ]
    },
    {
     "data": {
      "text/plain": [
       "'[318/318] Batch NLL Loss: 1.467251'"
      ]
     },
     "metadata": {},
     "output_type": "display_data"
    },
    {
     "data": {
      "application/vnd.jupyter.widget-view+json": {
       "model_id": "",
       "version_major": 2,
       "version_minor": 0
      },
      "text/plain": [
       "Batch #:   0%|          | 0/159 [00:00<?, ?it/s]"
      ]
     },
     "metadata": {},
     "output_type": "display_data"
    },
    {
     "data": {
      "application/vnd.jupyter.widget-view+json": {
       "model_id": "",
       "version_major": 2,
       "version_minor": 0
      },
      "text/plain": [
       "Batch #:   0%|          | 0/45 [00:00<?, ?it/s]"
      ]
     },
     "metadata": {},
     "output_type": "display_data"
    },
    {
     "name": "stdout",
     "output_type": "stream",
     "text": [
      "Validation accuracy: 24.4%, Validation NLL Loss: 1.967482 \n",
      "\n",
      "Epoch 5\n",
      "-------------------------------\n"
     ]
    },
    {
     "data": {
      "text/plain": [
       "'[318/318] Batch NLL Loss: 2.140888'"
      ]
     },
     "metadata": {},
     "output_type": "display_data"
    },
    {
     "data": {
      "application/vnd.jupyter.widget-view+json": {
       "model_id": "",
       "version_major": 2,
       "version_minor": 0
      },
      "text/plain": [
       "Batch #:   0%|          | 0/159 [00:00<?, ?it/s]"
      ]
     },
     "metadata": {},
     "output_type": "display_data"
    },
    {
     "data": {
      "application/vnd.jupyter.widget-view+json": {
       "model_id": "",
       "version_major": 2,
       "version_minor": 0
      },
      "text/plain": [
       "Batch #:   0%|          | 0/45 [00:00<?, ?it/s]"
      ]
     },
     "metadata": {},
     "output_type": "display_data"
    },
    {
     "name": "stdout",
     "output_type": "stream",
     "text": [
      "Validation accuracy: 23.3%, Validation NLL Loss: 1.971792 \n",
      "\n",
      "Epoch 6\n",
      "-------------------------------\n"
     ]
    },
    {
     "data": {
      "text/plain": [
       "'[318/318] Batch NLL Loss: 1.564471'"
      ]
     },
     "metadata": {},
     "output_type": "display_data"
    },
    {
     "data": {
      "application/vnd.jupyter.widget-view+json": {
       "model_id": "",
       "version_major": 2,
       "version_minor": 0
      },
      "text/plain": [
       "Batch #:   0%|          | 0/159 [00:00<?, ?it/s]"
      ]
     },
     "metadata": {},
     "output_type": "display_data"
    },
    {
     "data": {
      "application/vnd.jupyter.widget-view+json": {
       "model_id": "",
       "version_major": 2,
       "version_minor": 0
      },
      "text/plain": [
       "Batch #:   0%|          | 0/45 [00:00<?, ?it/s]"
      ]
     },
     "metadata": {},
     "output_type": "display_data"
    },
    {
     "name": "stdout",
     "output_type": "stream",
     "text": [
      "Validation accuracy: 18.9%, Validation NLL Loss: 1.965914 \n",
      "\n",
      "Epoch 7\n",
      "-------------------------------\n"
     ]
    },
    {
     "data": {
      "text/plain": [
       "'[318/318] Batch NLL Loss: 2.940181'"
      ]
     },
     "metadata": {},
     "output_type": "display_data"
    },
    {
     "data": {
      "application/vnd.jupyter.widget-view+json": {
       "model_id": "",
       "version_major": 2,
       "version_minor": 0
      },
      "text/plain": [
       "Batch #:   0%|          | 0/159 [00:00<?, ?it/s]"
      ]
     },
     "metadata": {},
     "output_type": "display_data"
    },
    {
     "data": {
      "application/vnd.jupyter.widget-view+json": {
       "model_id": "",
       "version_major": 2,
       "version_minor": 0
      },
      "text/plain": [
       "Batch #:   0%|          | 0/45 [00:00<?, ?it/s]"
      ]
     },
     "metadata": {},
     "output_type": "display_data"
    },
    {
     "name": "stdout",
     "output_type": "stream",
     "text": [
      "Validation accuracy: 37.8%, Validation NLL Loss: 1.852230 \n",
      "\n",
      "Epoch 8\n",
      "-------------------------------\n"
     ]
    },
    {
     "data": {
      "text/plain": [
       "'[318/318] Batch NLL Loss: 1.570512'"
      ]
     },
     "metadata": {},
     "output_type": "display_data"
    },
    {
     "data": {
      "application/vnd.jupyter.widget-view+json": {
       "model_id": "",
       "version_major": 2,
       "version_minor": 0
      },
      "text/plain": [
       "Batch #:   0%|          | 0/159 [00:00<?, ?it/s]"
      ]
     },
     "metadata": {},
     "output_type": "display_data"
    },
    {
     "data": {
      "application/vnd.jupyter.widget-view+json": {
       "model_id": "",
       "version_major": 2,
       "version_minor": 0
      },
      "text/plain": [
       "Batch #:   0%|          | 0/45 [00:00<?, ?it/s]"
      ]
     },
     "metadata": {},
     "output_type": "display_data"
    },
    {
     "name": "stdout",
     "output_type": "stream",
     "text": [
      "Validation accuracy: 20.0%, Validation NLL Loss: 2.048977 \n",
      "\n",
      "Epoch 9\n",
      "-------------------------------\n"
     ]
    },
    {
     "data": {
      "text/plain": [
       "'[318/318] Batch NLL Loss: 1.659599'"
      ]
     },
     "metadata": {},
     "output_type": "display_data"
    },
    {
     "data": {
      "application/vnd.jupyter.widget-view+json": {
       "model_id": "",
       "version_major": 2,
       "version_minor": 0
      },
      "text/plain": [
       "Batch #:   0%|          | 0/159 [00:00<?, ?it/s]"
      ]
     },
     "metadata": {},
     "output_type": "display_data"
    },
    {
     "data": {
      "application/vnd.jupyter.widget-view+json": {
       "model_id": "",
       "version_major": 2,
       "version_minor": 0
      },
      "text/plain": [
       "Batch #:   0%|          | 0/45 [00:00<?, ?it/s]"
      ]
     },
     "metadata": {},
     "output_type": "display_data"
    },
    {
     "name": "stdout",
     "output_type": "stream",
     "text": [
      "Validation accuracy: 33.3%, Validation NLL Loss: 1.860573 \n",
      "\n",
      "Epoch 10\n",
      "-------------------------------\n"
     ]
    },
    {
     "data": {
      "text/plain": [
       "'[318/318] Batch NLL Loss: 2.542070'"
      ]
     },
     "metadata": {},
     "output_type": "display_data"
    },
    {
     "data": {
      "application/vnd.jupyter.widget-view+json": {
       "model_id": "",
       "version_major": 2,
       "version_minor": 0
      },
      "text/plain": [
       "Batch #:   0%|          | 0/159 [00:00<?, ?it/s]"
      ]
     },
     "metadata": {},
     "output_type": "display_data"
    },
    {
     "data": {
      "application/vnd.jupyter.widget-view+json": {
       "model_id": "",
       "version_major": 2,
       "version_minor": 0
      },
      "text/plain": [
       "Batch #:   0%|          | 0/45 [00:00<?, ?it/s]"
      ]
     },
     "metadata": {},
     "output_type": "display_data"
    },
    {
     "name": "stdout",
     "output_type": "stream",
     "text": [
      "Validation accuracy: 20.0%, Validation NLL Loss: 2.026029 \n",
      "\n",
      "Epoch 11\n",
      "-------------------------------\n"
     ]
    },
    {
     "data": {
      "text/plain": [
       "'[318/318] Batch NLL Loss: 0.994101'"
      ]
     },
     "metadata": {},
     "output_type": "display_data"
    },
    {
     "data": {
      "application/vnd.jupyter.widget-view+json": {
       "model_id": "",
       "version_major": 2,
       "version_minor": 0
      },
      "text/plain": [
       "Batch #:   0%|          | 0/159 [00:00<?, ?it/s]"
      ]
     },
     "metadata": {},
     "output_type": "display_data"
    },
    {
     "data": {
      "application/vnd.jupyter.widget-view+json": {
       "model_id": "",
       "version_major": 2,
       "version_minor": 0
      },
      "text/plain": [
       "Batch #:   0%|          | 0/45 [00:00<?, ?it/s]"
      ]
     },
     "metadata": {},
     "output_type": "display_data"
    },
    {
     "name": "stdout",
     "output_type": "stream",
     "text": [
      "Validation accuracy: 32.2%, Validation NLL Loss: 1.731325 \n",
      "\n",
      "Epoch 12\n",
      "-------------------------------\n"
     ]
    },
    {
     "data": {
      "text/plain": [
       "'[318/318] Batch NLL Loss: 2.209766'"
      ]
     },
     "metadata": {},
     "output_type": "display_data"
    },
    {
     "data": {
      "application/vnd.jupyter.widget-view+json": {
       "model_id": "",
       "version_major": 2,
       "version_minor": 0
      },
      "text/plain": [
       "Batch #:   0%|          | 0/159 [00:00<?, ?it/s]"
      ]
     },
     "metadata": {},
     "output_type": "display_data"
    },
    {
     "data": {
      "application/vnd.jupyter.widget-view+json": {
       "model_id": "c55372870cf64c00881a968cbad0ddb8",
       "version_major": 2,
       "version_minor": 0
      },
      "text/plain": [
       "Batch #:   0%|          | 0/45 [00:00<?, ?it/s]"
      ]
     },
     "metadata": {},
     "output_type": "display_data"
    },
    {
     "name": "stdout",
     "output_type": "stream",
     "text": [
      "Validation accuracy: 24.4%, Validation NLL Loss: 1.865048 \n",
      "\n",
      "Epoch 13\n",
      "-------------------------------\n"
     ]
    },
    {
     "data": {
      "text/plain": [
       "'[318/318] Batch NLL Loss: 0.947368'"
      ]
     },
     "metadata": {},
     "output_type": "display_data"
    },
    {
     "data": {
      "application/vnd.jupyter.widget-view+json": {
       "model_id": "39f8cb3ab2db48dd9632829a44bf7538",
       "version_major": 2,
       "version_minor": 0
      },
      "text/plain": [
       "Batch #:   0%|          | 0/159 [00:00<?, ?it/s]"
      ]
     },
     "metadata": {},
     "output_type": "display_data"
    },
    {
     "data": {
      "application/vnd.jupyter.widget-view+json": {
       "model_id": "ee690dacfea9482aa13408ef9ed980b3",
       "version_major": 2,
       "version_minor": 0
      },
      "text/plain": [
       "Batch #:   0%|          | 0/45 [00:00<?, ?it/s]"
      ]
     },
     "metadata": {},
     "output_type": "display_data"
    },
    {
     "name": "stdout",
     "output_type": "stream",
     "text": [
      "Validation accuracy: 41.1%, Validation NLL Loss: 1.776526 \n",
      "\n",
      "Epoch 14\n",
      "-------------------------------\n"
     ]
    },
    {
     "data": {
      "text/plain": [
       "'[318/318] Batch NLL Loss: 1.098891'"
      ]
     },
     "metadata": {},
     "output_type": "display_data"
    },
    {
     "data": {
      "application/vnd.jupyter.widget-view+json": {
       "model_id": "1f8cfed79e2b4fc2a08f1c05a8f36605",
       "version_major": 2,
       "version_minor": 0
      },
      "text/plain": [
       "Batch #:   0%|          | 0/159 [00:00<?, ?it/s]"
      ]
     },
     "metadata": {},
     "output_type": "display_data"
    },
    {
     "data": {
      "application/vnd.jupyter.widget-view+json": {
       "model_id": "5581c02635214267869af77df1cfb170",
       "version_major": 2,
       "version_minor": 0
      },
      "text/plain": [
       "Batch #:   0%|          | 0/45 [00:00<?, ?it/s]"
      ]
     },
     "metadata": {},
     "output_type": "display_data"
    },
    {
     "name": "stdout",
     "output_type": "stream",
     "text": [
      "Validation accuracy: 36.7%, Validation NLL Loss: 1.826806 \n",
      "\n",
      "Epoch 15\n",
      "-------------------------------\n"
     ]
    },
    {
     "data": {
      "text/plain": [
       "'[318/318] Batch NLL Loss: 2.065687'"
      ]
     },
     "metadata": {},
     "output_type": "display_data"
    },
    {
     "data": {
      "application/vnd.jupyter.widget-view+json": {
       "model_id": "1641deadb2384245965d882dcc83e94f",
       "version_major": 2,
       "version_minor": 0
      },
      "text/plain": [
       "Batch #:   0%|          | 0/159 [00:00<?, ?it/s]"
      ]
     },
     "metadata": {},
     "output_type": "display_data"
    },
    {
     "data": {
      "application/vnd.jupyter.widget-view+json": {
       "model_id": "aa3f00e781cc46dabfad362c7d4ff6e3",
       "version_major": 2,
       "version_minor": 0
      },
      "text/plain": [
       "Batch #:   0%|          | 0/45 [00:00<?, ?it/s]"
      ]
     },
     "metadata": {},
     "output_type": "display_data"
    },
    {
     "name": "stdout",
     "output_type": "stream",
     "text": [
      "Validation accuracy: 33.3%, Validation NLL Loss: 1.785531 \n",
      "\n",
      "Epoch 16\n",
      "-------------------------------\n"
     ]
    },
    {
     "data": {
      "text/plain": [
       "'[318/318] Batch NLL Loss: 0.575539'"
      ]
     },
     "metadata": {},
     "output_type": "display_data"
    },
    {
     "data": {
      "application/vnd.jupyter.widget-view+json": {
       "model_id": "",
       "version_major": 2,
       "version_minor": 0
      },
      "text/plain": [
       "Batch #:   0%|          | 0/159 [00:00<?, ?it/s]"
      ]
     },
     "metadata": {},
     "output_type": "display_data"
    },
    {
     "data": {
      "application/vnd.jupyter.widget-view+json": {
       "model_id": "",
       "version_major": 2,
       "version_minor": 0
      },
      "text/plain": [
       "Batch #:   0%|          | 0/45 [00:00<?, ?it/s]"
      ]
     },
     "metadata": {},
     "output_type": "display_data"
    },
    {
     "name": "stdout",
     "output_type": "stream",
     "text": [
      "Validation accuracy: 35.6%, Validation NLL Loss: 1.878713 \n",
      "\n",
      "Epoch 17\n",
      "-------------------------------\n"
     ]
    },
    {
     "data": {
      "text/plain": [
       "'[318/318] Batch NLL Loss: 0.388610'"
      ]
     },
     "metadata": {},
     "output_type": "display_data"
    },
    {
     "data": {
      "application/vnd.jupyter.widget-view+json": {
       "model_id": "",
       "version_major": 2,
       "version_minor": 0
      },
      "text/plain": [
       "Batch #:   0%|          | 0/159 [00:00<?, ?it/s]"
      ]
     },
     "metadata": {},
     "output_type": "display_data"
    },
    {
     "data": {
      "application/vnd.jupyter.widget-view+json": {
       "model_id": "",
       "version_major": 2,
       "version_minor": 0
      },
      "text/plain": [
       "Batch #:   0%|          | 0/45 [00:00<?, ?it/s]"
      ]
     },
     "metadata": {},
     "output_type": "display_data"
    },
    {
     "name": "stdout",
     "output_type": "stream",
     "text": [
      "Validation accuracy: 33.3%, Validation NLL Loss: 1.854773 \n",
      "\n",
      "Epoch 18\n",
      "-------------------------------\n"
     ]
    },
    {
     "data": {
      "text/plain": [
       "'[318/318] Batch NLL Loss: 0.646540'"
      ]
     },
     "metadata": {},
     "output_type": "display_data"
    },
    {
     "data": {
      "application/vnd.jupyter.widget-view+json": {
       "model_id": "",
       "version_major": 2,
       "version_minor": 0
      },
      "text/plain": [
       "Batch #:   0%|          | 0/159 [00:00<?, ?it/s]"
      ]
     },
     "metadata": {},
     "output_type": "display_data"
    },
    {
     "data": {
      "application/vnd.jupyter.widget-view+json": {
       "model_id": "",
       "version_major": 2,
       "version_minor": 0
      },
      "text/plain": [
       "Batch #:   0%|          | 0/45 [00:00<?, ?it/s]"
      ]
     },
     "metadata": {},
     "output_type": "display_data"
    },
    {
     "name": "stdout",
     "output_type": "stream",
     "text": [
      "Validation accuracy: 31.1%, Validation NLL Loss: 1.875493 \n",
      "\n",
      "Epoch 19\n",
      "-------------------------------\n"
     ]
    },
    {
     "data": {
      "text/plain": [
       "'[318/318] Batch NLL Loss: 1.292193'"
      ]
     },
     "metadata": {},
     "output_type": "display_data"
    },
    {
     "data": {
      "application/vnd.jupyter.widget-view+json": {
       "model_id": "",
       "version_major": 2,
       "version_minor": 0
      },
      "text/plain": [
       "Batch #:   0%|          | 0/159 [00:00<?, ?it/s]"
      ]
     },
     "metadata": {},
     "output_type": "display_data"
    },
    {
     "data": {
      "application/vnd.jupyter.widget-view+json": {
       "model_id": "",
       "version_major": 2,
       "version_minor": 0
      },
      "text/plain": [
       "Batch #:   0%|          | 0/45 [00:00<?, ?it/s]"
      ]
     },
     "metadata": {},
     "output_type": "display_data"
    },
    {
     "name": "stdout",
     "output_type": "stream",
     "text": [
      "Validation accuracy: 41.1%, Validation NLL Loss: 1.716526 \n",
      "\n",
      "Epoch 20\n",
      "-------------------------------\n"
     ]
    },
    {
     "data": {
      "text/plain": [
       "'[318/318] Batch NLL Loss: 1.075735'"
      ]
     },
     "metadata": {},
     "output_type": "display_data"
    },
    {
     "data": {
      "application/vnd.jupyter.widget-view+json": {
       "model_id": "",
       "version_major": 2,
       "version_minor": 0
      },
      "text/plain": [
       "Batch #:   0%|          | 0/159 [00:00<?, ?it/s]"
      ]
     },
     "metadata": {},
     "output_type": "display_data"
    },
    {
     "data": {
      "application/vnd.jupyter.widget-view+json": {
       "model_id": "",
       "version_major": 2,
       "version_minor": 0
      },
      "text/plain": [
       "Batch #:   0%|          | 0/45 [00:00<?, ?it/s]"
      ]
     },
     "metadata": {},
     "output_type": "display_data"
    },
    {
     "name": "stdout",
     "output_type": "stream",
     "text": [
      "Validation accuracy: 45.6%, Validation NLL Loss: 1.686169 \n",
      "\n",
      "Epoch 21\n",
      "-------------------------------\n"
     ]
    },
    {
     "data": {
      "text/plain": [
       "'[318/318] Batch NLL Loss: 0.767346'"
      ]
     },
     "metadata": {},
     "output_type": "display_data"
    },
    {
     "data": {
      "application/vnd.jupyter.widget-view+json": {
       "model_id": "",
       "version_major": 2,
       "version_minor": 0
      },
      "text/plain": [
       "Batch #:   0%|          | 0/159 [00:00<?, ?it/s]"
      ]
     },
     "metadata": {},
     "output_type": "display_data"
    },
    {
     "data": {
      "application/vnd.jupyter.widget-view+json": {
       "model_id": "",
       "version_major": 2,
       "version_minor": 0
      },
      "text/plain": [
       "Batch #:   0%|          | 0/45 [00:00<?, ?it/s]"
      ]
     },
     "metadata": {},
     "output_type": "display_data"
    },
    {
     "name": "stdout",
     "output_type": "stream",
     "text": [
      "Validation accuracy: 45.6%, Validation NLL Loss: 1.672856 \n",
      "\n",
      "Epoch 22\n",
      "-------------------------------\n"
     ]
    },
    {
     "data": {
      "text/plain": [
       "'[318/318] Batch NLL Loss: 0.536822'"
      ]
     },
     "metadata": {},
     "output_type": "display_data"
    },
    {
     "data": {
      "application/vnd.jupyter.widget-view+json": {
       "model_id": "",
       "version_major": 2,
       "version_minor": 0
      },
      "text/plain": [
       "Batch #:   0%|          | 0/159 [00:00<?, ?it/s]"
      ]
     },
     "metadata": {},
     "output_type": "display_data"
    },
    {
     "data": {
      "application/vnd.jupyter.widget-view+json": {
       "model_id": "",
       "version_major": 2,
       "version_minor": 0
      },
      "text/plain": [
       "Batch #:   0%|          | 0/45 [00:00<?, ?it/s]"
      ]
     },
     "metadata": {},
     "output_type": "display_data"
    },
    {
     "name": "stdout",
     "output_type": "stream",
     "text": [
      "Validation accuracy: 48.9%, Validation NLL Loss: 1.601499 \n",
      "\n",
      "Epoch 23\n",
      "-------------------------------\n"
     ]
    },
    {
     "data": {
      "text/plain": [
       "'[318/318] Batch NLL Loss: 0.851463'"
      ]
     },
     "metadata": {},
     "output_type": "display_data"
    },
    {
     "data": {
      "application/vnd.jupyter.widget-view+json": {
       "model_id": "",
       "version_major": 2,
       "version_minor": 0
      },
      "text/plain": [
       "Batch #:   0%|          | 0/159 [00:00<?, ?it/s]"
      ]
     },
     "metadata": {},
     "output_type": "display_data"
    },
    {
     "data": {
      "application/vnd.jupyter.widget-view+json": {
       "model_id": "",
       "version_major": 2,
       "version_minor": 0
      },
      "text/plain": [
       "Batch #:   0%|          | 0/45 [00:00<?, ?it/s]"
      ]
     },
     "metadata": {},
     "output_type": "display_data"
    },
    {
     "name": "stdout",
     "output_type": "stream",
     "text": [
      "Validation accuracy: 44.4%, Validation NLL Loss: 1.716724 \n",
      "\n",
      "Epoch 24\n",
      "-------------------------------\n"
     ]
    },
    {
     "data": {
      "text/plain": [
       "'[318/318] Batch NLL Loss: 1.148908'"
      ]
     },
     "metadata": {},
     "output_type": "display_data"
    },
    {
     "data": {
      "application/vnd.jupyter.widget-view+json": {
       "model_id": "",
       "version_major": 2,
       "version_minor": 0
      },
      "text/plain": [
       "Batch #:   0%|          | 0/159 [00:00<?, ?it/s]"
      ]
     },
     "metadata": {},
     "output_type": "display_data"
    },
    {
     "data": {
      "application/vnd.jupyter.widget-view+json": {
       "model_id": "",
       "version_major": 2,
       "version_minor": 0
      },
      "text/plain": [
       "Batch #:   0%|          | 0/45 [00:00<?, ?it/s]"
      ]
     },
     "metadata": {},
     "output_type": "display_data"
    },
    {
     "name": "stdout",
     "output_type": "stream",
     "text": [
      "Validation accuracy: 44.4%, Validation NLL Loss: 1.654020 \n",
      "\n",
      "Epoch 25\n",
      "-------------------------------\n"
     ]
    },
    {
     "data": {
      "text/plain": [
       "'[318/318] Batch NLL Loss: 0.539222'"
      ]
     },
     "metadata": {},
     "output_type": "display_data"
    },
    {
     "data": {
      "application/vnd.jupyter.widget-view+json": {
       "model_id": "",
       "version_major": 2,
       "version_minor": 0
      },
      "text/plain": [
       "Batch #:   0%|          | 0/159 [00:00<?, ?it/s]"
      ]
     },
     "metadata": {},
     "output_type": "display_data"
    },
    {
     "data": {
      "application/vnd.jupyter.widget-view+json": {
       "model_id": "",
       "version_major": 2,
       "version_minor": 0
      },
      "text/plain": [
       "Batch #:   0%|          | 0/45 [00:00<?, ?it/s]"
      ]
     },
     "metadata": {},
     "output_type": "display_data"
    },
    {
     "name": "stdout",
     "output_type": "stream",
     "text": [
      "Validation accuracy: 51.1%, Validation NLL Loss: 1.602172 \n",
      "\n",
      "Epoch 26\n",
      "-------------------------------\n"
     ]
    },
    {
     "data": {
      "text/plain": [
       "'[318/318] Batch NLL Loss: 0.293929'"
      ]
     },
     "metadata": {},
     "output_type": "display_data"
    },
    {
     "data": {
      "application/vnd.jupyter.widget-view+json": {
       "model_id": "",
       "version_major": 2,
       "version_minor": 0
      },
      "text/plain": [
       "Batch #:   0%|          | 0/159 [00:00<?, ?it/s]"
      ]
     },
     "metadata": {},
     "output_type": "display_data"
    },
    {
     "data": {
      "application/vnd.jupyter.widget-view+json": {
       "model_id": "",
       "version_major": 2,
       "version_minor": 0
      },
      "text/plain": [
       "Batch #:   0%|          | 0/45 [00:00<?, ?it/s]"
      ]
     },
     "metadata": {},
     "output_type": "display_data"
    },
    {
     "name": "stdout",
     "output_type": "stream",
     "text": [
      "Validation accuracy: 47.8%, Validation NLL Loss: 1.637106 \n",
      "\n",
      "Epoch 27\n",
      "-------------------------------\n"
     ]
    },
    {
     "data": {
      "text/plain": [
       "'[318/318] Batch NLL Loss: 0.674766'"
      ]
     },
     "metadata": {},
     "output_type": "display_data"
    },
    {
     "data": {
      "application/vnd.jupyter.widget-view+json": {
       "model_id": "",
       "version_major": 2,
       "version_minor": 0
      },
      "text/plain": [
       "Batch #:   0%|          | 0/159 [00:00<?, ?it/s]"
      ]
     },
     "metadata": {},
     "output_type": "display_data"
    },
    {
     "data": {
      "application/vnd.jupyter.widget-view+json": {
       "model_id": "",
       "version_major": 2,
       "version_minor": 0
      },
      "text/plain": [
       "Batch #:   0%|          | 0/45 [00:00<?, ?it/s]"
      ]
     },
     "metadata": {},
     "output_type": "display_data"
    },
    {
     "name": "stdout",
     "output_type": "stream",
     "text": [
      "Validation accuracy: 48.9%, Validation NLL Loss: 1.674674 \n",
      "\n",
      "Epoch 28\n",
      "-------------------------------\n"
     ]
    },
    {
     "data": {
      "text/plain": [
       "'[318/318] Batch NLL Loss: 0.200253'"
      ]
     },
     "metadata": {},
     "output_type": "display_data"
    },
    {
     "data": {
      "application/vnd.jupyter.widget-view+json": {
       "model_id": "",
       "version_major": 2,
       "version_minor": 0
      },
      "text/plain": [
       "Batch #:   0%|          | 0/159 [00:00<?, ?it/s]"
      ]
     },
     "metadata": {},
     "output_type": "display_data"
    },
    {
     "data": {
      "application/vnd.jupyter.widget-view+json": {
       "model_id": "",
       "version_major": 2,
       "version_minor": 0
      },
      "text/plain": [
       "Batch #:   0%|          | 0/45 [00:00<?, ?it/s]"
      ]
     },
     "metadata": {},
     "output_type": "display_data"
    },
    {
     "name": "stdout",
     "output_type": "stream",
     "text": [
      "Validation accuracy: 52.2%, Validation NLL Loss: 1.585773 \n",
      "\n",
      "Epoch 29\n",
      "-------------------------------\n"
     ]
    },
    {
     "data": {
      "text/plain": [
       "'[318/318] Batch NLL Loss: 1.277027'"
      ]
     },
     "metadata": {},
     "output_type": "display_data"
    },
    {
     "data": {
      "application/vnd.jupyter.widget-view+json": {
       "model_id": "",
       "version_major": 2,
       "version_minor": 0
      },
      "text/plain": [
       "Batch #:   0%|          | 0/159 [00:00<?, ?it/s]"
      ]
     },
     "metadata": {},
     "output_type": "display_data"
    },
    {
     "data": {
      "application/vnd.jupyter.widget-view+json": {
       "model_id": "",
       "version_major": 2,
       "version_minor": 0
      },
      "text/plain": [
       "Batch #:   0%|          | 0/45 [00:00<?, ?it/s]"
      ]
     },
     "metadata": {},
     "output_type": "display_data"
    },
    {
     "name": "stdout",
     "output_type": "stream",
     "text": [
      "Validation accuracy: 45.6%, Validation NLL Loss: 1.581365 \n",
      "\n",
      "Epoch 30\n",
      "-------------------------------\n"
     ]
    },
    {
     "data": {
      "text/plain": [
       "'[318/318] Batch NLL Loss: 1.091018'"
      ]
     },
     "metadata": {},
     "output_type": "display_data"
    },
    {
     "data": {
      "application/vnd.jupyter.widget-view+json": {
       "model_id": "",
       "version_major": 2,
       "version_minor": 0
      },
      "text/plain": [
       "Batch #:   0%|          | 0/159 [00:00<?, ?it/s]"
      ]
     },
     "metadata": {},
     "output_type": "display_data"
    },
    {
     "data": {
      "application/vnd.jupyter.widget-view+json": {
       "model_id": "",
       "version_major": 2,
       "version_minor": 0
      },
      "text/plain": [
       "Batch #:   0%|          | 0/45 [00:00<?, ?it/s]"
      ]
     },
     "metadata": {},
     "output_type": "display_data"
    },
    {
     "name": "stdout",
     "output_type": "stream",
     "text": [
      "Validation accuracy: 48.9%, Validation NLL Loss: 1.676880 \n",
      "\n",
      "Epoch 31\n",
      "-------------------------------\n"
     ]
    },
    {
     "data": {
      "text/plain": [
       "'[318/318] Batch NLL Loss: 1.976860'"
      ]
     },
     "metadata": {},
     "output_type": "display_data"
    },
    {
     "data": {
      "application/vnd.jupyter.widget-view+json": {
       "model_id": "",
       "version_major": 2,
       "version_minor": 0
      },
      "text/plain": [
       "Batch #:   0%|          | 0/159 [00:00<?, ?it/s]"
      ]
     },
     "metadata": {},
     "output_type": "display_data"
    },
    {
     "data": {
      "application/vnd.jupyter.widget-view+json": {
       "model_id": "",
       "version_major": 2,
       "version_minor": 0
      },
      "text/plain": [
       "Batch #:   0%|          | 0/45 [00:00<?, ?it/s]"
      ]
     },
     "metadata": {},
     "output_type": "display_data"
    },
    {
     "name": "stdout",
     "output_type": "stream",
     "text": [
      "Validation accuracy: 47.8%, Validation NLL Loss: 1.623298 \n",
      "\n",
      "Epoch 32\n",
      "-------------------------------\n"
     ]
    },
    {
     "data": {
      "text/plain": [
       "'[318/318] Batch NLL Loss: 0.559717'"
      ]
     },
     "metadata": {},
     "output_type": "display_data"
    },
    {
     "data": {
      "application/vnd.jupyter.widget-view+json": {
       "model_id": "",
       "version_major": 2,
       "version_minor": 0
      },
      "text/plain": [
       "Batch #:   0%|          | 0/159 [00:00<?, ?it/s]"
      ]
     },
     "metadata": {},
     "output_type": "display_data"
    },
    {
     "data": {
      "application/vnd.jupyter.widget-view+json": {
       "model_id": "",
       "version_major": 2,
       "version_minor": 0
      },
      "text/plain": [
       "Batch #:   0%|          | 0/45 [00:00<?, ?it/s]"
      ]
     },
     "metadata": {},
     "output_type": "display_data"
    },
    {
     "name": "stdout",
     "output_type": "stream",
     "text": [
      "Validation accuracy: 50.0%, Validation NLL Loss: 1.465697 \n",
      "\n",
      "Epoch 33\n",
      "-------------------------------\n"
     ]
    },
    {
     "data": {
      "text/plain": [
       "'[318/318] Batch NLL Loss: 0.882393'"
      ]
     },
     "metadata": {},
     "output_type": "display_data"
    },
    {
     "data": {
      "application/vnd.jupyter.widget-view+json": {
       "model_id": "",
       "version_major": 2,
       "version_minor": 0
      },
      "text/plain": [
       "Batch #:   0%|          | 0/159 [00:00<?, ?it/s]"
      ]
     },
     "metadata": {},
     "output_type": "display_data"
    },
    {
     "data": {
      "application/vnd.jupyter.widget-view+json": {
       "model_id": "",
       "version_major": 2,
       "version_minor": 0
      },
      "text/plain": [
       "Batch #:   0%|          | 0/45 [00:00<?, ?it/s]"
      ]
     },
     "metadata": {},
     "output_type": "display_data"
    },
    {
     "name": "stdout",
     "output_type": "stream",
     "text": [
      "Validation accuracy: 45.6%, Validation NLL Loss: 1.541295 \n",
      "\n",
      "Epoch 34\n",
      "-------------------------------\n"
     ]
    },
    {
     "data": {
      "text/plain": [
       "'[318/318] Batch NLL Loss: 1.068733'"
      ]
     },
     "metadata": {},
     "output_type": "display_data"
    },
    {
     "data": {
      "application/vnd.jupyter.widget-view+json": {
       "model_id": "",
       "version_major": 2,
       "version_minor": 0
      },
      "text/plain": [
       "Batch #:   0%|          | 0/159 [00:00<?, ?it/s]"
      ]
     },
     "metadata": {},
     "output_type": "display_data"
    },
    {
     "data": {
      "application/vnd.jupyter.widget-view+json": {
       "model_id": "",
       "version_major": 2,
       "version_minor": 0
      },
      "text/plain": [
       "Batch #:   0%|          | 0/45 [00:00<?, ?it/s]"
      ]
     },
     "metadata": {},
     "output_type": "display_data"
    },
    {
     "name": "stdout",
     "output_type": "stream",
     "text": [
      "Validation accuracy: 44.4%, Validation NLL Loss: 1.584445 \n",
      "\n",
      "Epoch 35\n",
      "-------------------------------\n"
     ]
    },
    {
     "data": {
      "text/plain": [
       "'[318/318] Batch NLL Loss: 0.335307'"
      ]
     },
     "metadata": {},
     "output_type": "display_data"
    },
    {
     "data": {
      "application/vnd.jupyter.widget-view+json": {
       "model_id": "",
       "version_major": 2,
       "version_minor": 0
      },
      "text/plain": [
       "Batch #:   0%|          | 0/159 [00:00<?, ?it/s]"
      ]
     },
     "metadata": {},
     "output_type": "display_data"
    },
    {
     "data": {
      "application/vnd.jupyter.widget-view+json": {
       "model_id": "",
       "version_major": 2,
       "version_minor": 0
      },
      "text/plain": [
       "Batch #:   0%|          | 0/45 [00:00<?, ?it/s]"
      ]
     },
     "metadata": {},
     "output_type": "display_data"
    },
    {
     "name": "stdout",
     "output_type": "stream",
     "text": [
      "Validation accuracy: 53.3%, Validation NLL Loss: 1.527815 \n",
      "\n",
      "Epoch 36\n",
      "-------------------------------\n"
     ]
    },
    {
     "data": {
      "text/plain": [
       "'[318/318] Batch NLL Loss: 0.115142'"
      ]
     },
     "metadata": {},
     "output_type": "display_data"
    },
    {
     "data": {
      "application/vnd.jupyter.widget-view+json": {
       "model_id": "",
       "version_major": 2,
       "version_minor": 0
      },
      "text/plain": [
       "Batch #:   0%|          | 0/159 [00:00<?, ?it/s]"
      ]
     },
     "metadata": {},
     "output_type": "display_data"
    },
    {
     "data": {
      "application/vnd.jupyter.widget-view+json": {
       "model_id": "",
       "version_major": 2,
       "version_minor": 0
      },
      "text/plain": [
       "Batch #:   0%|          | 0/45 [00:00<?, ?it/s]"
      ]
     },
     "metadata": {},
     "output_type": "display_data"
    },
    {
     "name": "stdout",
     "output_type": "stream",
     "text": [
      "Validation accuracy: 44.4%, Validation NLL Loss: 1.723612 \n",
      "\n",
      "Epoch 37\n",
      "-------------------------------\n"
     ]
    },
    {
     "data": {
      "text/plain": [
       "'[318/318] Batch NLL Loss: 0.304402'"
      ]
     },
     "metadata": {},
     "output_type": "display_data"
    },
    {
     "data": {
      "application/vnd.jupyter.widget-view+json": {
       "model_id": "",
       "version_major": 2,
       "version_minor": 0
      },
      "text/plain": [
       "Batch #:   0%|          | 0/159 [00:00<?, ?it/s]"
      ]
     },
     "metadata": {},
     "output_type": "display_data"
    },
    {
     "data": {
      "application/vnd.jupyter.widget-view+json": {
       "model_id": "",
       "version_major": 2,
       "version_minor": 0
      },
      "text/plain": [
       "Batch #:   0%|          | 0/45 [00:00<?, ?it/s]"
      ]
     },
     "metadata": {},
     "output_type": "display_data"
    },
    {
     "name": "stdout",
     "output_type": "stream",
     "text": [
      "Validation accuracy: 46.7%, Validation NLL Loss: 1.547256 \n",
      "\n",
      "Epoch 38\n",
      "-------------------------------\n"
     ]
    },
    {
     "data": {
      "text/plain": [
       "'[318/318] Batch NLL Loss: 2.482105'"
      ]
     },
     "metadata": {},
     "output_type": "display_data"
    },
    {
     "data": {
      "application/vnd.jupyter.widget-view+json": {
       "model_id": "",
       "version_major": 2,
       "version_minor": 0
      },
      "text/plain": [
       "Batch #:   0%|          | 0/159 [00:00<?, ?it/s]"
      ]
     },
     "metadata": {},
     "output_type": "display_data"
    },
    {
     "data": {
      "application/vnd.jupyter.widget-view+json": {
       "model_id": "",
       "version_major": 2,
       "version_minor": 0
      },
      "text/plain": [
       "Batch #:   0%|          | 0/45 [00:00<?, ?it/s]"
      ]
     },
     "metadata": {},
     "output_type": "display_data"
    },
    {
     "name": "stdout",
     "output_type": "stream",
     "text": [
      "Validation accuracy: 50.0%, Validation NLL Loss: 1.669495 \n",
      "\n",
      "Epoch 39\n",
      "-------------------------------\n"
     ]
    },
    {
     "data": {
      "text/plain": [
       "'[318/318] Batch NLL Loss: 1.833994'"
      ]
     },
     "metadata": {},
     "output_type": "display_data"
    },
    {
     "data": {
      "application/vnd.jupyter.widget-view+json": {
       "model_id": "",
       "version_major": 2,
       "version_minor": 0
      },
      "text/plain": [
       "Batch #:   0%|          | 0/159 [00:00<?, ?it/s]"
      ]
     },
     "metadata": {},
     "output_type": "display_data"
    },
    {
     "data": {
      "application/vnd.jupyter.widget-view+json": {
       "model_id": "",
       "version_major": 2,
       "version_minor": 0
      },
      "text/plain": [
       "Batch #:   0%|          | 0/45 [00:00<?, ?it/s]"
      ]
     },
     "metadata": {},
     "output_type": "display_data"
    },
    {
     "name": "stdout",
     "output_type": "stream",
     "text": [
      "Validation accuracy: 48.9%, Validation NLL Loss: 1.681093 \n",
      "\n",
      "Epoch 40\n",
      "-------------------------------\n"
     ]
    },
    {
     "data": {
      "text/plain": [
       "'[318/318] Batch NLL Loss: 0.701780'"
      ]
     },
     "metadata": {},
     "output_type": "display_data"
    },
    {
     "data": {
      "application/vnd.jupyter.widget-view+json": {
       "model_id": "",
       "version_major": 2,
       "version_minor": 0
      },
      "text/plain": [
       "Batch #:   0%|          | 0/159 [00:00<?, ?it/s]"
      ]
     },
     "metadata": {},
     "output_type": "display_data"
    },
    {
     "data": {
      "application/vnd.jupyter.widget-view+json": {
       "model_id": "",
       "version_major": 2,
       "version_minor": 0
      },
      "text/plain": [
       "Batch #:   0%|          | 0/45 [00:00<?, ?it/s]"
      ]
     },
     "metadata": {},
     "output_type": "display_data"
    },
    {
     "name": "stdout",
     "output_type": "stream",
     "text": [
      "Validation accuracy: 47.8%, Validation NLL Loss: 1.661058 \n",
      "\n",
      "Epoch 41\n",
      "-------------------------------\n"
     ]
    },
    {
     "data": {
      "text/plain": [
       "'[318/318] Batch NLL Loss: 0.490892'"
      ]
     },
     "metadata": {},
     "output_type": "display_data"
    },
    {
     "data": {
      "application/vnd.jupyter.widget-view+json": {
       "model_id": "",
       "version_major": 2,
       "version_minor": 0
      },
      "text/plain": [
       "Batch #:   0%|          | 0/159 [00:00<?, ?it/s]"
      ]
     },
     "metadata": {},
     "output_type": "display_data"
    },
    {
     "data": {
      "application/vnd.jupyter.widget-view+json": {
       "model_id": "",
       "version_major": 2,
       "version_minor": 0
      },
      "text/plain": [
       "Batch #:   0%|          | 0/45 [00:00<?, ?it/s]"
      ]
     },
     "metadata": {},
     "output_type": "display_data"
    },
    {
     "name": "stdout",
     "output_type": "stream",
     "text": [
      "Validation accuracy: 46.7%, Validation NLL Loss: 1.690437 \n",
      "\n",
      "Epoch 42\n",
      "-------------------------------\n"
     ]
    },
    {
     "data": {
      "text/plain": [
       "'[318/318] Batch NLL Loss: 0.414274'"
      ]
     },
     "metadata": {},
     "output_type": "display_data"
    },
    {
     "data": {
      "application/vnd.jupyter.widget-view+json": {
       "model_id": "",
       "version_major": 2,
       "version_minor": 0
      },
      "text/plain": [
       "Batch #:   0%|          | 0/159 [00:00<?, ?it/s]"
      ]
     },
     "metadata": {},
     "output_type": "display_data"
    },
    {
     "data": {
      "application/vnd.jupyter.widget-view+json": {
       "model_id": "",
       "version_major": 2,
       "version_minor": 0
      },
      "text/plain": [
       "Batch #:   0%|          | 0/45 [00:00<?, ?it/s]"
      ]
     },
     "metadata": {},
     "output_type": "display_data"
    },
    {
     "name": "stdout",
     "output_type": "stream",
     "text": [
      "Validation accuracy: 52.2%, Validation NLL Loss: 1.623552 \n",
      "\n",
      "Epoch 43\n",
      "-------------------------------\n"
     ]
    },
    {
     "data": {
      "text/plain": [
       "'[318/318] Batch NLL Loss: 0.966057'"
      ]
     },
     "metadata": {},
     "output_type": "display_data"
    },
    {
     "data": {
      "application/vnd.jupyter.widget-view+json": {
       "model_id": "",
       "version_major": 2,
       "version_minor": 0
      },
      "text/plain": [
       "Batch #:   0%|          | 0/159 [00:00<?, ?it/s]"
      ]
     },
     "metadata": {},
     "output_type": "display_data"
    },
    {
     "data": {
      "application/vnd.jupyter.widget-view+json": {
       "model_id": "",
       "version_major": 2,
       "version_minor": 0
      },
      "text/plain": [
       "Batch #:   0%|          | 0/45 [00:00<?, ?it/s]"
      ]
     },
     "metadata": {},
     "output_type": "display_data"
    },
    {
     "name": "stdout",
     "output_type": "stream",
     "text": [
      "Validation accuracy: 52.2%, Validation NLL Loss: 1.609993 \n",
      "\n",
      "Epoch 44\n",
      "-------------------------------\n"
     ]
    },
    {
     "data": {
      "text/plain": [
       "'[318/318] Batch NLL Loss: 0.326687'"
      ]
     },
     "metadata": {},
     "output_type": "display_data"
    },
    {
     "data": {
      "application/vnd.jupyter.widget-view+json": {
       "model_id": "",
       "version_major": 2,
       "version_minor": 0
      },
      "text/plain": [
       "Batch #:   0%|          | 0/159 [00:00<?, ?it/s]"
      ]
     },
     "metadata": {},
     "output_type": "display_data"
    },
    {
     "data": {
      "application/vnd.jupyter.widget-view+json": {
       "model_id": "",
       "version_major": 2,
       "version_minor": 0
      },
      "text/plain": [
       "Batch #:   0%|          | 0/45 [00:00<?, ?it/s]"
      ]
     },
     "metadata": {},
     "output_type": "display_data"
    },
    {
     "name": "stdout",
     "output_type": "stream",
     "text": [
      "Validation accuracy: 52.2%, Validation NLL Loss: 1.617792 \n",
      "\n",
      "Epoch 45\n",
      "-------------------------------\n"
     ]
    },
    {
     "data": {
      "text/plain": [
       "'[318/318] Batch NLL Loss: 0.088089'"
      ]
     },
     "metadata": {},
     "output_type": "display_data"
    },
    {
     "data": {
      "application/vnd.jupyter.widget-view+json": {
       "model_id": "",
       "version_major": 2,
       "version_minor": 0
      },
      "text/plain": [
       "Batch #:   0%|          | 0/159 [00:00<?, ?it/s]"
      ]
     },
     "metadata": {},
     "output_type": "display_data"
    },
    {
     "data": {
      "application/vnd.jupyter.widget-view+json": {
       "model_id": "",
       "version_major": 2,
       "version_minor": 0
      },
      "text/plain": [
       "Batch #:   0%|          | 0/45 [00:00<?, ?it/s]"
      ]
     },
     "metadata": {},
     "output_type": "display_data"
    },
    {
     "name": "stdout",
     "output_type": "stream",
     "text": [
      "Validation accuracy: 52.2%, Validation NLL Loss: 1.631202 \n",
      "\n",
      "Epoch 46\n",
      "-------------------------------\n"
     ]
    },
    {
     "data": {
      "text/plain": [
       "'[318/318] Batch NLL Loss: 0.552256'"
      ]
     },
     "metadata": {},
     "output_type": "display_data"
    },
    {
     "data": {
      "application/vnd.jupyter.widget-view+json": {
       "model_id": "",
       "version_major": 2,
       "version_minor": 0
      },
      "text/plain": [
       "Batch #:   0%|          | 0/159 [00:00<?, ?it/s]"
      ]
     },
     "metadata": {},
     "output_type": "display_data"
    },
    {
     "data": {
      "application/vnd.jupyter.widget-view+json": {
       "model_id": "",
       "version_major": 2,
       "version_minor": 0
      },
      "text/plain": [
       "Batch #:   0%|          | 0/45 [00:00<?, ?it/s]"
      ]
     },
     "metadata": {},
     "output_type": "display_data"
    },
    {
     "name": "stdout",
     "output_type": "stream",
     "text": [
      "Validation accuracy: 48.9%, Validation NLL Loss: 1.646314 \n",
      "\n",
      "Epoch 47\n",
      "-------------------------------\n"
     ]
    },
    {
     "data": {
      "text/plain": [
       "'[318/318] Batch NLL Loss: 0.117050'"
      ]
     },
     "metadata": {},
     "output_type": "display_data"
    },
    {
     "data": {
      "application/vnd.jupyter.widget-view+json": {
       "model_id": "",
       "version_major": 2,
       "version_minor": 0
      },
      "text/plain": [
       "Batch #:   0%|          | 0/159 [00:00<?, ?it/s]"
      ]
     },
     "metadata": {},
     "output_type": "display_data"
    },
    {
     "data": {
      "application/vnd.jupyter.widget-view+json": {
       "model_id": "",
       "version_major": 2,
       "version_minor": 0
      },
      "text/plain": [
       "Batch #:   0%|          | 0/45 [00:00<?, ?it/s]"
      ]
     },
     "metadata": {},
     "output_type": "display_data"
    },
    {
     "name": "stdout",
     "output_type": "stream",
     "text": [
      "Validation accuracy: 52.2%, Validation NLL Loss: 1.563739 \n",
      "\n",
      "Epoch 48\n",
      "-------------------------------\n"
     ]
    },
    {
     "data": {
      "text/plain": [
       "'[318/318] Batch NLL Loss: 0.215941'"
      ]
     },
     "metadata": {},
     "output_type": "display_data"
    },
    {
     "data": {
      "application/vnd.jupyter.widget-view+json": {
       "model_id": "",
       "version_major": 2,
       "version_minor": 0
      },
      "text/plain": [
       "Batch #:   0%|          | 0/159 [00:00<?, ?it/s]"
      ]
     },
     "metadata": {},
     "output_type": "display_data"
    },
    {
     "data": {
      "application/vnd.jupyter.widget-view+json": {
       "model_id": "",
       "version_major": 2,
       "version_minor": 0
      },
      "text/plain": [
       "Batch #:   0%|          | 0/45 [00:00<?, ?it/s]"
      ]
     },
     "metadata": {},
     "output_type": "display_data"
    },
    {
     "name": "stdout",
     "output_type": "stream",
     "text": [
      "Validation accuracy: 50.0%, Validation NLL Loss: 1.590991 \n",
      "\n",
      "Epoch 49\n",
      "-------------------------------\n"
     ]
    },
    {
     "data": {
      "text/plain": [
       "'[318/318] Batch NLL Loss: 0.172898'"
      ]
     },
     "metadata": {},
     "output_type": "display_data"
    },
    {
     "data": {
      "application/vnd.jupyter.widget-view+json": {
       "model_id": "",
       "version_major": 2,
       "version_minor": 0
      },
      "text/plain": [
       "Batch #:   0%|          | 0/159 [00:00<?, ?it/s]"
      ]
     },
     "metadata": {},
     "output_type": "display_data"
    },
    {
     "data": {
      "application/vnd.jupyter.widget-view+json": {
       "model_id": "",
       "version_major": 2,
       "version_minor": 0
      },
      "text/plain": [
       "Batch #:   0%|          | 0/45 [00:00<?, ?it/s]"
      ]
     },
     "metadata": {},
     "output_type": "display_data"
    },
    {
     "name": "stdout",
     "output_type": "stream",
     "text": [
      "Validation accuracy: 51.1%, Validation NLL Loss: 1.561374 \n",
      "\n",
      "Epoch 50\n",
      "-------------------------------\n"
     ]
    },
    {
     "data": {
      "text/plain": [
       "'[318/318] Batch NLL Loss: 0.254193'"
      ]
     },
     "metadata": {},
     "output_type": "display_data"
    },
    {
     "data": {
      "application/vnd.jupyter.widget-view+json": {
       "model_id": "",
       "version_major": 2,
       "version_minor": 0
      },
      "text/plain": [
       "Batch #:   0%|          | 0/159 [00:00<?, ?it/s]"
      ]
     },
     "metadata": {},
     "output_type": "display_data"
    },
    {
     "data": {
      "application/vnd.jupyter.widget-view+json": {
       "model_id": "",
       "version_major": 2,
       "version_minor": 0
      },
      "text/plain": [
       "Batch #:   0%|          | 0/45 [00:00<?, ?it/s]"
      ]
     },
     "metadata": {},
     "output_type": "display_data"
    },
    {
     "name": "stdout",
     "output_type": "stream",
     "text": [
      "Validation accuracy: 47.8%, Validation NLL Loss: 1.634207 \n",
      "\n"
     ]
    }
   ],
   "source": [
    "# train_label_counts = np.bincount(train.dataset.table.iloc[train.indices].latin.values, minlength=len(data.table.latin.unique()))\n",
    "# train_label_weights = ((train_label_counts + 1e-5) / train_label_counts.sum()) **-0.5\n",
    "# train_label_weights = torch.tensor(train_label_weights, dtype=torch.float, device=device)\n",
    "# loss_clf = nn.NLLLoss(train_label_weights)\n",
    "\n",
    "loss_clf = nn.NLLLoss()\n",
    "epochs = 50\n",
    "\n",
    "models_results = []\n",
    "for chan in tqdm([8]):\n",
    "    for layer_n in tqdm([3]):\n",
    "        for fc_hidden in tqdm([512]):\n",
    "            # net = ResNet18(out_channels=chan, layer_num=layer_n, fc_hidden=fc_hidden).to(device)\n",
    "            # net = torch.hub.load('facebookresearch/dinov2', 'dinov2_vitb14').to(device)\n",
    "            net = models.efficientnet_v2_s(weights=\"DEFAULT\")\n",
    "            # for param in net.parameters():\n",
    "            #     net.requires_grad = False\n",
    "            net.classifier = nn.Sequential(\n",
    "                nn.Flatten(),\n",
    "                nn.Linear(1280, len(data.label_map)),\n",
    "                nn.LogSoftmax(dim=1),\n",
    "            )\n",
    "            net.to(device)\n",
    "            optimizer = torch.optim.Adam(net.parameters(), lr=2e-4)\n",
    "            scheduler = torch.optim.lr_scheduler.ReduceLROnPlateau(optimizer, 'min', factor=0.1, patience=5, min_lr=1e-7)\n",
    "\n",
    "            train_acc, train_loss = [], []\n",
    "            val_acc, val_loss = [], []\n",
    "\n",
    "            models_results.append({\"first_out_channel\": chan, \"layer_num\": layer_n, \"fc_hidden\": fc_hidden})\n",
    "            for epoch in range(epochs):\n",
    "                print(f\"Epoch {epoch+1}\")\n",
    "                print(\"-------------------------------\")\n",
    "                train_loop(net, train_dataloader, loss_clf, optimizer, history_loss=train_loss, history_acc=train_acc)\n",
    "                test_loop(net, val_dataloader, loss_clf, history_loss=val_loss, history_acc=val_acc)\n",
    "                scheduler.step(val_loss[-1])\n",
    "            \n",
    "            models_results[-1][f\"train_{target_column}_acc\"] = train_acc\n",
    "            models_results[-1][f\"train_{target_column}_loss\"] = train_loss\n",
    "            models_results[-1][f\"val_{target_column}_acc\"] = val_acc\n",
    "            models_results[-1][f\"val_{target_column}_loss\"] = val_loss"
   ]
  },
  {
   "cell_type": "code",
   "execution_count": 23,
   "id": "f8b21367-e782-419c-b63f-a2eb546b9fff",
   "metadata": {},
   "outputs": [],
   "source": [
    "results_df = pd.DataFrame(models_results)"
   ]
  },
  {
   "cell_type": "code",
   "execution_count": 24,
   "id": "4a8a219b-28c4-4cd8-a6be-5236195a3046",
   "metadata": {},
   "outputs": [],
   "source": [
    "# expanded_df = results_df.set_index([\"first_out_channel\"]).apply(pd.Series.explode).reset_index()\n",
    "\n",
    "# expanded_df.index.name = \"Epoch\"\n",
    "# expanded_df.index = expanded_df.index + 1\n",
    "# expanded_df.dropna()"
   ]
  },
  {
   "cell_type": "code",
   "execution_count": 25,
   "id": "f0ffb500-0e1e-44b1-8822-72f51bf5329f",
   "metadata": {},
   "outputs": [
    {
     "name": "stdout",
     "output_type": "stream",
     "text": [
      "first_out_channel      8\n",
      "layer_num              3\n",
      "fc_hidden            512\n",
      "Name: 0, dtype: object\n"
     ]
    },
    {
     "data": {
      "image/png": "[encoded data removed]",
      "text/plain": [
       "<Figure size 1200x400 with 1 Axes>"
      ]
     },
     "metadata": {},
     "output_type": "display_data"
    },
    {
     "data": {
      "image/png": "[encoded data removed]",
      "text/plain": [
       "<Figure size 1200x400 with 1 Axes>"
      ]
     },
     "metadata": {},
     "output_type": "display_data"
    }
   ],
   "source": [
    "for i in range(len(results_df)):\n",
    "    row = results_df.iloc[i]\n",
    "    print(row[:3])\n",
    "    plot_learning_process(row.train_latin_loss, row.val_latin_loss, \"NegativeLogLikelihood Loss\")\n",
    "    plot_learning_process(row.train_latin_acc, row.val_latin_acc, \"Accuracy of species prediction\")"
   ]
  },
  {
   "cell_type": "code",
   "execution_count": 26,
   "id": "367550fa-e15a-4059-93cd-69a025635239",
   "metadata": {},
   "outputs": [],
   "source": [
    "test_dataset = TreeDatasetFromSubset(test, prepare_transform)\n",
    "test_dataloader = DataLoader(\n",
    "    dataset=test_dataset,\n",
    "    batch_size=BATCH_SIZE,\n",
    "    shuffle=False,\n",
    "    drop_last=False,\n",
    ")"
   ]
  },
  {
   "cell_type": "code",
   "execution_count": 27,
   "id": "1b2a2a2d-5055-4de7-b3fc-50444272ad18",
   "metadata": {},
   "outputs": [
    {
     "ename": "AssertionError",
     "evalue": "There is a checkpoint already! Remove this assert to override",
     "output_type": "error",
     "traceback": [
      "\u001b[0;31m---------------------------------------------------------------------------\u001b[0m",
      "\u001b[0;31mAssertionError\u001b[0m                            Traceback (most recent call last)",
      "Cell \u001b[0;32mIn[27], line 2\u001b[0m\n\u001b[1;32m      1\u001b[0m PATH \u001b[38;5;241m=\u001b[39m \u001b[38;5;124mf\u001b[39m\u001b[38;5;124m\"\u001b[39m\u001b[38;5;132;01m{\u001b[39;00mtarget_column\u001b[38;5;132;01m}\u001b[39;00m\u001b[38;5;124m_prediction_model.pt\u001b[39m\u001b[38;5;124m\"\u001b[39m\n\u001b[0;32m----> 2\u001b[0m \u001b[38;5;28;01massert\u001b[39;00m \u001b[38;5;129;01mnot\u001b[39;00m os\u001b[38;5;241m.\u001b[39mpath\u001b[38;5;241m.\u001b[39mexists(PATH), \u001b[38;5;124m\"\u001b[39m\u001b[38;5;124mThere is a checkpoint already! Remove this assert to override\u001b[39m\u001b[38;5;124m\"\u001b[39m\n\u001b[1;32m      3\u001b[0m test_results \u001b[38;5;241m=\u001b[39m test_loop(net, test_dataloader, loss_clf)\n\u001b[1;32m      4\u001b[0m torch\u001b[38;5;241m.\u001b[39msave({\n\u001b[1;32m      5\u001b[0m     \u001b[38;5;124m'\u001b[39m\u001b[38;5;124mepoch\u001b[39m\u001b[38;5;124m'\u001b[39m: epochs,\n\u001b[1;32m      6\u001b[0m     \u001b[38;5;124m'\u001b[39m\u001b[38;5;124mmodel_state_dict\u001b[39m\u001b[38;5;124m'\u001b[39m: net\u001b[38;5;241m.\u001b[39mstate_dict(),\n\u001b[0;32m   (...)\u001b[0m\n\u001b[1;32m     10\u001b[0m },\n\u001b[1;32m     11\u001b[0m     PATH)\n",
      "\u001b[0;31mAssertionError\u001b[0m: There is a checkpoint already! Remove this assert to override"
     ]
    }
   ],
   "source": [
    "PATH = f\"{target_column}_prediction_model.pt\"\n",
    "assert not os.path.exists(PATH), \"There is a checkpoint already! Remove this assert to override\"\n",
    "test_results = test_loop(net, test_dataloader, loss_clf)\n",
    "torch.save({\n",
    "    'epoch': epochs,\n",
    "    'model_state_dict': net.state_dict(),\n",
    "    'optimizer_state_dict': optimizer.state_dict(),\n",
    "    'loss': test_results[\"val_loss\"],\n",
    "    'acc': test_results[\"val_acc\"]\n",
    "},\n",
    "    PATH)"
   ]
  },
  {
   "cell_type": "code",
   "execution_count": 28,
   "id": "702f0d2b-b2a7-45c8-b092-61baeaf4053b",
   "metadata": {},
   "outputs": [
    {
     "ename": "TypeError",
     "evalue": "ResNet18.__init__() got an unexpected keyword argument 'fc_clf_hidden'",
     "output_type": "error",
     "traceback": [
      "\u001b[0;31m---------------------------------------------------------------------------\u001b[0m",
      "\u001b[0;31mTypeError\u001b[0m                                 Traceback (most recent call last)",
      "Cell \u001b[0;32mIn[28], line 1\u001b[0m\n\u001b[0;32m----> 1\u001b[0m model \u001b[38;5;241m=\u001b[39m \u001b[43mResNet18\u001b[49m\u001b[43m(\u001b[49m\u001b[43mout_channels\u001b[49m\u001b[38;5;241;43m=\u001b[39;49m\u001b[38;5;241;43m8\u001b[39;49m\u001b[43m,\u001b[49m\u001b[43m \u001b[49m\u001b[43mlayer_num\u001b[49m\u001b[38;5;241;43m=\u001b[39;49m\u001b[38;5;241;43m3\u001b[39;49m\u001b[43m,\u001b[49m\u001b[43m \u001b[49m\u001b[43mfc_clf_hidden\u001b[49m\u001b[38;5;241;43m=\u001b[39;49m\u001b[38;5;241;43m512\u001b[39;49m\u001b[43m)\u001b[49m\u001b[38;5;241m.\u001b[39mto(device)\n\u001b[1;32m      2\u001b[0m optimizer \u001b[38;5;241m=\u001b[39m torch\u001b[38;5;241m.\u001b[39moptim\u001b[38;5;241m.\u001b[39mAdam(model\u001b[38;5;241m.\u001b[39mparameters(), lr\u001b[38;5;241m=\u001b[39m\u001b[38;5;241m5e-4\u001b[39m)\n\u001b[1;32m      4\u001b[0m checkpoint \u001b[38;5;241m=\u001b[39m torch\u001b[38;5;241m.\u001b[39mload(PATH)\n",
      "\u001b[0;31mTypeError\u001b[0m: ResNet18.__init__() got an unexpected keyword argument 'fc_clf_hidden'"
     ]
    }
   ],
   "source": [
    "model = ResNet18(out_channels=8, layer_num=3, fc_clf_hidden=512).to(device)\n",
    "optimizer = torch.optim.Adam(model.parameters(), lr=5e-4)\n",
    "\n",
    "checkpoint = torch.load(PATH)\n",
    "model.load_state_dict(checkpoint['model_state_dict'])\n",
    "optimizer.load_state_dict(checkpoint['optimizer_state_dict'])\n",
    "epoch = checkpoint['epoch']\n",
    "loss = checkpoint['loss']\n",
    "acc = checkpoint['acc']\n",
    "\n",
    "model.eval()"
   ]
  },
  {
   "cell_type": "code",
   "execution_count": 29,
   "id": "057d62da-449f-4d34-adc7-285e5a925ffb",
   "metadata": {},
   "outputs": [],
   "source": [
    "from sklearn.metrics import confusion_matrix"
   ]
  },
  {
   "cell_type": "code",
   "execution_count": 30,
   "id": "d2bf3fb0-939b-4ec7-97f3-be660da710b0",
   "metadata": {},
   "outputs": [
    {
     "data": {
      "application/vnd.jupyter.widget-view+json": {
       "model_id": "",
       "version_major": 2,
       "version_minor": 0
      },
      "text/plain": [
       "Batch #:   0%|          | 0/45 [00:00<?, ?it/s]"
      ]
     },
     "metadata": {},
     "output_type": "display_data"
    }
   ],
   "source": [
    "preds = []\n",
    "trues = []\n",
    "with torch.no_grad():\n",
    "    for X, y_clf in tqdm(val_dataloader, leave=False, desc=\"Batch #\"):\n",
    "        torch.cuda.empty_cache()\n",
    "        gc.collect()\n",
    "        \n",
    "        X = X.to(device)\n",
    "        y_clf = y_clf.to(device)\n",
    "        pred = net(X).argmax(1)\n",
    "        preds.extend(pred.tolist())\n",
    "        trues.extend(y_clf.tolist())"
   ]
  },
  {
   "cell_type": "code",
   "execution_count": 31,
   "id": "6b817e83-1afa-4ed6-be3a-cbc006968872",
   "metadata": {},
   "outputs": [
    {
     "data": {
      "image/png": "[encoded data removed]",
      "text/plain": [
       "<Figure size 640x480 with 1 Axes>"
      ]
     },
     "metadata": {},
     "output_type": "display_data"
    }
   ],
   "source": [
    "# plt.subplots(1, 2, sharex=True, figsize=(12, 6))\n",
    "plt.hist(trues, bins=50, label=\"true\")\n",
    "plt.hist(preds, bins=50, label=\"predictions\", alpha=0.75)\n",
    "plt.xticks(ticks=range(len(data.label_map)), labels=list(data.label_map.keys()), rotation=90)\n",
    "plt.legend()\n",
    "plt.show()"
   ]
  },
  {
   "cell_type": "code",
   "execution_count": 32,
   "id": "efcd9417-ee04-460e-86db-c4e036bfed09",
   "metadata": {},
   "outputs": [
    {
     "data": {
      "image/png": "[encoded data removed]",
      "text/plain": [
       "<Figure size 1000x700 with 2 Axes>"
      ]
     },
     "metadata": {},
     "output_type": "display_data"
    }
   ],
   "source": [
    "df_cm = pd.DataFrame(confusion_matrix(trues, preds), index=data.label_map.keys(), columns=data.label_map.keys())\n",
    "plt.figure(figsize = (10, 7))\n",
    "sns.heatmap(df_cm, cmap=\"flare\", annot=True)\n",
    "plt.show()"
   ]
  },
  {
   "cell_type": "code",
   "execution_count": null,
   "id": "07f0910e-3bd1-4e44-adc3-26928ce1e446",
   "metadata": {},
   "outputs": [],
   "source": []
  }
 ],
 "metadata": {
  "kernelspec": {
   "display_name": "Python [conda env:experim] *",
   "language": "python",
   "name": "conda-env-experim-py"
  },
  "language_info": {
   "codemirror_mode": {
    "name": "ipython",
    "version": 3
   },
   "file_extension": ".py",
   "mimetype": "text/x-python",
   "name": "python",
   "nbconvert_exporter": "python",
   "pygments_lexer": "ipython3",
   "version": "3.10.10"
  }
 },
 "nbformat": 4,
 "nbformat_minor": 5
}
