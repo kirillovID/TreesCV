{
 "cells": [
  {
   "cell_type": "code",
   "execution_count": 1,
   "id": "c1a9f686-7b4a-4ec7-a1ea-bdab7524f63d",
   "metadata": {},
   "outputs": [],
   "source": [
    "import gc\n",
    "import matplotlib.pyplot as plt\n",
    "import numpy as np\n",
    "import os\n",
    "import pandas as pd\n",
    "import skimage\n",
    "import torch\n",
    "import torch.nn as nn\n",
    "\n",
    "from torch.utils.data import Dataset, DataLoader, random_split\n",
    "from torchvision import datasets\n",
    "from torchvision import transforms as tr\n",
    "from torchvision.io import read_image\n",
    "from tqdm.notebook import tqdm\n",
    "\n",
    "%matplotlib inline"
   ]
  },
  {
   "cell_type": "code",
   "execution_count": 2,
   "id": "24e9a2da-c21e-4390-82e8-a111696ec1e5",
   "metadata": {},
   "outputs": [],
   "source": [
    "device = torch.device('cuda' if torch.cuda.is_available() else 'cpu')"
   ]
  },
  {
   "cell_type": "code",
   "execution_count": 3,
   "id": "ff86b3f6-d221-4342-89b8-c76659c4d58a",
   "metadata": {},
   "outputs": [],
   "source": [
    "data_folder = \"./RGBaHa(26-03-23)\"\n",
    "images_folder = \"RGBaHa\"\n",
    "table_file = \"data.csv\""
   ]
  },
  {
   "cell_type": "code",
   "execution_count": 4,
   "id": "40ef14d4-6977-488f-b159-f93d0b2a7305",
   "metadata": {},
   "outputs": [],
   "source": [
    "target_column = \"hgt\""
   ]
  },
  {
   "cell_type": "code",
   "execution_count": 5,
   "id": "93fb5f0a-3137-4540-bb5b-9662fbce8a38",
   "metadata": {},
   "outputs": [],
   "source": [
    "class TreeDataset(Dataset):\n",
    "    def __init__(self, imgs_path, table_path):\n",
    "        super().__init__()\n",
    "        \n",
    "        self.table = pd.read_csv(table_path, index_col=0).dropna()\n",
    "        self.label_map = {label: i for i, label in enumerate(self.table.latin.unique())}\n",
    "        self.table = self.table.replace({\"latin\": self.label_map})\n",
    "        \n",
    "        self.max_h, self.max_w = 0, 0\n",
    "        self.channel_mean, self.channel_std = 0, 0\n",
    "        self.depth_max = 0\n",
    "        images = []\n",
    "        for tree_id in self.table.treeID:\n",
    "            file_path = os.path.join(imgs_path, f\"treeID_{tree_id}.tiff\")\n",
    "            img_rgbd = skimage.io.imread(file_path)[:, :, [0, 1, 2, 4]].transpose(2, 0, 1)[None, :, :, :]\n",
    "            self.max_h = max(self.max_h, img_rgbd.shape[2])\n",
    "            self.max_w = max(self.max_w, img_rgbd.shape[3])\n",
    "            images.append(torch.from_numpy(img_rgbd))\n",
    "            self.depth_max = max(self.depth_max, img_rgbd[:, 3, :, :].max())\n",
    "        \n",
    "        padded_images = []\n",
    "        rng = np.random.default_rng()\n",
    "        for image in images:\n",
    "            img_h, img_w = image.shape[2:]\n",
    "            h_pos = rng.integers(0, self.max_h - img_h + 1)\n",
    "            w_pos = rng.integers(0, self.max_w - img_w + 1)\n",
    "            padded = torch.zeros(1, 4, self.max_h, self.max_w)\n",
    "            padded[:, :, h_pos: h_pos+img_h, w_pos: w_pos+img_w] = image\n",
    "            padded_images.append(padded)\n",
    "            \n",
    "            image[:, :3, :, :] /= 255.\n",
    "            image[:, 3, :, :] /= self.depth_max\n",
    "            self.channel_mean += image.mean(dim=(0, 2, 3))\n",
    "            self.channel_std += image.std(dim=(0, 2, 3))\n",
    "\n",
    "        self.images = torch.cat(padded_images)\n",
    "        \n",
    "    def __getitem__(self, index):\n",
    "        x = self.images[index].type(torch.FloatTensor)\n",
    "        y_regr = torch.tensor(self.table.iloc[index].loc[target_column])\n",
    "        return x, y_regr\n",
    "    \n",
    "    def __len__(self):\n",
    "        return len(self.table)"
   ]
  },
  {
   "cell_type": "code",
   "execution_count": 6,
   "id": "587ed350-a736-4ccf-bcad-54879dce4abe",
   "metadata": {},
   "outputs": [],
   "source": [
    "class TreeDatasetFromSubset(Dataset):\n",
    "    def __init__(self, subset, all_transform=None, rgb_only_transform=None):\n",
    "        self.subset = subset\n",
    "        self.all_transform = all_transform\n",
    "        self.rgb_transform = rgb_only_transform\n",
    "\n",
    "    def __getitem__(self, index):\n",
    "        x, y_regr = self.subset[index]\n",
    "        if self.all_transform:\n",
    "            x = self.all_transform(x)\n",
    "        if self.rgb_transform:\n",
    "            x[:3, :, :] = self.rgb_transform(x[:3, :, :])\n",
    "        return x.type(torch.float), y_regr.type(torch.float)\n",
    "\n",
    "    def __len__(self):\n",
    "        return len(self.subset)"
   ]
  },
  {
   "cell_type": "code",
   "execution_count": 7,
   "id": "bb8accc6-ab65-4d33-8e13-059cab6abcff",
   "metadata": {},
   "outputs": [],
   "source": [
    "data = TreeDataset(os.path.join(data_folder, images_folder), os.path.join(data_folder, table_file))"
   ]
  },
  {
   "cell_type": "code",
   "execution_count": 8,
   "id": "05a0a93c-c649-43c0-acc4-45bdc03e2ec4",
   "metadata": {},
   "outputs": [],
   "source": [
    "train, val, test = random_split(data, [0.70, 0.20, 0.10])"
   ]
  },
  {
   "cell_type": "code",
   "execution_count": 9,
   "id": "914ea739-6547-4540-a777-b3aa5606cae5",
   "metadata": {},
   "outputs": [],
   "source": [
    "class AddGaussianNoise(object):\n",
    "    def __init__(self, mean=0., std=0.1):\n",
    "        self.std = std\n",
    "        self.mean = mean\n",
    "\n",
    "    def __call__(self, tensor):\n",
    "        return tensor + torch.randn(tensor.size()) * self.std + self.mean\n",
    "\n",
    "    def __repr__(self):\n",
    "        return self.__class__.__name__ + '(mean={0}, std={1})'.format(self.mean, self.std)"
   ]
  },
  {
   "cell_type": "code",
   "execution_count": 10,
   "id": "6f20b332-9aa9-4a4f-b08c-7cb59fd2660f",
   "metadata": {},
   "outputs": [],
   "source": [
    "augment_transform = tr.Compose([\n",
    "    tr.Normalize(data.channel_mean, data.channel_std),\n",
    "    tr.RandomApply([AddGaussianNoise()]),\n",
    "    tr.RandomHorizontalFlip(),\n",
    "    tr.RandomVerticalFlip(),\n",
    "    # tr.RandomRotation(degrees=180),\n",
    "    tr.RandomAffine(degrees=180, translate=(0.3, 0.4), scale=(0.4, 0.8)),\n",
    "    # tr.RandomPerspective()\n",
    "    \n",
    "])\n",
    "\n",
    "augment_rgb_transform = tr.Compose([\n",
    "    tr.ColorJitter(brightness=0.2, contrast=0.2, saturation=0.2, hue=0.1),\n",
    "    tr.RandomAdjustSharpness(0.5),\n",
    "    tr.RandomAutocontrast(),\n",
    "])\n",
    "\n",
    "prepare_transform = tr.Compose([\n",
    "    tr.Normalize(data.channel_mean, data.channel_std),\n",
    "])"
   ]
  },
  {
   "cell_type": "code",
   "execution_count": 11,
   "id": "96b76966-03ee-46c8-bf69-4fbebeee27c3",
   "metadata": {},
   "outputs": [],
   "source": [
    "train_dataset = TreeDatasetFromSubset(train, augment_transform, augment_rgb_transform)\n",
    "val_dataset = TreeDatasetFromSubset(val, prepare_transform)"
   ]
  },
  {
   "cell_type": "code",
   "execution_count": 12,
   "id": "9328e478-a9ec-4050-b5f6-5a3d9b571f78",
   "metadata": {},
   "outputs": [
    {
     "name": "stdout",
     "output_type": "stream",
     "text": [
      "Targets:\n",
      "tensor(29.7500)\n"
     ]
    },
    {
     "data": {
      "image/png": "[encoded data removed]",
      "text/plain": [
       "<Figure size 640x480 with 1 Axes>"
      ]
     },
     "metadata": {},
     "output_type": "display_data"
    }
   ],
   "source": [
    "print(\"Targets:\")\n",
    "print(train_dataset[np.random.randint(0, 100)][1])\n",
    "plt.imshow(train_dataset[np.random.randint(0, 100)][0][:3, :, :].movedim(0, -1))\n",
    "plt.show()"
   ]
  },
  {
   "cell_type": "code",
   "execution_count": 13,
   "id": "24c05db2-500a-4a1a-a533-0b22ca3cdf51",
   "metadata": {},
   "outputs": [],
   "source": [
    "BATCH_SIZE = 32\n",
    "\n",
    "train_dataloader = DataLoader(\n",
    "    dataset=train_dataset,\n",
    "    batch_size=BATCH_SIZE,\n",
    "    shuffle=True,\n",
    "    drop_last=True,\n",
    ")\n",
    "\n",
    "val_dataloader = DataLoader(\n",
    "    dataset=val_dataset,\n",
    "    batch_size=BATCH_SIZE,\n",
    "    shuffle=False,\n",
    "    drop_last=False,\n",
    ")"
   ]
  },
  {
   "cell_type": "code",
   "execution_count": 14,
   "id": "553cfdde-26b4-4934-8531-8026fc4c781f",
   "metadata": {},
   "outputs": [],
   "source": [
    "class ResidualBlock(nn.Module):\n",
    "    def __init__(self, in_channels, out_channels):\n",
    "        super().__init__()\n",
    "        stride = (2, 2) if in_channels != out_channels else (1, 1)\n",
    "\n",
    "        self.shortcut = nn.Identity()\n",
    "        if in_channels != out_channels:\n",
    "            self.shortcut = nn.Sequential(\n",
    "                nn.Conv2d(in_channels, out_channels, (1, 1), stride, bias=False),\n",
    "                nn.BatchNorm2d(out_channels)\n",
    "            )\n",
    "        self.activation = nn.ReLU()\n",
    "        self.conv1 = nn.Conv2d(in_channels, out_channels, (3, 3), stride, padding=(1, 1), bias=False)\n",
    "        self.conv2 = nn.Conv2d(out_channels, out_channels, (3, 3), padding=(1, 1), bias=False)\n",
    "        self.bn1 = nn.BatchNorm2d(out_channels)\n",
    "        self.bn2 = nn.BatchNorm2d(out_channels)\n",
    "        \n",
    "    def forward(self, x):\n",
    "        residual = self.shortcut(x)\n",
    "        \n",
    "        x = self.conv1(x)\n",
    "        x = self.bn1(x)\n",
    "        x = self.activation(x)\n",
    "        x = self.conv2(x)\n",
    "        x = self.bn2(x)\n",
    "        x = self.activation(x)\n",
    "\n",
    "        return x + residual\n",
    "\n",
    "\n",
    "class ResNetLayer(nn.Module):\n",
    "    def __init__(self, in_channels, out_channels):\n",
    "        super().__init__()\n",
    "        \n",
    "        self.blocks = nn.Sequential(\n",
    "            ResidualBlock(in_channels, out_channels),\n",
    "            ResidualBlock(out_channels, out_channels)\n",
    "        )\n",
    "        \n",
    "    def forward(self, x):\n",
    "        x = self.blocks(x)\n",
    "        return x"
   ]
  },
  {
   "cell_type": "code",
   "execution_count": 15,
   "id": "62b90d7e-67d2-4f56-88c1-1d3a84c5ae24",
   "metadata": {},
   "outputs": [],
   "source": [
    "class ResNet18(nn.Module):\n",
    "    def __init__(self, out_channels=32, layer_num=3, fc_regr_hidden=128, in_channels=4, classes_num=len(data.label_map)):\n",
    "        super().__init__()\n",
    "        \n",
    "        self.conv1 = nn.Conv2d(in_channels, out_channels, (3, 3), padding=(1, 1), bias=True)\n",
    "        self.bn1 = nn.BatchNorm2d(out_channels)\n",
    "        self.activation = nn.ReLU()\n",
    "        self.maxpool = nn.MaxPool2d((2, 2))\n",
    "        self.layers = nn.Sequential(\n",
    "            ResNetLayer(out_channels, out_channels),\n",
    "            *[ResNetLayer(2**i * out_channels, 2**(i+1) * out_channels) for i in range(layer_num - 1)],\n",
    "        )\n",
    "        self.avgpool = nn.AdaptiveAvgPool2d((1, 1))\n",
    "        self.flatten = nn.Flatten()\n",
    "        \n",
    "        # predicting main characteristics\n",
    "        self.fc_regr = nn.Sequential(\n",
    "            nn.Linear(2**(layer_num - 1) * out_channels, fc_regr_hidden),\n",
    "            nn.BatchNorm1d(fc_regr_hidden),\n",
    "            nn.ReLU(),\n",
    "            nn.Dropout(0.4),\n",
    "            nn.Linear(fc_regr_hidden, 1),\n",
    "        )\n",
    "\n",
    "    def forward(self, x):\n",
    "        x = self.conv1(x)\n",
    "        x = self.bn1(x)\n",
    "        x = self.activation(x)\n",
    "        x = self.maxpool(x)\n",
    "        \n",
    "        x = self.layers(x)\n",
    "        \n",
    "        x = self.avgpool(x)\n",
    "        x = self.flatten(x)\n",
    "        \n",
    "        x_regr = self.fc_regr(x)\n",
    "        return x_regr.squeeze()"
   ]
  },
  {
   "cell_type": "code",
   "execution_count": 16,
   "id": "5d6311ae-8db8-4978-a0f8-f0134e2d1817",
   "metadata": {},
   "outputs": [],
   "source": [
    "import IPython\n",
    "\n",
    "\n",
    "def train_loop(model, dataloader, loss_regr_fn, optimizer, step=0.05, history_loss=None):\n",
    "    out = display(IPython.display.Pretty('Learning...'), display_id=True)\n",
    "    \n",
    "    size = len(dataloader.dataset)\n",
    "    num_batches = len(dataloader)\n",
    "    \n",
    "    train_loss = []\n",
    "    percentage = 0\n",
    "    \n",
    "    for batch, (X, y_regr) in enumerate(tqdm(dataloader, leave=False, desc=\"Batch #\")):\n",
    "        torch.cuda.empty_cache()\n",
    "        gc.collect()\n",
    "        \n",
    "        X = X.to(device)\n",
    "        y_regr = y_regr.to(device)\n",
    "        pred_regr = model(X)\n",
    "        loss = loss_regr_fn(pred_regr, y_regr)\n",
    "        train_loss.append(loss.item())\n",
    "        \n",
    "        optimizer.zero_grad()\n",
    "        loss.backward()\n",
    "        optimizer.step()\n",
    "        \n",
    "        if batch / (num_batches - 1) >= percentage:\n",
    "            percentage = int(batch / (num_batches - 1) / step) * step\n",
    "            out.update(f'[{int(percentage * size)}/{size}] Batch RMSE Loss: {np.sqrt(loss.item()):>8f}')\n",
    "    \n",
    "    total_loss = np.mean(np.sqrt(train_loss))\n",
    "    if history_loss is not None:\n",
    "        history_loss.append(total_loss)\n",
    "    return {'train_loss': total_loss}\n",
    "\n",
    "\n",
    "def test_loop(model, dataloader, loss_regr_fn, history_loss=None):\n",
    "    size = len(dataloader.dataset)\n",
    "    num_batches = len(dataloader)\n",
    "    \n",
    "    val_loss = []\n",
    "\n",
    "    with torch.no_grad():\n",
    "        for batch, (X, y_regr) in enumerate(tqdm(dataloader, leave=False, desc=\"Batch #\")):\n",
    "            torch.cuda.empty_cache()\n",
    "            gc.collect()\n",
    "        \n",
    "            X = X.to(device)\n",
    "            y_regr = y_regr.to(device)\n",
    "            pred_regr = model(X)\n",
    "            loss = loss_regr_fn(pred_regr, y_regr)\n",
    "            val_loss.append(loss.item())\n",
    "    \n",
    "        total_loss = np.mean(np.sqrt(val_loss))\n",
    "        print(f\"Validation RMSE Loss: {total_loss:>8f} \\n\")\n",
    "\n",
    "    if history_loss is not None:\n",
    "        history_loss.append(total_loss)\n",
    "    return {'val_loss': total_loss}"
   ]
  },
  {
   "cell_type": "code",
   "execution_count": 17,
   "id": "f59fedea-2d0d-4f43-abf1-c425a7ce361f",
   "metadata": {},
   "outputs": [],
   "source": [
    "def plot_learning_process(train_loss, val_loss, title):\n",
    "    \n",
    "    fig = plt.figure(figsize=(12, 4))\n",
    "    \n",
    "    ax1 = plt.subplot(121)\n",
    "    ax1.plot(np.arange(0, len(train_loss)) + 1, train_loss, label='train')\n",
    "    ax1.plot(np.arange(0, len(val_loss)) + 1, val_loss, label='val')\n",
    "    ax1.legend()\n",
    "    ax1.grid()\n",
    "    ax1.set_xlabel('epoch')\n",
    "    ax1.set_ylabel(title.split()[0])\n",
    "    ax1.set_title(title)\n",
    "    \n",
    "    fig.tight_layout()\n",
    "    plt.show()"
   ]
  },
  {
   "cell_type": "code",
   "execution_count": 27,
   "id": "69d24533-40b3-422b-815d-78c6c4bd633c",
   "metadata": {
    "tags": []
   },
   "outputs": [
    {
     "data": {
      "application/vnd.jupyter.widget-view+json": {
       "model_id": "48c1aee4f7dc4eb79f41a64d606d0536",
       "version_major": 2,
       "version_minor": 0
      },
      "text/plain": [
       "  0%|          | 0/1 [00:00<?, ?it/s]"
      ]
     },
     "metadata": {},
     "output_type": "display_data"
    },
    {
     "data": {
      "application/vnd.jupyter.widget-view+json": {
       "model_id": "3b652188db5d4703bafa641ef1364a7c",
       "version_major": 2,
       "version_minor": 0
      },
      "text/plain": [
       "  0%|          | 0/1 [00:00<?, ?it/s]"
      ]
     },
     "metadata": {},
     "output_type": "display_data"
    },
    {
     "data": {
      "application/vnd.jupyter.widget-view+json": {
       "model_id": "3d0cba9d881149b19e01ef814f67849a",
       "version_major": 2,
       "version_minor": 0
      },
      "text/plain": [
       "  0%|          | 0/1 [00:00<?, ?it/s]"
      ]
     },
     "metadata": {},
     "output_type": "display_data"
    },
    {
     "name": "stdout",
     "output_type": "stream",
     "text": [
      "Epoch 1\n",
      "-------------------------------\n"
     ]
    },
    {
     "data": {
      "text/plain": [
       "'[318/318] Batch RMSE Loss: 16.628292'"
      ]
     },
     "metadata": {},
     "output_type": "display_data"
    },
    {
     "data": {
      "application/vnd.jupyter.widget-view+json": {
       "model_id": "",
       "version_major": 2,
       "version_minor": 0
      },
      "text/plain": [
       "Batch #:   0%|          | 0/9 [00:00<?, ?it/s]"
      ]
     },
     "metadata": {},
     "output_type": "display_data"
    },
    {
     "data": {
      "application/vnd.jupyter.widget-view+json": {
       "model_id": "",
       "version_major": 2,
       "version_minor": 0
      },
      "text/plain": [
       "Batch #:   0%|          | 0/3 [00:00<?, ?it/s]"
      ]
     },
     "metadata": {},
     "output_type": "display_data"
    },
    {
     "name": "stdout",
     "output_type": "stream",
     "text": [
      "Validation RMSE Loss: 18.114252 \n",
      "\n",
      "Epoch 2\n",
      "-------------------------------\n"
     ]
    },
    {
     "data": {
      "text/plain": [
       "'[318/318] Batch RMSE Loss: 18.030923'"
      ]
     },
     "metadata": {},
     "output_type": "display_data"
    },
    {
     "data": {
      "application/vnd.jupyter.widget-view+json": {
       "model_id": "",
       "version_major": 2,
       "version_minor": 0
      },
      "text/plain": [
       "Batch #:   0%|          | 0/9 [00:00<?, ?it/s]"
      ]
     },
     "metadata": {},
     "output_type": "display_data"
    },
    {
     "data": {
      "application/vnd.jupyter.widget-view+json": {
       "model_id": "",
       "version_major": 2,
       "version_minor": 0
      },
      "text/plain": [
       "Batch #:   0%|          | 0/3 [00:00<?, ?it/s]"
      ]
     },
     "metadata": {},
     "output_type": "display_data"
    },
    {
     "name": "stdout",
     "output_type": "stream",
     "text": [
      "Validation RMSE Loss: 17.271631 \n",
      "\n",
      "Epoch 3\n",
      "-------------------------------\n"
     ]
    },
    {
     "data": {
      "text/plain": [
       "'[318/318] Batch RMSE Loss: 13.502134'"
      ]
     },
     "metadata": {},
     "output_type": "display_data"
    },
    {
     "data": {
      "application/vnd.jupyter.widget-view+json": {
       "model_id": "",
       "version_major": 2,
       "version_minor": 0
      },
      "text/plain": [
       "Batch #:   0%|          | 0/9 [00:00<?, ?it/s]"
      ]
     },
     "metadata": {},
     "output_type": "display_data"
    },
    {
     "data": {
      "application/vnd.jupyter.widget-view+json": {
       "model_id": "",
       "version_major": 2,
       "version_minor": 0
      },
      "text/plain": [
       "Batch #:   0%|          | 0/3 [00:00<?, ?it/s]"
      ]
     },
     "metadata": {},
     "output_type": "display_data"
    },
    {
     "name": "stdout",
     "output_type": "stream",
     "text": [
      "Validation RMSE Loss: 16.494585 \n",
      "\n",
      "Epoch 4\n",
      "-------------------------------\n"
     ]
    },
    {
     "data": {
      "text/plain": [
       "'[318/318] Batch RMSE Loss: 12.513283'"
      ]
     },
     "metadata": {},
     "output_type": "display_data"
    },
    {
     "data": {
      "application/vnd.jupyter.widget-view+json": {
       "model_id": "",
       "version_major": 2,
       "version_minor": 0
      },
      "text/plain": [
       "Batch #:   0%|          | 0/9 [00:00<?, ?it/s]"
      ]
     },
     "metadata": {},
     "output_type": "display_data"
    },
    {
     "data": {
      "application/vnd.jupyter.widget-view+json": {
       "model_id": "",
       "version_major": 2,
       "version_minor": 0
      },
      "text/plain": [
       "Batch #:   0%|          | 0/3 [00:00<?, ?it/s]"
      ]
     },
     "metadata": {},
     "output_type": "display_data"
    },
    {
     "name": "stdout",
     "output_type": "stream",
     "text": [
      "Validation RMSE Loss: 15.665261 \n",
      "\n",
      "Epoch 5\n",
      "-------------------------------\n"
     ]
    },
    {
     "data": {
      "text/plain": [
       "'[318/318] Batch RMSE Loss: 13.195255'"
      ]
     },
     "metadata": {},
     "output_type": "display_data"
    },
    {
     "data": {
      "application/vnd.jupyter.widget-view+json": {
       "model_id": "",
       "version_major": 2,
       "version_minor": 0
      },
      "text/plain": [
       "Batch #:   0%|          | 0/9 [00:00<?, ?it/s]"
      ]
     },
     "metadata": {},
     "output_type": "display_data"
    },
    {
     "data": {
      "application/vnd.jupyter.widget-view+json": {
       "model_id": "",
       "version_major": 2,
       "version_minor": 0
      },
      "text/plain": [
       "Batch #:   0%|          | 0/3 [00:00<?, ?it/s]"
      ]
     },
     "metadata": {},
     "output_type": "display_data"
    },
    {
     "name": "stdout",
     "output_type": "stream",
     "text": [
      "Validation RMSE Loss: 14.961098 \n",
      "\n",
      "Epoch 6\n",
      "-------------------------------\n"
     ]
    },
    {
     "data": {
      "text/plain": [
       "'[318/318] Batch RMSE Loss: 13.755802'"
      ]
     },
     "metadata": {},
     "output_type": "display_data"
    },
    {
     "data": {
      "application/vnd.jupyter.widget-view+json": {
       "model_id": "",
       "version_major": 2,
       "version_minor": 0
      },
      "text/plain": [
       "Batch #:   0%|          | 0/9 [00:00<?, ?it/s]"
      ]
     },
     "metadata": {},
     "output_type": "display_data"
    },
    {
     "data": {
      "application/vnd.jupyter.widget-view+json": {
       "model_id": "",
       "version_major": 2,
       "version_minor": 0
      },
      "text/plain": [
       "Batch #:   0%|          | 0/3 [00:00<?, ?it/s]"
      ]
     },
     "metadata": {},
     "output_type": "display_data"
    },
    {
     "name": "stdout",
     "output_type": "stream",
     "text": [
      "Validation RMSE Loss: 14.250898 \n",
      "\n",
      "Epoch 7\n",
      "-------------------------------\n"
     ]
    },
    {
     "data": {
      "text/plain": [
       "'[318/318] Batch RMSE Loss: 11.858490'"
      ]
     },
     "metadata": {},
     "output_type": "display_data"
    },
    {
     "data": {
      "application/vnd.jupyter.widget-view+json": {
       "model_id": "",
       "version_major": 2,
       "version_minor": 0
      },
      "text/plain": [
       "Batch #:   0%|          | 0/9 [00:00<?, ?it/s]"
      ]
     },
     "metadata": {},
     "output_type": "display_data"
    },
    {
     "data": {
      "application/vnd.jupyter.widget-view+json": {
       "model_id": "",
       "version_major": 2,
       "version_minor": 0
      },
      "text/plain": [
       "Batch #:   0%|          | 0/3 [00:00<?, ?it/s]"
      ]
     },
     "metadata": {},
     "output_type": "display_data"
    },
    {
     "name": "stdout",
     "output_type": "stream",
     "text": [
      "Validation RMSE Loss: 13.668155 \n",
      "\n",
      "Epoch 8\n",
      "-------------------------------\n"
     ]
    },
    {
     "data": {
      "text/plain": [
       "'[318/318] Batch RMSE Loss: 12.053241'"
      ]
     },
     "metadata": {},
     "output_type": "display_data"
    },
    {
     "data": {
      "application/vnd.jupyter.widget-view+json": {
       "model_id": "",
       "version_major": 2,
       "version_minor": 0
      },
      "text/plain": [
       "Batch #:   0%|          | 0/9 [00:00<?, ?it/s]"
      ]
     },
     "metadata": {},
     "output_type": "display_data"
    },
    {
     "data": {
      "application/vnd.jupyter.widget-view+json": {
       "model_id": "",
       "version_major": 2,
       "version_minor": 0
      },
      "text/plain": [
       "Batch #:   0%|          | 0/3 [00:00<?, ?it/s]"
      ]
     },
     "metadata": {},
     "output_type": "display_data"
    },
    {
     "name": "stdout",
     "output_type": "stream",
     "text": [
      "Validation RMSE Loss: 13.001053 \n",
      "\n",
      "Epoch 9\n",
      "-------------------------------\n"
     ]
    },
    {
     "data": {
      "text/plain": [
       "'[318/318] Batch RMSE Loss: 10.033632'"
      ]
     },
     "metadata": {},
     "output_type": "display_data"
    },
    {
     "data": {
      "application/vnd.jupyter.widget-view+json": {
       "model_id": "",
       "version_major": 2,
       "version_minor": 0
      },
      "text/plain": [
       "Batch #:   0%|          | 0/9 [00:00<?, ?it/s]"
      ]
     },
     "metadata": {},
     "output_type": "display_data"
    },
    {
     "data": {
      "application/vnd.jupyter.widget-view+json": {
       "model_id": "",
       "version_major": 2,
       "version_minor": 0
      },
      "text/plain": [
       "Batch #:   0%|          | 0/3 [00:00<?, ?it/s]"
      ]
     },
     "metadata": {},
     "output_type": "display_data"
    },
    {
     "name": "stdout",
     "output_type": "stream",
     "text": [
      "Validation RMSE Loss: 12.202253 \n",
      "\n",
      "Epoch 10\n",
      "-------------------------------\n"
     ]
    },
    {
     "data": {
      "text/plain": [
       "'[318/318] Batch RMSE Loss: 8.167212'"
      ]
     },
     "metadata": {},
     "output_type": "display_data"
    },
    {
     "data": {
      "application/vnd.jupyter.widget-view+json": {
       "model_id": "",
       "version_major": 2,
       "version_minor": 0
      },
      "text/plain": [
       "Batch #:   0%|          | 0/9 [00:00<?, ?it/s]"
      ]
     },
     "metadata": {},
     "output_type": "display_data"
    },
    {
     "data": {
      "application/vnd.jupyter.widget-view+json": {
       "model_id": "",
       "version_major": 2,
       "version_minor": 0
      },
      "text/plain": [
       "Batch #:   0%|          | 0/3 [00:00<?, ?it/s]"
      ]
     },
     "metadata": {},
     "output_type": "display_data"
    },
    {
     "name": "stdout",
     "output_type": "stream",
     "text": [
      "Validation RMSE Loss: 11.719836 \n",
      "\n",
      "Epoch 11\n",
      "-------------------------------\n"
     ]
    },
    {
     "data": {
      "text/plain": [
       "'[318/318] Batch RMSE Loss: 8.367552'"
      ]
     },
     "metadata": {},
     "output_type": "display_data"
    },
    {
     "data": {
      "application/vnd.jupyter.widget-view+json": {
       "model_id": "",
       "version_major": 2,
       "version_minor": 0
      },
      "text/plain": [
       "Batch #:   0%|          | 0/9 [00:00<?, ?it/s]"
      ]
     },
     "metadata": {},
     "output_type": "display_data"
    },
    {
     "data": {
      "application/vnd.jupyter.widget-view+json": {
       "model_id": "",
       "version_major": 2,
       "version_minor": 0
      },
      "text/plain": [
       "Batch #:   0%|          | 0/3 [00:00<?, ?it/s]"
      ]
     },
     "metadata": {},
     "output_type": "display_data"
    },
    {
     "name": "stdout",
     "output_type": "stream",
     "text": [
      "Validation RMSE Loss: 11.081714 \n",
      "\n",
      "Epoch 12\n",
      "-------------------------------\n"
     ]
    },
    {
     "data": {
      "text/plain": [
       "'[318/318] Batch RMSE Loss: 8.072888'"
      ]
     },
     "metadata": {},
     "output_type": "display_data"
    },
    {
     "data": {
      "application/vnd.jupyter.widget-view+json": {
       "model_id": "",
       "version_major": 2,
       "version_minor": 0
      },
      "text/plain": [
       "Batch #:   0%|          | 0/9 [00:00<?, ?it/s]"
      ]
     },
     "metadata": {},
     "output_type": "display_data"
    },
    {
     "data": {
      "application/vnd.jupyter.widget-view+json": {
       "model_id": "",
       "version_major": 2,
       "version_minor": 0
      },
      "text/plain": [
       "Batch #:   0%|          | 0/3 [00:00<?, ?it/s]"
      ]
     },
     "metadata": {},
     "output_type": "display_data"
    },
    {
     "name": "stdout",
     "output_type": "stream",
     "text": [
      "Validation RMSE Loss: 11.033890 \n",
      "\n",
      "Epoch 13\n",
      "-------------------------------\n"
     ]
    },
    {
     "data": {
      "text/plain": [
       "'[318/318] Batch RMSE Loss: 9.842226'"
      ]
     },
     "metadata": {},
     "output_type": "display_data"
    },
    {
     "data": {
      "application/vnd.jupyter.widget-view+json": {
       "model_id": "",
       "version_major": 2,
       "version_minor": 0
      },
      "text/plain": [
       "Batch #:   0%|          | 0/9 [00:00<?, ?it/s]"
      ]
     },
     "metadata": {},
     "output_type": "display_data"
    },
    {
     "data": {
      "application/vnd.jupyter.widget-view+json": {
       "model_id": "",
       "version_major": 2,
       "version_minor": 0
      },
      "text/plain": [
       "Batch #:   0%|          | 0/3 [00:00<?, ?it/s]"
      ]
     },
     "metadata": {},
     "output_type": "display_data"
    },
    {
     "name": "stdout",
     "output_type": "stream",
     "text": [
      "Validation RMSE Loss: 10.300230 \n",
      "\n",
      "Epoch 14\n",
      "-------------------------------\n"
     ]
    },
    {
     "data": {
      "text/plain": [
       "'[318/318] Batch RMSE Loss: 8.958196'"
      ]
     },
     "metadata": {},
     "output_type": "display_data"
    },
    {
     "data": {
      "application/vnd.jupyter.widget-view+json": {
       "model_id": "",
       "version_major": 2,
       "version_minor": 0
      },
      "text/plain": [
       "Batch #:   0%|          | 0/9 [00:00<?, ?it/s]"
      ]
     },
     "metadata": {},
     "output_type": "display_data"
    },
    {
     "data": {
      "application/vnd.jupyter.widget-view+json": {
       "model_id": "",
       "version_major": 2,
       "version_minor": 0
      },
      "text/plain": [
       "Batch #:   0%|          | 0/3 [00:00<?, ?it/s]"
      ]
     },
     "metadata": {},
     "output_type": "display_data"
    },
    {
     "name": "stdout",
     "output_type": "stream",
     "text": [
      "Validation RMSE Loss: 9.985317 \n",
      "\n",
      "Epoch 15\n",
      "-------------------------------\n"
     ]
    },
    {
     "data": {
      "text/plain": [
       "'[318/318] Batch RMSE Loss: 8.314145'"
      ]
     },
     "metadata": {},
     "output_type": "display_data"
    },
    {
     "data": {
      "application/vnd.jupyter.widget-view+json": {
       "model_id": "",
       "version_major": 2,
       "version_minor": 0
      },
      "text/plain": [
       "Batch #:   0%|          | 0/9 [00:00<?, ?it/s]"
      ]
     },
     "metadata": {},
     "output_type": "display_data"
    },
    {
     "data": {
      "application/vnd.jupyter.widget-view+json": {
       "model_id": "",
       "version_major": 2,
       "version_minor": 0
      },
      "text/plain": [
       "Batch #:   0%|          | 0/3 [00:00<?, ?it/s]"
      ]
     },
     "metadata": {},
     "output_type": "display_data"
    },
    {
     "name": "stdout",
     "output_type": "stream",
     "text": [
      "Validation RMSE Loss: 9.692237 \n",
      "\n",
      "Epoch 16\n",
      "-------------------------------\n"
     ]
    },
    {
     "data": {
      "text/plain": [
       "'[318/318] Batch RMSE Loss: 6.775386'"
      ]
     },
     "metadata": {},
     "output_type": "display_data"
    },
    {
     "data": {
      "application/vnd.jupyter.widget-view+json": {
       "model_id": "",
       "version_major": 2,
       "version_minor": 0
      },
      "text/plain": [
       "Batch #:   0%|          | 0/9 [00:00<?, ?it/s]"
      ]
     },
     "metadata": {},
     "output_type": "display_data"
    },
    {
     "data": {
      "application/vnd.jupyter.widget-view+json": {
       "model_id": "",
       "version_major": 2,
       "version_minor": 0
      },
      "text/plain": [
       "Batch #:   0%|          | 0/3 [00:00<?, ?it/s]"
      ]
     },
     "metadata": {},
     "output_type": "display_data"
    },
    {
     "name": "stdout",
     "output_type": "stream",
     "text": [
      "Validation RMSE Loss: 9.159544 \n",
      "\n",
      "Epoch 17\n",
      "-------------------------------\n"
     ]
    },
    {
     "data": {
      "text/plain": [
       "'[318/318] Batch RMSE Loss: 7.959843'"
      ]
     },
     "metadata": {},
     "output_type": "display_data"
    },
    {
     "data": {
      "application/vnd.jupyter.widget-view+json": {
       "model_id": "",
       "version_major": 2,
       "version_minor": 0
      },
      "text/plain": [
       "Batch #:   0%|          | 0/9 [00:00<?, ?it/s]"
      ]
     },
     "metadata": {},
     "output_type": "display_data"
    },
    {
     "data": {
      "application/vnd.jupyter.widget-view+json": {
       "model_id": "",
       "version_major": 2,
       "version_minor": 0
      },
      "text/plain": [
       "Batch #:   0%|          | 0/3 [00:00<?, ?it/s]"
      ]
     },
     "metadata": {},
     "output_type": "display_data"
    },
    {
     "name": "stdout",
     "output_type": "stream",
     "text": [
      "Validation RMSE Loss: 8.787400 \n",
      "\n",
      "Epoch 18\n",
      "-------------------------------\n"
     ]
    },
    {
     "data": {
      "text/plain": [
       "'[318/318] Batch RMSE Loss: 6.078734'"
      ]
     },
     "metadata": {},
     "output_type": "display_data"
    },
    {
     "data": {
      "application/vnd.jupyter.widget-view+json": {
       "model_id": "",
       "version_major": 2,
       "version_minor": 0
      },
      "text/plain": [
       "Batch #:   0%|          | 0/9 [00:00<?, ?it/s]"
      ]
     },
     "metadata": {},
     "output_type": "display_data"
    },
    {
     "data": {
      "application/vnd.jupyter.widget-view+json": {
       "model_id": "",
       "version_major": 2,
       "version_minor": 0
      },
      "text/plain": [
       "Batch #:   0%|          | 0/3 [00:00<?, ?it/s]"
      ]
     },
     "metadata": {},
     "output_type": "display_data"
    },
    {
     "name": "stdout",
     "output_type": "stream",
     "text": [
      "Validation RMSE Loss: 8.501519 \n",
      "\n",
      "Epoch 19\n",
      "-------------------------------\n"
     ]
    },
    {
     "data": {
      "text/plain": [
       "'[318/318] Batch RMSE Loss: 5.694422'"
      ]
     },
     "metadata": {},
     "output_type": "display_data"
    },
    {
     "data": {
      "application/vnd.jupyter.widget-view+json": {
       "model_id": "",
       "version_major": 2,
       "version_minor": 0
      },
      "text/plain": [
       "Batch #:   0%|          | 0/9 [00:00<?, ?it/s]"
      ]
     },
     "metadata": {},
     "output_type": "display_data"
    },
    {
     "data": {
      "application/vnd.jupyter.widget-view+json": {
       "model_id": "",
       "version_major": 2,
       "version_minor": 0
      },
      "text/plain": [
       "Batch #:   0%|          | 0/3 [00:00<?, ?it/s]"
      ]
     },
     "metadata": {},
     "output_type": "display_data"
    },
    {
     "name": "stdout",
     "output_type": "stream",
     "text": [
      "Validation RMSE Loss: 8.422528 \n",
      "\n",
      "Epoch 20\n",
      "-------------------------------\n"
     ]
    },
    {
     "data": {
      "text/plain": [
       "'[318/318] Batch RMSE Loss: 6.793205'"
      ]
     },
     "metadata": {},
     "output_type": "display_data"
    },
    {
     "data": {
      "application/vnd.jupyter.widget-view+json": {
       "model_id": "",
       "version_major": 2,
       "version_minor": 0
      },
      "text/plain": [
       "Batch #:   0%|          | 0/9 [00:00<?, ?it/s]"
      ]
     },
     "metadata": {},
     "output_type": "display_data"
    },
    {
     "data": {
      "application/vnd.jupyter.widget-view+json": {
       "model_id": "",
       "version_major": 2,
       "version_minor": 0
      },
      "text/plain": [
       "Batch #:   0%|          | 0/3 [00:00<?, ?it/s]"
      ]
     },
     "metadata": {},
     "output_type": "display_data"
    },
    {
     "name": "stdout",
     "output_type": "stream",
     "text": [
      "Validation RMSE Loss: 8.164334 \n",
      "\n",
      "Epoch 21\n",
      "-------------------------------\n"
     ]
    },
    {
     "data": {
      "text/plain": [
       "'[318/318] Batch RMSE Loss: 6.477777'"
      ]
     },
     "metadata": {},
     "output_type": "display_data"
    },
    {
     "data": {
      "application/vnd.jupyter.widget-view+json": {
       "model_id": "",
       "version_major": 2,
       "version_minor": 0
      },
      "text/plain": [
       "Batch #:   0%|          | 0/9 [00:00<?, ?it/s]"
      ]
     },
     "metadata": {},
     "output_type": "display_data"
    },
    {
     "data": {
      "application/vnd.jupyter.widget-view+json": {
       "model_id": "",
       "version_major": 2,
       "version_minor": 0
      },
      "text/plain": [
       "Batch #:   0%|          | 0/3 [00:00<?, ?it/s]"
      ]
     },
     "metadata": {},
     "output_type": "display_data"
    },
    {
     "name": "stdout",
     "output_type": "stream",
     "text": [
      "Validation RMSE Loss: 8.082278 \n",
      "\n",
      "Epoch 22\n",
      "-------------------------------\n"
     ]
    },
    {
     "data": {
      "text/plain": [
       "'[318/318] Batch RMSE Loss: 5.325753'"
      ]
     },
     "metadata": {},
     "output_type": "display_data"
    },
    {
     "data": {
      "application/vnd.jupyter.widget-view+json": {
       "model_id": "",
       "version_major": 2,
       "version_minor": 0
      },
      "text/plain": [
       "Batch #:   0%|          | 0/9 [00:00<?, ?it/s]"
      ]
     },
     "metadata": {},
     "output_type": "display_data"
    },
    {
     "data": {
      "application/vnd.jupyter.widget-view+json": {
       "model_id": "",
       "version_major": 2,
       "version_minor": 0
      },
      "text/plain": [
       "Batch #:   0%|          | 0/3 [00:00<?, ?it/s]"
      ]
     },
     "metadata": {},
     "output_type": "display_data"
    },
    {
     "name": "stdout",
     "output_type": "stream",
     "text": [
      "Validation RMSE Loss: 7.912866 \n",
      "\n",
      "Epoch 23\n",
      "-------------------------------\n"
     ]
    },
    {
     "data": {
      "text/plain": [
       "'[318/318] Batch RMSE Loss: 5.581147'"
      ]
     },
     "metadata": {},
     "output_type": "display_data"
    },
    {
     "data": {
      "application/vnd.jupyter.widget-view+json": {
       "model_id": "",
       "version_major": 2,
       "version_minor": 0
      },
      "text/plain": [
       "Batch #:   0%|          | 0/9 [00:00<?, ?it/s]"
      ]
     },
     "metadata": {},
     "output_type": "display_data"
    },
    {
     "data": {
      "application/vnd.jupyter.widget-view+json": {
       "model_id": "",
       "version_major": 2,
       "version_minor": 0
      },
      "text/plain": [
       "Batch #:   0%|          | 0/3 [00:00<?, ?it/s]"
      ]
     },
     "metadata": {},
     "output_type": "display_data"
    },
    {
     "name": "stdout",
     "output_type": "stream",
     "text": [
      "Validation RMSE Loss: 8.189133 \n",
      "\n",
      "Epoch 24\n",
      "-------------------------------\n"
     ]
    },
    {
     "data": {
      "text/plain": [
       "'[318/318] Batch RMSE Loss: 4.482988'"
      ]
     },
     "metadata": {},
     "output_type": "display_data"
    },
    {
     "data": {
      "application/vnd.jupyter.widget-view+json": {
       "model_id": "",
       "version_major": 2,
       "version_minor": 0
      },
      "text/plain": [
       "Batch #:   0%|          | 0/9 [00:00<?, ?it/s]"
      ]
     },
     "metadata": {},
     "output_type": "display_data"
    },
    {
     "data": {
      "application/vnd.jupyter.widget-view+json": {
       "model_id": "",
       "version_major": 2,
       "version_minor": 0
      },
      "text/plain": [
       "Batch #:   0%|          | 0/3 [00:00<?, ?it/s]"
      ]
     },
     "metadata": {},
     "output_type": "display_data"
    },
    {
     "name": "stdout",
     "output_type": "stream",
     "text": [
      "Validation RMSE Loss: 8.019943 \n",
      "\n",
      "Epoch 25\n",
      "-------------------------------\n"
     ]
    },
    {
     "data": {
      "text/plain": [
       "'[318/318] Batch RMSE Loss: 5.473439'"
      ]
     },
     "metadata": {},
     "output_type": "display_data"
    },
    {
     "data": {
      "application/vnd.jupyter.widget-view+json": {
       "model_id": "",
       "version_major": 2,
       "version_minor": 0
      },
      "text/plain": [
       "Batch #:   0%|          | 0/9 [00:00<?, ?it/s]"
      ]
     },
     "metadata": {},
     "output_type": "display_data"
    },
    {
     "data": {
      "application/vnd.jupyter.widget-view+json": {
       "model_id": "",
       "version_major": 2,
       "version_minor": 0
      },
      "text/plain": [
       "Batch #:   0%|          | 0/3 [00:00<?, ?it/s]"
      ]
     },
     "metadata": {},
     "output_type": "display_data"
    },
    {
     "name": "stdout",
     "output_type": "stream",
     "text": [
      "Validation RMSE Loss: 7.820684 \n",
      "\n",
      "Epoch 26\n",
      "-------------------------------\n"
     ]
    },
    {
     "data": {
      "text/plain": [
       "'[318/318] Batch RMSE Loss: 4.772515'"
      ]
     },
     "metadata": {},
     "output_type": "display_data"
    },
    {
     "data": {
      "application/vnd.jupyter.widget-view+json": {
       "model_id": "",
       "version_major": 2,
       "version_minor": 0
      },
      "text/plain": [
       "Batch #:   0%|          | 0/9 [00:00<?, ?it/s]"
      ]
     },
     "metadata": {},
     "output_type": "display_data"
    },
    {
     "data": {
      "application/vnd.jupyter.widget-view+json": {
       "model_id": "",
       "version_major": 2,
       "version_minor": 0
      },
      "text/plain": [
       "Batch #:   0%|          | 0/3 [00:00<?, ?it/s]"
      ]
     },
     "metadata": {},
     "output_type": "display_data"
    },
    {
     "name": "stdout",
     "output_type": "stream",
     "text": [
      "Validation RMSE Loss: 7.667561 \n",
      "\n",
      "Epoch 27\n",
      "-------------------------------\n"
     ]
    },
    {
     "data": {
      "text/plain": [
       "'[318/318] Batch RMSE Loss: 4.778859'"
      ]
     },
     "metadata": {},
     "output_type": "display_data"
    },
    {
     "data": {
      "application/vnd.jupyter.widget-view+json": {
       "model_id": "",
       "version_major": 2,
       "version_minor": 0
      },
      "text/plain": [
       "Batch #:   0%|          | 0/9 [00:00<?, ?it/s]"
      ]
     },
     "metadata": {},
     "output_type": "display_data"
    },
    {
     "data": {
      "application/vnd.jupyter.widget-view+json": {
       "model_id": "",
       "version_major": 2,
       "version_minor": 0
      },
      "text/plain": [
       "Batch #:   0%|          | 0/3 [00:00<?, ?it/s]"
      ]
     },
     "metadata": {},
     "output_type": "display_data"
    },
    {
     "name": "stdout",
     "output_type": "stream",
     "text": [
      "Validation RMSE Loss: 8.169793 \n",
      "\n",
      "Epoch 28\n",
      "-------------------------------\n"
     ]
    },
    {
     "data": {
      "text/plain": [
       "'[318/318] Batch RMSE Loss: 4.981112'"
      ]
     },
     "metadata": {},
     "output_type": "display_data"
    },
    {
     "data": {
      "application/vnd.jupyter.widget-view+json": {
       "model_id": "",
       "version_major": 2,
       "version_minor": 0
      },
      "text/plain": [
       "Batch #:   0%|          | 0/9 [00:00<?, ?it/s]"
      ]
     },
     "metadata": {},
     "output_type": "display_data"
    },
    {
     "data": {
      "application/vnd.jupyter.widget-view+json": {
       "model_id": "",
       "version_major": 2,
       "version_minor": 0
      },
      "text/plain": [
       "Batch #:   0%|          | 0/3 [00:00<?, ?it/s]"
      ]
     },
     "metadata": {},
     "output_type": "display_data"
    },
    {
     "name": "stdout",
     "output_type": "stream",
     "text": [
      "Validation RMSE Loss: 8.564140 \n",
      "\n",
      "Epoch 29\n",
      "-------------------------------\n"
     ]
    },
    {
     "data": {
      "text/plain": [
       "'[318/318] Batch RMSE Loss: 5.223444'"
      ]
     },
     "metadata": {},
     "output_type": "display_data"
    },
    {
     "data": {
      "application/vnd.jupyter.widget-view+json": {
       "model_id": "",
       "version_major": 2,
       "version_minor": 0
      },
      "text/plain": [
       "Batch #:   0%|          | 0/9 [00:00<?, ?it/s]"
      ]
     },
     "metadata": {},
     "output_type": "display_data"
    },
    {
     "data": {
      "application/vnd.jupyter.widget-view+json": {
       "model_id": "",
       "version_major": 2,
       "version_minor": 0
      },
      "text/plain": [
       "Batch #:   0%|          | 0/3 [00:00<?, ?it/s]"
      ]
     },
     "metadata": {},
     "output_type": "display_data"
    },
    {
     "name": "stdout",
     "output_type": "stream",
     "text": [
      "Validation RMSE Loss: 8.209188 \n",
      "\n",
      "Epoch 30\n",
      "-------------------------------\n"
     ]
    },
    {
     "data": {
      "text/plain": [
       "'[318/318] Batch RMSE Loss: 5.871943'"
      ]
     },
     "metadata": {},
     "output_type": "display_data"
    },
    {
     "data": {
      "application/vnd.jupyter.widget-view+json": {
       "model_id": "",
       "version_major": 2,
       "version_minor": 0
      },
      "text/plain": [
       "Batch #:   0%|          | 0/9 [00:00<?, ?it/s]"
      ]
     },
     "metadata": {},
     "output_type": "display_data"
    },
    {
     "data": {
      "application/vnd.jupyter.widget-view+json": {
       "model_id": "",
       "version_major": 2,
       "version_minor": 0
      },
      "text/plain": [
       "Batch #:   0%|          | 0/3 [00:00<?, ?it/s]"
      ]
     },
     "metadata": {},
     "output_type": "display_data"
    },
    {
     "name": "stdout",
     "output_type": "stream",
     "text": [
      "Validation RMSE Loss: 8.228498 \n",
      "\n"
     ]
    }
   ],
   "source": [
    "loss_regr = nn.MSELoss()\n",
    "epochs = 30\n",
    "\n",
    "models_results = []\n",
    "for chan in tqdm([8]):\n",
    "    for layer_n in tqdm([3]):\n",
    "        for fc_regr_hidden in tqdm([512]):\n",
    "            net = ResNet18(out_channels=chan, layer_num=layer_n, fc_regr_hidden=fc_regr_hidden).to(device)\n",
    "            optimizer = torch.optim.Adam(net.parameters(), lr=5e-4)\n",
    "            scheduler = torch.optim.lr_scheduler.ReduceLROnPlateau(optimizer, 'min', factor=0.1, patience=5, min_lr=1e-7)\n",
    "\n",
    "            train_loss = []\n",
    "            val_loss = []\n",
    "\n",
    "            models_results.append({\"first_out_channel\": chan, \"layer_num\": layer_n, \"fc_regr_hidden\": fc_regr_hidden})\n",
    "            for epoch in range(epochs):\n",
    "                print(f\"Epoch {epoch+1}\")\n",
    "                print(\"-------------------------------\")\n",
    "                train_loop(net, train_dataloader, loss_regr, optimizer, history_loss=train_loss)\n",
    "                test_loop(net, val_dataloader, loss_regr, history_loss=val_loss)\n",
    "                scheduler.step(train_loss[-1])\n",
    "            \n",
    "            models_results[-1][f\"train_{target_column}_RMSE\"] = train_loss\n",
    "            models_results[-1][f\"val_{target_column}_RMSE\"] = val_loss"
   ]
  },
  {
   "cell_type": "code",
   "execution_count": 28,
   "id": "14859988-ec8a-4614-9b06-4ad6b15d79e9",
   "metadata": {},
   "outputs": [],
   "source": [
    "results_df = pd.DataFrame(models_results)"
   ]
  },
  {
   "cell_type": "code",
   "execution_count": 29,
   "id": "b90169a9-57ea-47ca-8007-f182d34f3c38",
   "metadata": {},
   "outputs": [
    {
     "data": {
      "text/html": [
       "<div>\n",
       "<style scoped>\n",
       "    .dataframe tbody tr th:only-of-type {\n",
       "        vertical-align: middle;\n",
       "    }\n",
       "\n",
       "    .dataframe tbody tr th {\n",
       "        vertical-align: top;\n",
       "    }\n",
       "\n",
       "    .dataframe thead th {\n",
       "        text-align: right;\n",
       "    }\n",
       "</style>\n",
       "<table border=\"1\" class=\"dataframe\">\n",
       "  <thead>\n",
       "    <tr style=\"text-align: right;\">\n",
       "      <th></th>\n",
       "      <th>first_out_channel</th>\n",
       "      <th>layer_num</th>\n",
       "      <th>fc_regr_hidden</th>\n",
       "      <th>train_hgt_RMSE</th>\n",
       "      <th>val_hgt_RMSE</th>\n",
       "    </tr>\n",
       "  </thead>\n",
       "  <tbody>\n",
       "    <tr>\n",
       "      <th>0</th>\n",
       "      <td>8</td>\n",
       "      <td>3</td>\n",
       "      <td>512</td>\n",
       "      <td>[18.038205447828798, 16.986710155478608, 16.02...</td>\n",
       "      <td>[18.114251981664033, 17.27163106538643, 16.494...</td>\n",
       "    </tr>\n",
       "  </tbody>\n",
       "</table>\n",
       "</div>"
      ],
      "text/plain": [
       "   first_out_channel  layer_num  fc_regr_hidden  \\\n",
       "0                  8          3             512   \n",
       "\n",
       "                                      train_hgt_RMSE  \\\n",
       "0  [18.038205447828798, 16.986710155478608, 16.02...   \n",
       "\n",
       "                                        val_hgt_RMSE  \n",
       "0  [18.114251981664033, 17.27163106538643, 16.494...  "
      ]
     },
     "execution_count": 29,
     "metadata": {},
     "output_type": "execute_result"
    }
   ],
   "source": [
    "results_df"
   ]
  },
  {
   "cell_type": "code",
   "execution_count": 30,
   "id": "fba8515d-5844-4994-9e40-c690ec6d60d8",
   "metadata": {},
   "outputs": [
    {
     "data": {
      "text/html": [
       "<div>\n",
       "<style scoped>\n",
       "    .dataframe tbody tr th:only-of-type {\n",
       "        vertical-align: middle;\n",
       "    }\n",
       "\n",
       "    .dataframe tbody tr th {\n",
       "        vertical-align: top;\n",
       "    }\n",
       "\n",
       "    .dataframe thead th {\n",
       "        text-align: right;\n",
       "    }\n",
       "</style>\n",
       "<table border=\"1\" class=\"dataframe\">\n",
       "  <thead>\n",
       "    <tr style=\"text-align: right;\">\n",
       "      <th></th>\n",
       "      <th>layer_num</th>\n",
       "      <th>first_out_channel</th>\n",
       "      <th>fc_regr_hidden</th>\n",
       "      <th>train_hgt_RMSE</th>\n",
       "      <th>val_hgt_RMSE</th>\n",
       "    </tr>\n",
       "    <tr>\n",
       "      <th>Epoch</th>\n",
       "      <th></th>\n",
       "      <th></th>\n",
       "      <th></th>\n",
       "      <th></th>\n",
       "      <th></th>\n",
       "    </tr>\n",
       "  </thead>\n",
       "  <tbody>\n",
       "    <tr>\n",
       "      <th>1</th>\n",
       "      <td>3</td>\n",
       "      <td>8</td>\n",
       "      <td>512</td>\n",
       "      <td>18.038205</td>\n",
       "      <td>18.114252</td>\n",
       "    </tr>\n",
       "    <tr>\n",
       "      <th>2</th>\n",
       "      <td>3</td>\n",
       "      <td>8</td>\n",
       "      <td>512</td>\n",
       "      <td>16.98671</td>\n",
       "      <td>17.271631</td>\n",
       "    </tr>\n",
       "    <tr>\n",
       "      <th>3</th>\n",
       "      <td>3</td>\n",
       "      <td>8</td>\n",
       "      <td>512</td>\n",
       "      <td>16.029023</td>\n",
       "      <td>16.494585</td>\n",
       "    </tr>\n",
       "    <tr>\n",
       "      <th>4</th>\n",
       "      <td>3</td>\n",
       "      <td>8</td>\n",
       "      <td>512</td>\n",
       "      <td>15.062793</td>\n",
       "      <td>15.665261</td>\n",
       "    </tr>\n",
       "    <tr>\n",
       "      <th>5</th>\n",
       "      <td>3</td>\n",
       "      <td>8</td>\n",
       "      <td>512</td>\n",
       "      <td>14.348366</td>\n",
       "      <td>14.961098</td>\n",
       "    </tr>\n",
       "    <tr>\n",
       "      <th>6</th>\n",
       "      <td>3</td>\n",
       "      <td>8</td>\n",
       "      <td>512</td>\n",
       "      <td>13.542337</td>\n",
       "      <td>14.250898</td>\n",
       "    </tr>\n",
       "    <tr>\n",
       "      <th>7</th>\n",
       "      <td>3</td>\n",
       "      <td>8</td>\n",
       "      <td>512</td>\n",
       "      <td>12.413329</td>\n",
       "      <td>13.668155</td>\n",
       "    </tr>\n",
       "    <tr>\n",
       "      <th>8</th>\n",
       "      <td>3</td>\n",
       "      <td>8</td>\n",
       "      <td>512</td>\n",
       "      <td>11.63789</td>\n",
       "      <td>13.001053</td>\n",
       "    </tr>\n",
       "    <tr>\n",
       "      <th>9</th>\n",
       "      <td>3</td>\n",
       "      <td>8</td>\n",
       "      <td>512</td>\n",
       "      <td>10.885511</td>\n",
       "      <td>12.202253</td>\n",
       "    </tr>\n",
       "    <tr>\n",
       "      <th>10</th>\n",
       "      <td>3</td>\n",
       "      <td>8</td>\n",
       "      <td>512</td>\n",
       "      <td>9.887</td>\n",
       "      <td>11.719836</td>\n",
       "    </tr>\n",
       "    <tr>\n",
       "      <th>11</th>\n",
       "      <td>3</td>\n",
       "      <td>8</td>\n",
       "      <td>512</td>\n",
       "      <td>9.111005</td>\n",
       "      <td>11.081714</td>\n",
       "    </tr>\n",
       "    <tr>\n",
       "      <th>12</th>\n",
       "      <td>3</td>\n",
       "      <td>8</td>\n",
       "      <td>512</td>\n",
       "      <td>9.041469</td>\n",
       "      <td>11.03389</td>\n",
       "    </tr>\n",
       "    <tr>\n",
       "      <th>13</th>\n",
       "      <td>3</td>\n",
       "      <td>8</td>\n",
       "      <td>512</td>\n",
       "      <td>8.710974</td>\n",
       "      <td>10.30023</td>\n",
       "    </tr>\n",
       "    <tr>\n",
       "      <th>14</th>\n",
       "      <td>3</td>\n",
       "      <td>8</td>\n",
       "      <td>512</td>\n",
       "      <td>7.750456</td>\n",
       "      <td>9.985317</td>\n",
       "    </tr>\n",
       "    <tr>\n",
       "      <th>15</th>\n",
       "      <td>3</td>\n",
       "      <td>8</td>\n",
       "      <td>512</td>\n",
       "      <td>7.835372</td>\n",
       "      <td>9.692237</td>\n",
       "    </tr>\n",
       "    <tr>\n",
       "      <th>16</th>\n",
       "      <td>3</td>\n",
       "      <td>8</td>\n",
       "      <td>512</td>\n",
       "      <td>7.21246</td>\n",
       "      <td>9.159544</td>\n",
       "    </tr>\n",
       "    <tr>\n",
       "      <th>17</th>\n",
       "      <td>3</td>\n",
       "      <td>8</td>\n",
       "      <td>512</td>\n",
       "      <td>6.881554</td>\n",
       "      <td>8.7874</td>\n",
       "    </tr>\n",
       "    <tr>\n",
       "      <th>18</th>\n",
       "      <td>3</td>\n",
       "      <td>8</td>\n",
       "      <td>512</td>\n",
       "      <td>6.198785</td>\n",
       "      <td>8.501519</td>\n",
       "    </tr>\n",
       "    <tr>\n",
       "      <th>19</th>\n",
       "      <td>3</td>\n",
       "      <td>8</td>\n",
       "      <td>512</td>\n",
       "      <td>6.017795</td>\n",
       "      <td>8.422528</td>\n",
       "    </tr>\n",
       "    <tr>\n",
       "      <th>20</th>\n",
       "      <td>3</td>\n",
       "      <td>8</td>\n",
       "      <td>512</td>\n",
       "      <td>5.962701</td>\n",
       "      <td>8.164334</td>\n",
       "    </tr>\n",
       "    <tr>\n",
       "      <th>21</th>\n",
       "      <td>3</td>\n",
       "      <td>8</td>\n",
       "      <td>512</td>\n",
       "      <td>5.811737</td>\n",
       "      <td>8.082278</td>\n",
       "    </tr>\n",
       "    <tr>\n",
       "      <th>22</th>\n",
       "      <td>3</td>\n",
       "      <td>8</td>\n",
       "      <td>512</td>\n",
       "      <td>5.758237</td>\n",
       "      <td>7.912866</td>\n",
       "    </tr>\n",
       "    <tr>\n",
       "      <th>23</th>\n",
       "      <td>3</td>\n",
       "      <td>8</td>\n",
       "      <td>512</td>\n",
       "      <td>5.303593</td>\n",
       "      <td>8.189133</td>\n",
       "    </tr>\n",
       "    <tr>\n",
       "      <th>24</th>\n",
       "      <td>3</td>\n",
       "      <td>8</td>\n",
       "      <td>512</td>\n",
       "      <td>5.474241</td>\n",
       "      <td>8.019943</td>\n",
       "    </tr>\n",
       "    <tr>\n",
       "      <th>25</th>\n",
       "      <td>3</td>\n",
       "      <td>8</td>\n",
       "      <td>512</td>\n",
       "      <td>5.445636</td>\n",
       "      <td>7.820684</td>\n",
       "    </tr>\n",
       "    <tr>\n",
       "      <th>26</th>\n",
       "      <td>3</td>\n",
       "      <td>8</td>\n",
       "      <td>512</td>\n",
       "      <td>5.33401</td>\n",
       "      <td>7.667561</td>\n",
       "    </tr>\n",
       "    <tr>\n",
       "      <th>27</th>\n",
       "      <td>3</td>\n",
       "      <td>8</td>\n",
       "      <td>512</td>\n",
       "      <td>5.155335</td>\n",
       "      <td>8.169793</td>\n",
       "    </tr>\n",
       "    <tr>\n",
       "      <th>28</th>\n",
       "      <td>3</td>\n",
       "      <td>8</td>\n",
       "      <td>512</td>\n",
       "      <td>5.10004</td>\n",
       "      <td>8.56414</td>\n",
       "    </tr>\n",
       "    <tr>\n",
       "      <th>29</th>\n",
       "      <td>3</td>\n",
       "      <td>8</td>\n",
       "      <td>512</td>\n",
       "      <td>5.292904</td>\n",
       "      <td>8.209188</td>\n",
       "    </tr>\n",
       "    <tr>\n",
       "      <th>30</th>\n",
       "      <td>3</td>\n",
       "      <td>8</td>\n",
       "      <td>512</td>\n",
       "      <td>5.20254</td>\n",
       "      <td>8.228498</td>\n",
       "    </tr>\n",
       "  </tbody>\n",
       "</table>\n",
       "</div>"
      ],
      "text/plain": [
       "       layer_num  first_out_channel  fc_regr_hidden train_hgt_RMSE  \\\n",
       "Epoch                                                                \n",
       "1              3                  8             512      18.038205   \n",
       "2              3                  8             512       16.98671   \n",
       "3              3                  8             512      16.029023   \n",
       "4              3                  8             512      15.062793   \n",
       "5              3                  8             512      14.348366   \n",
       "6              3                  8             512      13.542337   \n",
       "7              3                  8             512      12.413329   \n",
       "8              3                  8             512       11.63789   \n",
       "9              3                  8             512      10.885511   \n",
       "10             3                  8             512          9.887   \n",
       "11             3                  8             512       9.111005   \n",
       "12             3                  8             512       9.041469   \n",
       "13             3                  8             512       8.710974   \n",
       "14             3                  8             512       7.750456   \n",
       "15             3                  8             512       7.835372   \n",
       "16             3                  8             512        7.21246   \n",
       "17             3                  8             512       6.881554   \n",
       "18             3                  8             512       6.198785   \n",
       "19             3                  8             512       6.017795   \n",
       "20             3                  8             512       5.962701   \n",
       "21             3                  8             512       5.811737   \n",
       "22             3                  8             512       5.758237   \n",
       "23             3                  8             512       5.303593   \n",
       "24             3                  8             512       5.474241   \n",
       "25             3                  8             512       5.445636   \n",
       "26             3                  8             512        5.33401   \n",
       "27             3                  8             512       5.155335   \n",
       "28             3                  8             512        5.10004   \n",
       "29             3                  8             512       5.292904   \n",
       "30             3                  8             512        5.20254   \n",
       "\n",
       "      val_hgt_RMSE  \n",
       "Epoch               \n",
       "1        18.114252  \n",
       "2        17.271631  \n",
       "3        16.494585  \n",
       "4        15.665261  \n",
       "5        14.961098  \n",
       "6        14.250898  \n",
       "7        13.668155  \n",
       "8        13.001053  \n",
       "9        12.202253  \n",
       "10       11.719836  \n",
       "11       11.081714  \n",
       "12        11.03389  \n",
       "13        10.30023  \n",
       "14        9.985317  \n",
       "15        9.692237  \n",
       "16        9.159544  \n",
       "17          8.7874  \n",
       "18        8.501519  \n",
       "19        8.422528  \n",
       "20        8.164334  \n",
       "21        8.082278  \n",
       "22        7.912866  \n",
       "23        8.189133  \n",
       "24        8.019943  \n",
       "25        7.820684  \n",
       "26        7.667561  \n",
       "27        8.169793  \n",
       "28         8.56414  \n",
       "29        8.209188  \n",
       "30        8.228498  "
      ]
     },
     "execution_count": 30,
     "metadata": {},
     "output_type": "execute_result"
    }
   ],
   "source": [
    "expanded_df = results_df.set_index([\"layer_num\"]).apply(pd.Series.explode).reset_index()\n",
    "\n",
    "expanded_df.index.name = \"Epoch\"\n",
    "expanded_df.index = expanded_df.index + 1\n",
    "expanded_df.dropna()"
   ]
  },
  {
   "cell_type": "code",
   "execution_count": 31,
   "id": "d0cc1329-e9b4-46b8-bdb9-d5dbe3fe1b19",
   "metadata": {},
   "outputs": [
    {
     "name": "stdout",
     "output_type": "stream",
     "text": [
      "first_out_channel      8\n",
      "layer_num              3\n",
      "fc_regr_hidden       512\n",
      "Name: 0, dtype: object\n"
     ]
    },
    {
     "data": {
      "image/png": "[encoded data removed]",
      "text/plain": [
       "<Figure size 1200x400 with 1 Axes>"
      ]
     },
     "metadata": {},
     "output_type": "display_data"
    }
   ],
   "source": [
    "for i in range(len(results_df)):\n",
    "    row = results_df.iloc[i]\n",
    "    print(row[:3])\n",
    "    plot_learning_process(row[f\"train_{target_column}_RMSE\"], row[f\"val_{target_column}_RMSE\"], f\"RMSE of {target_column} prediction\")"
   ]
  },
  {
   "cell_type": "code",
   "execution_count": 32,
   "id": "7545a572-5f67-47c7-857d-f0c7eab20e49",
   "metadata": {},
   "outputs": [],
   "source": [
    "test_dataset = TreeDatasetFromSubset(test, prepare_transform)\n",
    "test_dataloader = DataLoader(\n",
    "    dataset=test_dataset,\n",
    "    batch_size=BATCH_SIZE,\n",
    "    shuffle=False,\n",
    "    drop_last=False,\n",
    ")"
   ]
  },
  {
   "cell_type": "code",
   "execution_count": 33,
   "id": "0a51dd9a-eddd-4f13-9ef2-42bc2789c838",
   "metadata": {},
   "outputs": [
    {
     "data": {
      "application/vnd.jupyter.widget-view+json": {
       "model_id": "",
       "version_major": 2,
       "version_minor": 0
      },
      "text/plain": [
       "Batch #:   0%|          | 0/2 [00:00<?, ?it/s]"
      ]
     },
     "metadata": {},
     "output_type": "display_data"
    },
    {
     "name": "stdout",
     "output_type": "stream",
     "text": [
      "Validation RMSE Loss: 9.680201 \n",
      "\n"
     ]
    }
   ],
   "source": [
    "PATH = f\"{target_column}_prediction_model.pt\"\n",
    "assert not os.path.exists(PATH), \"There is a checkpoint already! Remove this assert to override\"\n",
    "torch.save({\n",
    "    'epoch': epochs,\n",
    "    'model_state_dict': net.state_dict(),\n",
    "    'optimizer_state_dict': optimizer.state_dict(),\n",
    "    'loss': test_loop(net, test_dataloader, loss_regr)[\"val_loss\"]\n",
    "},\n",
    "    PATH)"
   ]
  },
  {
   "cell_type": "code",
   "execution_count": null,
   "id": "fadb1f31-3b9e-4967-a7df-e93428a23f75",
   "metadata": {},
   "outputs": [],
   "source": [
    "model = ResNet18(out_channels=8, layer_num=3, fc_regr_hidden=512).to(device)\n",
    "optimizer = torch.optim.Adam(model.parameters(), lr=5e-4)\n",
    "\n",
    "checkpoint = torch.load(PATH)\n",
    "model.load_state_dict(checkpoint['model_state_dict'])\n",
    "optimizer.load_state_dict(checkpoint['optimizer_state_dict'])\n",
    "epoch = checkpoint['epoch']\n",
    "loss = checkpoint['loss']\n",
    "\n",
    "model.eval()"
   ]
  },
  {
   "cell_type": "code",
   "execution_count": null,
   "id": "6a1f469d-ff2c-4b69-b84f-d3a8a5aeb727",
   "metadata": {},
   "outputs": [],
   "source": []
  }
 ],
 "metadata": {
  "kernelspec": {
   "display_name": "Python [conda env:experim] *",
   "language": "python",
   "name": "conda-env-experim-py"
  },
  "language_info": {
   "codemirror_mode": {
    "name": "ipython",
    "version": 3
   },
   "file_extension": ".py",
   "mimetype": "text/x-python",
   "name": "python",
   "nbconvert_exporter": "python",
   "pygments_lexer": "ipython3",
   "version": "3.10.10"
  }
 },
 "nbformat": 4,
 "nbformat_minor": 5
}
