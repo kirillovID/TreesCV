{
 "cells": [
  {
   "cell_type": "code",
   "execution_count": 6,
   "id": "f6b91d3d-f9d4-43af-9ff9-2e86e2223f2a",
   "metadata": {
    "id": "f6b91d3d-f9d4-43af-9ff9-2e86e2223f2a"
   },
   "outputs": [],
   "source": [
    "import gc\n",
    "import matplotlib.pyplot as plt\n",
    "import numpy as np\n",
    "import os\n",
    "import pandas as pd\n",
    "import seaborn as sns\n",
    "import skimage\n",
    "import torch\n",
    "import torch.nn as nn\n",
    "\n",
    "from torch.utils.data import Dataset, DataLoader, random_split, WeightedRandomSampler\n",
    "from torchvision import datasets\n",
    "from torchvision import transforms as tr\n",
    "from torchvision.io import read_image\n",
    "from torchvision import models\n",
    "from tqdm.notebook import tqdm\n",
    "\n",
    "%matplotlib inline"
   ]
  },
  {
   "cell_type": "code",
   "execution_count": 25,
   "id": "e31c43fc-47ab-4a22-b5ec-df10cf443778",
   "metadata": {},
   "outputs": [],
   "source": [
    "BATCH_SIZE = 2"
   ]
  },
  {
   "cell_type": "code",
   "execution_count": 26,
   "id": "prIqXeEKqOe6",
   "metadata": {
    "colab": {
     "base_uri": "https://localhost:8080/"
    },
    "id": "prIqXeEKqOe6",
    "outputId": "0c1ed161-9efd-4430-d5da-5cb6866bf485"
   },
   "outputs": [],
   "source": [
    "# from google.colab import drive\n",
    "# drive.mount('/content/drive')\n",
    "\n",
    "\n",
    "# !cp -R '/content/drive/MyDrive/RGBaHa_26-03-23' './RGBaHa_26-03-23'"
   ]
  },
  {
   "cell_type": "code",
   "execution_count": 27,
   "id": "9c23037c-ec65-47aa-a21f-76e992e92946",
   "metadata": {
    "id": "9c23037c-ec65-47aa-a21f-76e992e92946"
   },
   "outputs": [],
   "source": [
    "device = torch.device('cuda' if torch.cuda.is_available() else 'cpu')"
   ]
  },
  {
   "cell_type": "code",
   "execution_count": 28,
   "id": "66dac31b-2375-45e6-ac1b-9d48f9ac5277",
   "metadata": {
    "id": "66dac31b-2375-45e6-ac1b-9d48f9ac5277"
   },
   "outputs": [],
   "source": [
    "data_folder = \"./RGBaHa_26-03-23\"\n",
    "images_folder = \"RGBaHa\"\n",
    "table_file = \"data.csv\"\n",
    "types_file = \"types.csv\""
   ]
  },
  {
   "cell_type": "code",
   "execution_count": 29,
   "id": "09eeb6ff-11b6-47fd-86ab-6d9367aa30a3",
   "metadata": {
    "id": "09eeb6ff-11b6-47fd-86ab-6d9367aa30a3"
   },
   "outputs": [],
   "source": [
    "target_column = \"hgt\""
   ]
  },
  {
   "cell_type": "code",
   "execution_count": 30,
   "id": "0a346649-aa90-4c73-8ff1-6b94a5270de5",
   "metadata": {
    "id": "0a346649-aa90-4c73-8ff1-6b94a5270de5"
   },
   "outputs": [],
   "source": [
    "class TreeDataset(Dataset):\n",
    "    def __init__(self, imgs_path, table_path, types_path):\n",
    "        super().__init__()\n",
    "        \n",
    "        self.types = pd.read_csv(types_path, index_col=0)\n",
    "        self.table = pd.read_csv(table_path, index_col=0, converters={\"latin\": lambda x: self.types.loc[x].type if x != \"NA\" else np.nan}).dropna()\n",
    "        self.label_map = {label: i for i, label in enumerate(self.table.latin.unique())}\n",
    "        self.table = self.table.replace({\"latin\": self.label_map})\n",
    "        \n",
    "        self.max_h, self.max_w = 0, 0\n",
    "        self.depth_max = 0\n",
    "        images = []\n",
    "        for tree_id in self.table.treeID:\n",
    "            file_path = os.path.join(imgs_path, f\"treeID_{tree_id}.tiff\")\n",
    "            img_rgbd = skimage.io.imread(file_path)[:, :, [0, 1, 2, 4]].transpose(2, 0, 1)[None, :, :, :]\n",
    "            self.max_h = max(self.max_h, img_rgbd.shape[2])\n",
    "            self.max_w = max(self.max_w, img_rgbd.shape[3])\n",
    "            self.depth_max = max(self.depth_max, img_rgbd[:, 3, :, :].max())\n",
    "            images.append(torch.from_numpy(img_rgbd))\n",
    "        \n",
    "        self.channel_mean, self.channel_std = 0, 0\n",
    "        padded_images = []\n",
    "        for image in images:\n",
    "            image[:, :3, :, :] /= 255.\n",
    "            image[:, 3, :, :] /= self.depth_max\n",
    "            self.channel_mean += image.mean(dim=(0, 2, 3))\n",
    "            self.channel_std += image.std(dim=(0, 2, 3))\n",
    "\n",
    "            img_h, img_w = image.shape[2:]\n",
    "            h_pos = (self.max_h - img_h) // 2\n",
    "            w_pos = (self.max_w - img_w) // 2\n",
    "            padded = torch.zeros(1, 4, self.max_h, self.max_w)\n",
    "            padded[:, :, h_pos: h_pos+img_h, w_pos: w_pos+img_w] = image\n",
    "            padded_images.append(padded)            \n",
    "            \n",
    "        self.images = torch.cat(padded_images)\n",
    "        self.channel_mean /= len(self.images)\n",
    "        self.channel_std /= len(self.images)\n",
    "        \n",
    "    def __getitem__(self, index):\n",
    "        x = self.images[index].type(torch.FloatTensor)\n",
    "        y = torch.tensor(self.table.iloc[index].loc[target_column], dtype=torch.float)\n",
    "        return x, y\n",
    "    \n",
    "    def __len__(self):\n",
    "        return len(self.table)"
   ]
  },
  {
   "cell_type": "code",
   "execution_count": 31,
   "id": "91072d67-1e5e-49f6-b298-5bd8003472b6",
   "metadata": {
    "id": "91072d67-1e5e-49f6-b298-5bd8003472b6"
   },
   "outputs": [],
   "source": [
    "class TreeDatasetFromSubset(Dataset):\n",
    "    def __init__(self, subset, all_transform=None, rgb_transform=None):\n",
    "        self.subset = subset\n",
    "        self.all_transform = all_transform\n",
    "        self.rgb_transform = rgb_transform\n",
    "\n",
    "    def __getitem__(self, index):\n",
    "        x, y = self.subset[index]\n",
    "        if self.all_transform:\n",
    "            x = self.all_transform(x)\n",
    "        if self.rgb_transform:\n",
    "            x[:3, :, :] = self.rgb_transform(x[:3, :, :])\n",
    "        return x, y\n",
    "\n",
    "    def __len__(self):\n",
    "        return len(self.subset)"
   ]
  },
  {
   "cell_type": "code",
   "execution_count": 32,
   "id": "fb1f33b1-a984-42f7-9460-19352a0c4067",
   "metadata": {
    "id": "fb1f33b1-a984-42f7-9460-19352a0c4067"
   },
   "outputs": [],
   "source": [
    "data = TreeDataset(os.path.join(data_folder, images_folder), \n",
    "                   os.path.join(data_folder, table_file), \n",
    "                   os.path.join(data_folder, types_file))"
   ]
  },
  {
   "cell_type": "code",
   "execution_count": 33,
   "id": "746a3a5f-9982-4ccc-bbbc-7b8e1e0ac0d4",
   "metadata": {
    "id": "746a3a5f-9982-4ccc-bbbc-7b8e1e0ac0d4"
   },
   "outputs": [],
   "source": [
    "train, val, test = random_split(data, [0.70, 0.20, 0.10])"
   ]
  },
  {
   "cell_type": "code",
   "execution_count": 34,
   "id": "cbdf6da4-2c9b-45fa-a444-f4be15ac2d2f",
   "metadata": {
    "id": "cbdf6da4-2c9b-45fa-a444-f4be15ac2d2f"
   },
   "outputs": [],
   "source": [
    "class AddGaussianNoise(object):\n",
    "    def __init__(self, mean=0., std=0.1):\n",
    "        self.std = std\n",
    "        self.mean = mean\n",
    "\n",
    "    def __call__(self, tensor):\n",
    "        return tensor + torch.randn(tensor.size()) * self.std + self.mean\n",
    "\n",
    "    def __repr__(self):\n",
    "        return self.__class__.__name__ + '(mean={0}, std={1})'.format(self.mean, self.std)"
   ]
  },
  {
   "cell_type": "code",
   "execution_count": 35,
   "id": "3147fc50-4409-42e0-913b-e4183b98d722",
   "metadata": {
    "id": "3147fc50-4409-42e0-913b-e4183b98d722"
   },
   "outputs": [],
   "source": [
    "all_transform = tr.Compose([\n",
    "    tr.Normalize(data.channel_mean, data.channel_std),\n",
    "    tr.RandomHorizontalFlip(),\n",
    "    tr.RandomVerticalFlip(),\n",
    "    tr.RandomAffine(degrees=180),\n",
    "    #tr.RandomApply([AddGaussianNoise(),]),\n",
    "])\n",
    "rgb_transform = tr.Compose([\n",
    "    #tr.RandomAutocontrast(),\n",
    "    #tr.RandomAdjustSharpness(0.5),\n",
    "])\n",
    "\n",
    "prepare_transform = tr.Compose([\n",
    "    tr.Normalize(data.channel_mean, data.channel_std),\n",
    "])"
   ]
  },
  {
   "cell_type": "code",
   "execution_count": 36,
   "id": "8329e489-648f-44a2-9064-33647b61d95a",
   "metadata": {
    "id": "8329e489-648f-44a2-9064-33647b61d95a"
   },
   "outputs": [],
   "source": [
    "train_dataset = TreeDatasetFromSubset(train, all_transform=all_transform, rgb_transform=rgb_transform)\n",
    "val_dataset = TreeDatasetFromSubset(val, all_transform=prepare_transform)"
   ]
  },
  {
   "cell_type": "code",
   "execution_count": 37,
   "id": "434111be-074b-4694-a927-30e4ec6cb5a1",
   "metadata": {
    "colab": {
     "base_uri": "https://localhost:8080/",
     "height": 487
    },
    "id": "434111be-074b-4694-a927-30e4ec6cb5a1",
    "outputId": "1c9ee3b4-7bbe-404b-dd65-2c38fcb99b3a"
   },
   "outputs": [
    {
     "name": "stdout",
     "output_type": "stream",
     "text": [
      "Targets:\n",
      "tensor(24.9300)\n"
     ]
    },
    {
     "name": "stderr",
     "output_type": "stream",
     "text": [
      "Clipping input data to the valid range for imshow with RGB data ([0..1] for floats or [0..255] for integers).\n"
     ]
    },
    {
     "data": {
      "image/png": "[encoded data removed]",
      "text/plain": [
       "<Figure size 640x480 with 1 Axes>"
      ]
     },
     "metadata": {},
     "output_type": "display_data"
    }
   ],
   "source": [
    "print(\"Targets:\")\n",
    "idx = np.random.randint(0, 100)\n",
    "print(train_dataset[idx][1])\n",
    "plt.imshow(train_dataset[idx][0].movedim(0, -1))\n",
    "plt.show()"
   ]
  },
  {
   "cell_type": "code",
   "execution_count": 38,
   "id": "8820daa8-89f4-4703-a7fa-2cafc8702ffe",
   "metadata": {
    "id": "8820daa8-89f4-4703-a7fa-2cafc8702ffe"
   },
   "outputs": [],
   "source": [
    "train_dataloader = DataLoader(\n",
    "    dataset=train_dataset,\n",
    "    batch_size=BATCH_SIZE,\n",
    "    drop_last=True,\n",
    ")\n",
    "\n",
    "val_dataloader = DataLoader(\n",
    "    dataset=val_dataset,\n",
    "    batch_size=BATCH_SIZE,\n",
    "    shuffle=False,\n",
    "    drop_last=False,\n",
    ")"
   ]
  },
  {
   "cell_type": "code",
   "execution_count": 39,
   "id": "Sy0KbeqtKPKc",
   "metadata": {
    "id": "Sy0KbeqtKPKc"
   },
   "outputs": [],
   "source": [
    "class RGBDNet(nn.Module):\n",
    "    def __init__(self, rgb_pretrained=models.efficientnet_v2_s, remaining_layers=1, dropout=0.2):\n",
    "        super().__init__()\n",
    "\n",
    "        self.feature_extractor_rgb = rgb_pretrained(weights=\"DEFAULT\")\n",
    "        for param in self.feature_extractor_rgb.parameters():\n",
    "            param.requires_grad = True\n",
    "        self.feature_extractor_d = rgb_pretrained(weights=\"DEFAULT\")\n",
    "        for param in self.feature_extractor_d.parameters():\n",
    "            param.requires_grad = True\n",
    "\n",
    "        embed_size_rgb = self.feature_extractor_rgb.classifier[1].in_features\n",
    "        embed_size_d = self.feature_extractor_d.classifier[1].in_features\n",
    "\n",
    "        self.feature_extractor_rgb.classifier = nn.Sequential(\n",
    "            nn.Flatten(),\n",
    "            nn.Linear(embed_size_rgb, embed_size_rgb),\n",
    "            nn.BatchNorm1d(embed_size_rgb),\n",
    "            nn.ReLU(),\n",
    "            nn.Dropout(dropout),\n",
    "            nn.Linear(embed_size_rgb, embed_size_rgb),\n",
    "            nn.BatchNorm1d(embed_size_rgb),\n",
    "            nn.ReLU(),\n",
    "        )\n",
    "        self.feature_extractor_d.classifier = nn.Sequential(\n",
    "            nn.Flatten(),\n",
    "            nn.Linear(embed_size_d, embed_size_d),\n",
    "            nn.BatchNorm1d(embed_size_d),\n",
    "            nn.ReLU(),\n",
    "            nn.Dropout(dropout),\n",
    "            nn.Linear(embed_size_d, embed_size_d),\n",
    "            nn.BatchNorm1d(embed_size_d),\n",
    "            nn.ReLU(),\n",
    "        )\n",
    "\n",
    "        self.depth_layer = nn.Conv2d(remaining_layers, 3, kernel_size=(3, 3), stride=(1, 1), padding=(1, 1))\n",
    "        \n",
    "        final_embed_size = embed_size_rgb + embed_size_d\n",
    "        self.regressor = nn.Sequential(\n",
    "            nn.Flatten(),\n",
    "            nn.Linear(final_embed_size, final_embed_size),\n",
    "            nn.BatchNorm1d(final_embed_size),\n",
    "            nn.ReLU(),\n",
    "            nn.Dropout(dropout),\n",
    "            nn.Linear(final_embed_size, 1),\n",
    "        )\n",
    "\n",
    "    def forward(self, x):\n",
    "        rgb = x[:, :3, :, :]\n",
    "        d = x[:, 3:, :, :]\n",
    "\n",
    "        rgb_embed = self.feature_extractor_rgb(rgb)\n",
    "        d_embed = self.feature_extractor_d(self.depth_layer(d))\n",
    "        final_embed = torch.cat((rgb_embed, d_embed), dim=1)\n",
    "\n",
    "        output = self.regressor(final_embed)\n",
    "        return output.squeeze(0)"
   ]
  },
  {
   "cell_type": "code",
   "execution_count": 40,
   "id": "bb6cef09-26d7-44bf-be55-db8aa602b912",
   "metadata": {
    "id": "bb6cef09-26d7-44bf-be55-db8aa602b912"
   },
   "outputs": [],
   "source": [
    "import IPython\n",
    "\n",
    "\n",
    "def train_loop(model, dataloader, loss_regr_fn, optimizer, step=0.05, history_loss=None):\n",
    "    out = display(IPython.display.Pretty('Learning...'), display_id=True)\n",
    "    \n",
    "    size = len(dataloader.dataset)\n",
    "    num_batches = len(dataloader)\n",
    "    \n",
    "    train_loss = []\n",
    "    percentage = 0\n",
    "    \n",
    "    for batch, (X, y_regr) in enumerate(tqdm(dataloader, leave=False, desc=\"Batch #\")):\n",
    "        torch.cuda.empty_cache()\n",
    "        gc.collect()\n",
    "        \n",
    "        X = X.to(device)\n",
    "        y_regr = y_regr.to(device)\n",
    "        pred_regr = model(X)\n",
    "        loss = loss_regr_fn(pred_regr, y_regr)\n",
    "        train_loss.append(loss.item())\n",
    "        \n",
    "        optimizer.zero_grad()\n",
    "        loss.backward()\n",
    "        optimizer.step()\n",
    "        \n",
    "        if batch / (num_batches - 1) >= percentage:\n",
    "            percentage = int(batch / (num_batches - 1) / step) * step\n",
    "            out.update(f'[{int(percentage * size)}/{size}] Batch RMSE Loss: {np.sqrt(loss.item()):>8f}')\n",
    "    \n",
    "    total_loss = np.mean(np.sqrt(train_loss))\n",
    "    if history_loss is not None:\n",
    "        history_loss.append(total_loss)\n",
    "    return {'train_loss': total_loss}\n",
    "\n",
    "\n",
    "def test_loop(model, dataloader, loss_regr_fn, history_loss=None):\n",
    "    size = len(dataloader.dataset)\n",
    "    num_batches = len(dataloader)\n",
    "    \n",
    "    val_loss = []\n",
    "\n",
    "    with torch.no_grad():\n",
    "        for batch, (X, y_regr) in enumerate(tqdm(dataloader, leave=False, desc=\"Batch #\")):\n",
    "            torch.cuda.empty_cache()\n",
    "            gc.collect()\n",
    "        \n",
    "            X = X.to(device)\n",
    "            y_regr = y_regr.to(device)\n",
    "            pred_regr = model(X)\n",
    "            loss = loss_regr_fn(pred_regr, y_regr)\n",
    "            val_loss.append(loss.item())\n",
    "    \n",
    "        total_loss = np.mean(np.sqrt(val_loss))\n",
    "        print(f\"Validation RMSE Loss: {total_loss:>8f} \\n\")\n",
    "\n",
    "    if history_loss is not None:\n",
    "        history_loss.append(total_loss)\n",
    "    return {'val_loss': total_loss}"
   ]
  },
  {
   "cell_type": "code",
   "execution_count": 41,
   "id": "203adf5a-86ad-490b-8ad0-55e61bd1386c",
   "metadata": {
    "id": "203adf5a-86ad-490b-8ad0-55e61bd1386c"
   },
   "outputs": [],
   "source": [
    "def plot_learning_process(train_loss, val_loss, title):\n",
    "    \n",
    "    fig = plt.figure(figsize=(12, 4))\n",
    "    \n",
    "    ax1 = plt.subplot(121)\n",
    "    ax1.plot(np.arange(0, len(train_loss)) + 1, train_loss, label='train')\n",
    "    ax1.plot(np.arange(0, len(val_loss)) + 1, val_loss, label='val')\n",
    "    ax1.legend()\n",
    "    ax1.grid()\n",
    "    ax1.set_xlabel('epoch')\n",
    "    ax1.set_ylabel(title.split()[0])\n",
    "    ax1.set_title(title)\n",
    "    \n",
    "    fig.tight_layout()\n",
    "    plt.show()"
   ]
  },
  {
   "cell_type": "code",
   "execution_count": 42,
   "id": "9c2e5600-f328-45a5-af72-5fa2927d622d",
   "metadata": {
    "colab": {
     "base_uri": "https://localhost:8080/",
     "height": 136,
     "referenced_widgets": [
      "0c7a49884905456197351200a727d253",
      "77eecd7fcfc4430c96c3eb7f30c42bb9",
      "626763f5b937432fab1822196f9f105f",
      "8441454e93534464b2132c567df38e51",
      "459411a14fa2454da0775c659f60462a",
      "8f83f43f920c44a8bce277451084bb40",
      "727380d76d844a04baa67b1e7729fece",
      "3a915e03350b4148b2432ffef6fe30a9",
      "533efcfa5c0e44e7b91e8573cc982c68",
      "96d66a930f684fd1b2514eb7c4f0e879",
      "91b7f94ff4624d7cbc1b8a2f8259562f"
     ]
    },
    "id": "9c2e5600-f328-45a5-af72-5fa2927d622d",
    "outputId": "05876023-2ad1-4105-8122-5a33fb1dc6f5"
   },
   "outputs": [
    {
     "data": {
      "image/png": "[encoded data removed]",
      "text/plain": [
       "<Figure size 1200x400 with 1 Axes>"
      ]
     },
     "metadata": {},
     "output_type": "display_data"
    },
    {
     "name": "stdout",
     "output_type": "stream",
     "text": [
      "Epoch 3\n",
      "-------------------------------\n"
     ]
    },
    {
     "data": {
      "text/plain": [
       "'[127/318] Batch RMSE Loss: 5.934452'"
      ]
     },
     "metadata": {},
     "output_type": "display_data"
    },
    {
     "data": {
      "application/vnd.jupyter.widget-view+json": {
       "model_id": "637c0a8fe40747bf9e9f83f769cd2bdc",
       "version_major": 2,
       "version_minor": 0
      },
      "text/plain": [
       "Batch #:   0%|          | 0/159 [00:00<?, ?it/s]"
      ]
     },
     "metadata": {},
     "output_type": "display_data"
    },
    {
     "ename": "KeyboardInterrupt",
     "evalue": "",
     "output_type": "error",
     "traceback": [
      "\u001b[0;31m---------------------------------------------------------------------------\u001b[0m",
      "\u001b[0;31mKeyboardInterrupt\u001b[0m                         Traceback (most recent call last)",
      "Cell \u001b[0;32mIn[42], line 17\u001b[0m\n\u001b[1;32m     15\u001b[0m \u001b[38;5;28mprint\u001b[39m(\u001b[38;5;124mf\u001b[39m\u001b[38;5;124m\"\u001b[39m\u001b[38;5;124mEpoch \u001b[39m\u001b[38;5;132;01m{\u001b[39;00mepoch\u001b[38;5;241m+\u001b[39m\u001b[38;5;241m1\u001b[39m\u001b[38;5;132;01m}\u001b[39;00m\u001b[38;5;124m\"\u001b[39m)\n\u001b[1;32m     16\u001b[0m \u001b[38;5;28mprint\u001b[39m(\u001b[38;5;124m\"\u001b[39m\u001b[38;5;124m-------------------------------\u001b[39m\u001b[38;5;124m\"\u001b[39m)\n\u001b[0;32m---> 17\u001b[0m \u001b[43mtrain_loop\u001b[49m\u001b[43m(\u001b[49m\u001b[43mnet\u001b[49m\u001b[43m,\u001b[49m\u001b[43m \u001b[49m\u001b[43mtrain_dataloader\u001b[49m\u001b[43m,\u001b[49m\u001b[43m \u001b[49m\u001b[43mloss_regr\u001b[49m\u001b[43m,\u001b[49m\u001b[43m \u001b[49m\u001b[43moptimizer\u001b[49m\u001b[43m,\u001b[49m\u001b[43m \u001b[49m\u001b[43mhistory_loss\u001b[49m\u001b[38;5;241;43m=\u001b[39;49m\u001b[43mtrain_loss\u001b[49m\u001b[43m)\u001b[49m\n\u001b[1;32m     18\u001b[0m test_loop(net, val_dataloader, loss_regr, history_loss\u001b[38;5;241m=\u001b[39mval_loss)\n\u001b[1;32m     19\u001b[0m scheduler\u001b[38;5;241m.\u001b[39mstep(val_loss[\u001b[38;5;241m-\u001b[39m\u001b[38;5;241m1\u001b[39m])\n",
      "Cell \u001b[0;32mIn[40], line 24\u001b[0m, in \u001b[0;36mtrain_loop\u001b[0;34m(model, dataloader, loss_regr_fn, optimizer, step, history_loss)\u001b[0m\n\u001b[1;32m     21\u001b[0m train_loss\u001b[38;5;241m.\u001b[39mappend(loss\u001b[38;5;241m.\u001b[39mitem())\n\u001b[1;32m     23\u001b[0m optimizer\u001b[38;5;241m.\u001b[39mzero_grad()\n\u001b[0;32m---> 24\u001b[0m \u001b[43mloss\u001b[49m\u001b[38;5;241;43m.\u001b[39;49m\u001b[43mbackward\u001b[49m\u001b[43m(\u001b[49m\u001b[43m)\u001b[49m\n\u001b[1;32m     25\u001b[0m optimizer\u001b[38;5;241m.\u001b[39mstep()\n\u001b[1;32m     27\u001b[0m \u001b[38;5;28;01mif\u001b[39;00m batch \u001b[38;5;241m/\u001b[39m (num_batches \u001b[38;5;241m-\u001b[39m \u001b[38;5;241m1\u001b[39m) \u001b[38;5;241m>\u001b[39m\u001b[38;5;241m=\u001b[39m percentage:\n",
      "File \u001b[0;32m~/mambaforge/envs/experim/lib/python3.10/site-packages/torch/_tensor.py:487\u001b[0m, in \u001b[0;36mTensor.backward\u001b[0;34m(self, gradient, retain_graph, create_graph, inputs)\u001b[0m\n\u001b[1;32m    477\u001b[0m \u001b[38;5;28;01mif\u001b[39;00m has_torch_function_unary(\u001b[38;5;28mself\u001b[39m):\n\u001b[1;32m    478\u001b[0m     \u001b[38;5;28;01mreturn\u001b[39;00m handle_torch_function(\n\u001b[1;32m    479\u001b[0m         Tensor\u001b[38;5;241m.\u001b[39mbackward,\n\u001b[1;32m    480\u001b[0m         (\u001b[38;5;28mself\u001b[39m,),\n\u001b[0;32m   (...)\u001b[0m\n\u001b[1;32m    485\u001b[0m         inputs\u001b[38;5;241m=\u001b[39minputs,\n\u001b[1;32m    486\u001b[0m     )\n\u001b[0;32m--> 487\u001b[0m \u001b[43mtorch\u001b[49m\u001b[38;5;241;43m.\u001b[39;49m\u001b[43mautograd\u001b[49m\u001b[38;5;241;43m.\u001b[39;49m\u001b[43mbackward\u001b[49m\u001b[43m(\u001b[49m\n\u001b[1;32m    488\u001b[0m \u001b[43m    \u001b[49m\u001b[38;5;28;43mself\u001b[39;49m\u001b[43m,\u001b[49m\u001b[43m \u001b[49m\u001b[43mgradient\u001b[49m\u001b[43m,\u001b[49m\u001b[43m \u001b[49m\u001b[43mretain_graph\u001b[49m\u001b[43m,\u001b[49m\u001b[43m \u001b[49m\u001b[43mcreate_graph\u001b[49m\u001b[43m,\u001b[49m\u001b[43m \u001b[49m\u001b[43minputs\u001b[49m\u001b[38;5;241;43m=\u001b[39;49m\u001b[43minputs\u001b[49m\n\u001b[1;32m    489\u001b[0m \u001b[43m\u001b[49m\u001b[43m)\u001b[49m\n",
      "File \u001b[0;32m~/mambaforge/envs/experim/lib/python3.10/site-packages/torch/autograd/__init__.py:200\u001b[0m, in \u001b[0;36mbackward\u001b[0;34m(tensors, grad_tensors, retain_graph, create_graph, grad_variables, inputs)\u001b[0m\n\u001b[1;32m    195\u001b[0m     retain_graph \u001b[38;5;241m=\u001b[39m create_graph\n\u001b[1;32m    197\u001b[0m \u001b[38;5;66;03m# The reason we repeat same the comment below is that\u001b[39;00m\n\u001b[1;32m    198\u001b[0m \u001b[38;5;66;03m# some Python versions print out the first line of a multi-line function\u001b[39;00m\n\u001b[1;32m    199\u001b[0m \u001b[38;5;66;03m# calls in the traceback and some print out the last line\u001b[39;00m\n\u001b[0;32m--> 200\u001b[0m \u001b[43mVariable\u001b[49m\u001b[38;5;241;43m.\u001b[39;49m\u001b[43m_execution_engine\u001b[49m\u001b[38;5;241;43m.\u001b[39;49m\u001b[43mrun_backward\u001b[49m\u001b[43m(\u001b[49m\u001b[43m  \u001b[49m\u001b[38;5;66;43;03m# Calls into the C++ engine to run the backward pass\u001b[39;49;00m\n\u001b[1;32m    201\u001b[0m \u001b[43m    \u001b[49m\u001b[43mtensors\u001b[49m\u001b[43m,\u001b[49m\u001b[43m \u001b[49m\u001b[43mgrad_tensors_\u001b[49m\u001b[43m,\u001b[49m\u001b[43m \u001b[49m\u001b[43mretain_graph\u001b[49m\u001b[43m,\u001b[49m\u001b[43m \u001b[49m\u001b[43mcreate_graph\u001b[49m\u001b[43m,\u001b[49m\u001b[43m \u001b[49m\u001b[43minputs\u001b[49m\u001b[43m,\u001b[49m\n\u001b[1;32m    202\u001b[0m \u001b[43m    \u001b[49m\u001b[43mallow_unreachable\u001b[49m\u001b[38;5;241;43m=\u001b[39;49m\u001b[38;5;28;43;01mTrue\u001b[39;49;00m\u001b[43m,\u001b[49m\u001b[43m \u001b[49m\u001b[43maccumulate_grad\u001b[49m\u001b[38;5;241;43m=\u001b[39;49m\u001b[38;5;28;43;01mTrue\u001b[39;49;00m\u001b[43m)\u001b[49m\n",
      "\u001b[0;31mKeyboardInterrupt\u001b[0m: "
     ]
    }
   ],
   "source": [
    "loss_regr = nn.MSELoss()\n",
    "\n",
    "\n",
    "epochs = 50\n",
    "\n",
    "models_results = {}\n",
    "net = RGBDNet().to(device)\n",
    "optimizer = torch.optim.Adam(net.parameters(), lr=1e-4)\n",
    "scheduler = torch.optim.lr_scheduler.ReduceLROnPlateau(optimizer, 'min', factor=0.1, patience=5, min_lr=1e-7)\n",
    "\n",
    "train_loss = []\n",
    "val_loss = []\n",
    "\n",
    "for epoch in range(epochs):\n",
    "    print(f\"Epoch {epoch+1}\")\n",
    "    print(\"-------------------------------\")\n",
    "    train_loop(net, train_dataloader, loss_regr, optimizer, history_loss=train_loss)\n",
    "    test_loop(net, val_dataloader, loss_regr, history_loss=val_loss)\n",
    "    scheduler.step(val_loss[-1])\n",
    "    IPython.display.clear_output()\n",
    "    plot_learning_process(train_loss, val_loss, f\"RMSE of {target_column} prediction\")"
   ]
  },
  {
   "cell_type": "code",
   "execution_count": null,
   "id": "0TKLFnbB9IVS",
   "metadata": {
    "id": "0TKLFnbB9IVS"
   },
   "outputs": [],
   "source": [
    "models_results[f\"train_{target_column}_RMSE\"] = train_loss\n",
    "models_results[f\"val_{target_column}_RMSE\"] = val_loss"
   ]
  },
  {
   "cell_type": "code",
   "execution_count": null,
   "id": "f8b21367-e782-419c-b63f-a2eb546b9fff",
   "metadata": {
    "id": "f8b21367-e782-419c-b63f-a2eb546b9fff"
   },
   "outputs": [],
   "source": [
    "results_df = pd.DataFrame(models_results)"
   ]
  },
  {
   "cell_type": "code",
   "execution_count": null,
   "id": "ygnfh1cn-Ryr",
   "metadata": {
    "id": "ygnfh1cn-Ryr"
   },
   "outputs": [],
   "source": [
    "results_df.index.name = \"Epoch\"\n",
    "results_df.index = results_df.index + 1\n",
    "results_df.dropna()"
   ]
  },
  {
   "cell_type": "code",
   "execution_count": null,
   "id": "53axpkvncVvw",
   "metadata": {
    "id": "53axpkvncVvw"
   },
   "outputs": [],
   "source": [
    "plot_learning_process(\n",
    "    models_results[f\"train_{target_column}_RMSE\"], \n",
    "    models_results[f\"val_{target_column}_RMSE\"], \n",
    "    f\"RMSE of {target_column} prediction\"\n",
    ")"
   ]
  },
  {
   "cell_type": "code",
   "execution_count": null,
   "id": "367550fa-e15a-4059-93cd-69a025635239",
   "metadata": {
    "id": "367550fa-e15a-4059-93cd-69a025635239"
   },
   "outputs": [],
   "source": [
    "test_dataset = TreeDatasetFromSubset(test, prepare_transform)\n",
    "test_dataloader = DataLoader(\n",
    "    dataset=test_dataset,\n",
    "    batch_size=BATCH_SIZE,\n",
    "    shuffle=False,\n",
    "    drop_last=False,\n",
    ")"
   ]
  },
  {
   "cell_type": "code",
   "execution_count": null,
   "id": "1b2a2a2d-5055-4de7-b3fc-50444272ad18",
   "metadata": {
    "id": "1b2a2a2d-5055-4de7-b3fc-50444272ad18"
   },
   "outputs": [],
   "source": [
    "PATH = f\"{target_column}_prediction_model.pt\"\n",
    "assert not os.path.exists(PATH), \"There is a checkpoint already! Remove this assert to override\"\n",
    "test_results = test_loop(net, test_dataloader, loss_regr)\n",
    "torch.save({\n",
    "    'epoch': epochs,\n",
    "    'model_state_dict': net.state_dict(),\n",
    "    'optimizer_state_dict': optimizer.state_dict(),\n",
    "    'loss': test_results[\"val_loss\"]\n",
    "},\n",
    "    PATH)"
   ]
  },
  {
   "cell_type": "code",
   "execution_count": null,
   "id": "702f0d2b-b2a7-45c8-b092-61baeaf4053b",
   "metadata": {
    "id": "702f0d2b-b2a7-45c8-b092-61baeaf4053b"
   },
   "outputs": [],
   "source": [
    "# model = RGBDNet().to(device)\n",
    "# optimizer = torch.optim.Adam(model.parameters(), lr=1e-4)\n",
    "\n",
    "# checkpoint = torch.load(PATH)\n",
    "# model.load_state_dict(checkpoint['model_state_dict'])\n",
    "# optimizer.load_state_dict(checkpoint['optimizer_state_dict'])\n",
    "# epoch = checkpoint['epoch']\n",
    "# loss = checkpoint['loss']\n",
    "\n",
    "# model.eval()"
   ]
  },
  {
   "cell_type": "code",
   "execution_count": null,
   "id": "GDfW5gQV51gN",
   "metadata": {
    "id": "GDfW5gQV51gN"
   },
   "outputs": [],
   "source": [
    "#!apt-get install texlive texlive-xetex texlive-latex-extra pandoc\n",
    "#!pip install pypandoc\n",
    "#!jupyter nbconvert --to pdf /content/ResNetClf.ipynb"
   ]
  }
 ],
 "metadata": {
  "accelerator": "GPU",
  "colab": {
   "provenance": []
  },
  "gpuClass": "standard",
  "kernelspec": {
   "display_name": "Python 3 (ipykernel)",
   "language": "python",
   "name": "python3"
  },
  "language_info": {
   "codemirror_mode": {
    "name": "ipython",
    "version": 3
   },
   "file_extension": ".py",
   "mimetype": "text/x-python",
   "name": "python",
   "nbconvert_exporter": "python",
   "pygments_lexer": "ipython3",
   "version": "3.10.10"
  }
 },
 "nbformat": 4,
 "nbformat_minor": 5
}
