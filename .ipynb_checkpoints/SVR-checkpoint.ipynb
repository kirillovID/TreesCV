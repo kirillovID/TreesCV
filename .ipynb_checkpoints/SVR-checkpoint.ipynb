{
 "cells": [
  {
   "cell_type": "code",
   "execution_count": 1,
   "id": "162166c5-6791-46b5-9182-ec2e2b95e864",
   "metadata": {
    "id": "f6b91d3d-f9d4-43af-9ff9-2e86e2223f2a"
   },
   "outputs": [],
   "source": [
    "import fast_glcm\n",
    "import gc\n",
    "import matplotlib.pyplot as plt\n",
    "import numpy as np\n",
    "import os\n",
    "import pandas as pd\n",
    "import seaborn as sns\n",
    "import skimage\n",
    "import torch\n",
    "import torch.nn as nn\n",
    "\n",
    "from joblib import Parallel, delayed\n",
    "from sklearn.metrics import mean_squared_error\n",
    "from sklearn.model_selection import KFold\n",
    "from sklearn.preprocessing import StandardScaler\n",
    "from sklearn.svm import SVR\n",
    "from torch.utils.data import Dataset, DataLoader, random_split, WeightedRandomSampler\n",
    "from torchvision import datasets\n",
    "from torchvision import transforms as tr\n",
    "from torchvision.io import read_image\n",
    "from torchvision import models\n",
    "from tqdm.notebook import tqdm, trange\n",
    "\n",
    "%matplotlib inline"
   ]
  },
  {
   "cell_type": "code",
   "execution_count": 2,
   "id": "5a8f724c-a8f4-4102-bd07-9b27d93f9d16",
   "metadata": {
    "id": "9c23037c-ec65-47aa-a21f-76e992e92946"
   },
   "outputs": [],
   "source": [
    "device = torch.device('cuda' if torch.cuda.is_available() else 'cpu')"
   ]
  },
  {
   "cell_type": "code",
   "execution_count": 3,
   "id": "f4985f7d-6161-40e5-80f5-d2c457a7f5d4",
   "metadata": {},
   "outputs": [],
   "source": [
    "BASE_PATH = \"./RGBReNirH\"\n",
    "\n",
    "IMAGES_PATH = os.path.join(BASE_PATH, \"images\")\n",
    "TABLE_PATH = os.path.join(BASE_PATH, \"data.csv\")\n",
    "TYPES_PATH = os.path.join(BASE_PATH, \"types.csv\")"
   ]
  },
  {
   "cell_type": "code",
   "execution_count": 4,
   "id": "747abd81-d1fc-4418-995b-5dbc59269a8c",
   "metadata": {
    "id": "09eeb6ff-11b6-47fd-86ab-6d9367aa30a3"
   },
   "outputs": [],
   "source": [
    "TARGET_COLUMN = \"dbh\""
   ]
  },
  {
   "cell_type": "code",
   "execution_count": 5,
   "id": "64fb4b33-1113-4e8e-a36c-1ee0fc38b026",
   "metadata": {
    "id": "0a346649-aa90-4c73-8ff1-6b94a5270de5"
   },
   "outputs": [],
   "source": [
    "class TreeDataset(Dataset):\n",
    "    def __init__(self, imgs_path=IMAGES_PATH, table_path=TABLE_PATH, types_path=TYPES_PATH, target_column=TARGET_COLUMN):\n",
    "        super().__init__()\n",
    "        \n",
    "        self.types = pd.read_csv(types_path, index_col=0)\n",
    "        self.table = pd.read_csv(table_path, index_col=0, converters={\"latin\": lambda x: self.types.loc[x].type if x != \"NA\" else np.nan}).dropna()\n",
    "        self.label_map = {label: i for i, label in enumerate(self.table.latin.unique())}\n",
    "        self.table = self.table.replace({\"latin\": self.label_map})\n",
    "        self.target_column = target_column\n",
    "        \n",
    "        self.max_h, self.max_w = 0, 0\n",
    "        self.depth_max = 0\n",
    "        self.re_max = 0\n",
    "        self.nir_max = 0\n",
    "        images = []\n",
    "        for tree_id in self.table.treeID:\n",
    "            file_path = os.path.join(imgs_path, f\"treeID_{tree_id}.tif\")\n",
    "            img_rgbdrenir = skimage.io.imread(file_path)[:, :, [0, 1, 2, 5, 3, 4]].clip(0).transpose(2, 0, 1)[None, :, :, :]\n",
    "            self.max_h = max(self.max_h, img_rgbdrenir.shape[2])\n",
    "            self.max_w = max(self.max_w, img_rgbdrenir.shape[3])\n",
    "            self.depth_max = max(self.depth_max, img_rgbdrenir[:, 3, :, :].max())\n",
    "            self.re_max = max(self.re_max, img_rgbdrenir[:, 4, :, :].max())\n",
    "            self.nir_max = max(self.nir_max, img_rgbdrenir[:, 5, :, :].max())\n",
    "            img_rgbdrenir[:, :3, :, :] /= 255\n",
    "            images.append(img_rgbdrenir)\n",
    "        \n",
    "#         self.channel_mean, self.channel_std = 0, 0\n",
    "#         padded_images = []\n",
    "#         for image in images:\n",
    "#             image[:, :3, :, :] /= 255.\n",
    "#             image[:, 3, :, :] /= self.depth_max\n",
    "#             image[:, 4, :, :] /= self.re_max\n",
    "#             image[:, 5, :, :] /= self.nir_max\n",
    "#             self.channel_mean += image.mean(axis=(0, 2, 3))\n",
    "#             self.channel_std += image.std(axis=(0, 2, 3))\n",
    "\n",
    "#             img_h, img_w = image.shape[2:]\n",
    "#             h_pos = (self.max_h - img_h) // 2\n",
    "#             w_pos = (self.max_w - img_w) // 2\n",
    "#             padded = np.zeros((1, 6, self.max_h, self.max_w))\n",
    "#             padded[:, :, h_pos: h_pos+img_h, w_pos: w_pos+img_w] = image\n",
    "#             padded_images.append(image)\n",
    "\n",
    "        self.images = images # np.concatenate(padded_images)\n",
    "        # self.channel_mean /= len(self.images)\n",
    "        # self.channel_std /= len(self.images)\n",
    "        \n",
    "    def __getitem__(self, index):\n",
    "        x = self.images[index]\n",
    "        y = self.table[self.target_column].values[index]\n",
    "        return x, y\n",
    "    \n",
    "    def __len__(self):\n",
    "        return len(self.table)"
   ]
  },
  {
   "cell_type": "code",
   "execution_count": 6,
   "id": "26b3712f-0af7-4150-981c-d385bd474d04",
   "metadata": {
    "id": "91072d67-1e5e-49f6-b298-5bd8003472b6"
   },
   "outputs": [],
   "source": [
    "class TreeDatasetFromSubset(Dataset):\n",
    "    def __init__(self, subset, all_transform=None, rgb_transform=None):\n",
    "        self.subset = subset\n",
    "        self.all_transform = all_transform\n",
    "        self.rgb_transform = rgb_transform\n",
    "\n",
    "    def __getitem__(self, index):\n",
    "        x, y = self.subset[index]\n",
    "        if self.all_transform:\n",
    "            x = self.all_transform(x)\n",
    "        if self.rgb_transform:\n",
    "            x[:3, :, :] = self.rgb_transform(x[:3, :, :])\n",
    "        return x, y\n",
    "\n",
    "    def __len__(self):\n",
    "        return len(self.subset)"
   ]
  },
  {
   "cell_type": "code",
   "execution_count": 7,
   "id": "2c86aab3-7d1e-450a-bd97-79194eeb6607",
   "metadata": {
    "id": "fb1f33b1-a984-42f7-9460-19352a0c4067"
   },
   "outputs": [],
   "source": [
    "data = TreeDataset()"
   ]
  },
  {
   "cell_type": "code",
   "execution_count": 10,
   "id": "e1bfe9d5-0d51-48b6-b548-b94b850655f4",
   "metadata": {
    "id": "0a346649-aa90-4c73-8ff1-6b94a5270de5"
   },
   "outputs": [],
   "source": [
    "def extract_image_features(image, levels=8, ks=1):\n",
    "    image = np.squeeze(image)\n",
    "    features = []\n",
    "    features.extend(np.mean(image, axis=(1, 2)))\n",
    "    features.extend(np.std(image, axis=(1, 2)))\n",
    "\n",
    "    gray_image = skimage.color.rgb2gray(np.moveaxis(image[:3, :, :], 0, -1))\n",
    "    gray_image = skimage.util.img_as_ubyte(gray_image)\n",
    "\n",
    "    asms = fast_glcm.fast_glcm_ASM(gray_image, levels=levels, ks=ks)\n",
    "    contrasts = fast_glcm.fast_glcm_contrast(gray_image, levels=levels, ks=ks)\n",
    "    dissimilarities = fast_glcm.fast_glcm_dissimilarity(gray_image, levels=levels, ks=ks)\n",
    "    entropies = fast_glcm.fast_glcm_entropy(gray_image, levels=levels, ks=ks)\n",
    "    homogeneities = fast_glcm.fast_glcm_homogeneity(gray_image, levels=levels, ks=ks)\n",
    "\n",
    "    features.append(np.mean(asms))\n",
    "    features.append(np.mean(contrasts))\n",
    "    features.append(np.mean(dissimilarities))\n",
    "    features.append(np.mean(entropies))\n",
    "    features.append(np.mean(homogeneities))\n",
    "\n",
    "    features.append(np.std(asms))\n",
    "    features.append(np.std(contrasts))\n",
    "    features.append(np.std(dissimilarities))\n",
    "    features.append(np.std(entropies))\n",
    "    features.append(np.std(homogeneities))\n",
    "\n",
    "    features.extend(image.max(axis=(1, 2)))\n",
    "    features.extend(np.where(image > 0, image, np.inf).min(axis=(1, 2)))\n",
    "    features.append(np.sum(image[3, :, :] > 0) / (image.shape[1] * image.shape[2]))\n",
    "    axis_0, axis_1 = image[3, :, :].nonzero()\n",
    "    features.append(axis_0[-1] - axis_0[0])\n",
    "    features.append(axis_1[-1] - axis_1[0])\n",
    "    return features"
   ]
  },
  {
   "cell_type": "code",
   "execution_count": 11,
   "id": "2a51b01d-ad01-4819-a70f-e1d0570c1a81",
   "metadata": {},
   "outputs": [
    {
     "data": {
      "application/vnd.jupyter.widget-view+json": {
       "model_id": "3dc3ecaff2dd4515ab3ed9c7163766de",
       "version_major": 2,
       "version_minor": 0
      },
      "text/plain": [
       "  0%|          | 0/512 [00:00<?, ?it/s]"
      ]
     },
     "metadata": {},
     "output_type": "display_data"
    },
    {
     "data": {
      "application/vnd.jupyter.widget-view+json": {
       "model_id": "680b065d03624222a0270723562aff6e",
       "version_major": 2,
       "version_minor": 0
      },
      "text/plain": [
       "  0%|          | 0/512 [00:00<?, ?it/s]"
      ]
     },
     "metadata": {},
     "output_type": "display_data"
    }
   ],
   "source": [
    "rand_ks = 61\n",
    "X = np.array(Parallel(n_jobs=-1)(delayed(extract_image_features)(img, ks=rand_ks) for (img, _) in tqdm(data)))\n",
    "y = np.array([target for (_, target) in tqdm(data)])"
   ]
  },
  {
   "cell_type": "code",
   "execution_count": 19,
   "id": "9a560897-38d6-4760-a965-9483afb949fe",
   "metadata": {},
   "outputs": [],
   "source": [
    "# ks_list = [2*i + 1 for i in range(19, 26)]\n",
    "# C_list = [10**i for i in range(0, 6)]\n",
    "# gamma_list = [10**-i for i in range(0, 6)]\n",
    "\n",
    "\n",
    "kf = KFold(shuffle=True)\n",
    "results_table = []\n",
    "\n",
    "rand_C = 10\n",
    "rand_gamma = 0.01\n",
    "cv_scores = []\n",
    "\n",
    "for i, (train_index, val_index) in enumerate(kf.split(X)):\n",
    "    X_train = X[train_index]\n",
    "    y_train = y[train_index]\n",
    "\n",
    "    X_val = X[val_index]\n",
    "    y_val = y[val_index]\n",
    "\n",
    "    scaler = StandardScaler()\n",
    "    X_train_scaled = scaler.fit_transform(X_train)\n",
    "    X_val_scaled = scaler.transform(X_val)\n",
    "\n",
    "    svc = SVR(C=rand_C, gamma=rand_gamma)\n",
    "    svc.fit(X_train_scaled, y_train)\n",
    "    cv_scores.append(mean_squared_error(y_val, svc.predict(X_val_scaled), squared=False))\n",
    "\n",
    "    results_table.append({\n",
    "        \"ks\": rand_ks,\n",
    "        \"C\": rand_C,\n",
    "        \"gamma\": rand_gamma,\n",
    "        \"rmse\": np.mean(cv_scores)\n",
    "    })"
   ]
  },
  {
   "cell_type": "code",
   "execution_count": 20,
   "id": "e572008e-f133-4261-9c40-b5ca2919f453",
   "metadata": {},
   "outputs": [
    {
     "data": {
      "text/html": [
       "<div>\n",
       "<style scoped>\n",
       "    .dataframe tbody tr th:only-of-type {\n",
       "        vertical-align: middle;\n",
       "    }\n",
       "\n",
       "    .dataframe tbody tr th {\n",
       "        vertical-align: top;\n",
       "    }\n",
       "\n",
       "    .dataframe thead th {\n",
       "        text-align: right;\n",
       "    }\n",
       "</style>\n",
       "<table border=\"1\" class=\"dataframe\">\n",
       "  <thead>\n",
       "    <tr style=\"text-align: right;\">\n",
       "      <th></th>\n",
       "      <th>ks</th>\n",
       "      <th>C</th>\n",
       "      <th>gamma</th>\n",
       "      <th>rmse</th>\n",
       "    </tr>\n",
       "  </thead>\n",
       "  <tbody>\n",
       "    <tr>\n",
       "      <th>0</th>\n",
       "      <td>61</td>\n",
       "      <td>10</td>\n",
       "      <td>0.01</td>\n",
       "      <td>11.313106</td>\n",
       "    </tr>\n",
       "    <tr>\n",
       "      <th>1</th>\n",
       "      <td>61</td>\n",
       "      <td>10</td>\n",
       "      <td>0.01</td>\n",
       "      <td>11.240313</td>\n",
       "    </tr>\n",
       "    <tr>\n",
       "      <th>2</th>\n",
       "      <td>61</td>\n",
       "      <td>10</td>\n",
       "      <td>0.01</td>\n",
       "      <td>11.853986</td>\n",
       "    </tr>\n",
       "    <tr>\n",
       "      <th>3</th>\n",
       "      <td>61</td>\n",
       "      <td>10</td>\n",
       "      <td>0.01</td>\n",
       "      <td>12.046429</td>\n",
       "    </tr>\n",
       "    <tr>\n",
       "      <th>4</th>\n",
       "      <td>61</td>\n",
       "      <td>10</td>\n",
       "      <td>0.01</td>\n",
       "      <td>11.601615</td>\n",
       "    </tr>\n",
       "  </tbody>\n",
       "</table>\n",
       "</div>"
      ],
      "text/plain": [
       "   ks   C  gamma       rmse\n",
       "0  61  10   0.01  11.313106\n",
       "1  61  10   0.01  11.240313\n",
       "2  61  10   0.01  11.853986\n",
       "3  61  10   0.01  12.046429\n",
       "4  61  10   0.01  11.601615"
      ]
     },
     "execution_count": 20,
     "metadata": {},
     "output_type": "execute_result"
    }
   ],
   "source": [
    "pd.DataFrame(results_table)"
   ]
  },
  {
   "cell_type": "code",
   "execution_count": null,
   "id": "abdf1f86-0d05-4fcb-b8d3-caf883c684fa",
   "metadata": {},
   "outputs": [],
   "source": []
  }
 ],
 "metadata": {
  "kernelspec": {
   "display_name": "Python [conda env:experim] *",
   "language": "python",
   "name": "conda-env-experim-py"
  },
  "language_info": {
   "codemirror_mode": {
    "name": "ipython",
    "version": 3
   },
   "file_extension": ".py",
   "mimetype": "text/x-python",
   "name": "python",
   "nbconvert_exporter": "python",
   "pygments_lexer": "ipython3",
   "version": "3.10.10"
  }
 },
 "nbformat": 4,
 "nbformat_minor": 5
}
